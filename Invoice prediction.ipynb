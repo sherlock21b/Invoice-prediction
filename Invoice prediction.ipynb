{
 "cells": [
  {
   "cell_type": "markdown",
   "id": "50ec6cb7",
   "metadata": {},
   "source": [
    "# Payment Date Prediction"
   ]
  },
  {
   "cell_type": "markdown",
   "id": "7d05abd1",
   "metadata": {},
   "source": [
    "## H2HBABBA2452 Ritik Banerjee House Chandler"
   ]
  },
  {
   "cell_type": "code",
   "execution_count": 1,
   "id": "1332a061",
   "metadata": {},
   "outputs": [],
   "source": [
    "import pandas as pd\n",
    "import numpy as np\n",
    "import  matplotlib.pyplot as plt\n",
    "import seaborn as sns\n",
    "import sklearn\n",
    "%matplotlib inline\n",
    "import warnings\n",
    "warnings.filterwarnings(\"ignore\")"
   ]
  },
  {
   "cell_type": "code",
   "execution_count": 2,
   "id": "88c36b29",
   "metadata": {},
   "outputs": [
    {
     "data": {
      "text/html": [
       "<div>\n",
       "<style scoped>\n",
       "    .dataframe tbody tr th:only-of-type {\n",
       "        vertical-align: middle;\n",
       "    }\n",
       "\n",
       "    .dataframe tbody tr th {\n",
       "        vertical-align: top;\n",
       "    }\n",
       "\n",
       "    .dataframe thead th {\n",
       "        text-align: right;\n",
       "    }\n",
       "</style>\n",
       "<table border=\"1\" class=\"dataframe\">\n",
       "  <thead>\n",
       "    <tr style=\"text-align: right;\">\n",
       "      <th></th>\n",
       "      <th>business_code</th>\n",
       "      <th>cust_number</th>\n",
       "      <th>name_customer</th>\n",
       "      <th>clear_date</th>\n",
       "      <th>buisness_year</th>\n",
       "      <th>doc_id</th>\n",
       "      <th>posting_date</th>\n",
       "      <th>document_create_date</th>\n",
       "      <th>document_create_date.1</th>\n",
       "      <th>due_in_date</th>\n",
       "      <th>invoice_currency</th>\n",
       "      <th>document type</th>\n",
       "      <th>posting_id</th>\n",
       "      <th>area_business</th>\n",
       "      <th>total_open_amount</th>\n",
       "      <th>baseline_create_date</th>\n",
       "      <th>cust_payment_terms</th>\n",
       "      <th>invoice_id</th>\n",
       "      <th>isOpen</th>\n",
       "    </tr>\n",
       "  </thead>\n",
       "  <tbody>\n",
       "    <tr>\n",
       "      <th>0</th>\n",
       "      <td>U001</td>\n",
       "      <td>0200769623</td>\n",
       "      <td>WAL-MAR in</td>\n",
       "      <td>2019-07-25 00:00:00</td>\n",
       "      <td>2019.0</td>\n",
       "      <td>1.929612e+09</td>\n",
       "      <td>2019-07-15</td>\n",
       "      <td>20190712</td>\n",
       "      <td>20190715</td>\n",
       "      <td>20190730.0</td>\n",
       "      <td>USD</td>\n",
       "      <td>RV</td>\n",
       "      <td>1.0</td>\n",
       "      <td>NaN</td>\n",
       "      <td>15426.79</td>\n",
       "      <td>20190715.0</td>\n",
       "      <td>NAH4</td>\n",
       "      <td>1.929612e+09</td>\n",
       "      <td>0</td>\n",
       "    </tr>\n",
       "    <tr>\n",
       "      <th>1</th>\n",
       "      <td>U001</td>\n",
       "      <td>0200782001</td>\n",
       "      <td>GORDO associates</td>\n",
       "      <td>2019-04-30 00:00:00</td>\n",
       "      <td>2019.0</td>\n",
       "      <td>1.929120e+09</td>\n",
       "      <td>2019-04-10</td>\n",
       "      <td>20190410</td>\n",
       "      <td>20190410</td>\n",
       "      <td>20190425.0</td>\n",
       "      <td>USD</td>\n",
       "      <td>RV</td>\n",
       "      <td>1.0</td>\n",
       "      <td>NaN</td>\n",
       "      <td>22297.05</td>\n",
       "      <td>20190410.0</td>\n",
       "      <td>NAA8</td>\n",
       "      <td>1.929120e+09</td>\n",
       "      <td>0</td>\n",
       "    </tr>\n",
       "    <tr>\n",
       "      <th>2</th>\n",
       "      <td>U001</td>\n",
       "      <td>0200706844</td>\n",
       "      <td>WINC corp</td>\n",
       "      <td>2020-02-14 00:00:00</td>\n",
       "      <td>2020.0</td>\n",
       "      <td>1.930458e+09</td>\n",
       "      <td>2020-01-30</td>\n",
       "      <td>20200130</td>\n",
       "      <td>20200130</td>\n",
       "      <td>20200214.0</td>\n",
       "      <td>USD</td>\n",
       "      <td>RV</td>\n",
       "      <td>1.0</td>\n",
       "      <td>NaN</td>\n",
       "      <td>50748.00</td>\n",
       "      <td>20200130.0</td>\n",
       "      <td>NAA8</td>\n",
       "      <td>1.930458e+09</td>\n",
       "      <td>0</td>\n",
       "    </tr>\n",
       "    <tr>\n",
       "      <th>3</th>\n",
       "      <td>U001</td>\n",
       "      <td>CCCA02</td>\n",
       "      <td>KRAFT  associates</td>\n",
       "      <td>2019-09-27 00:00:00</td>\n",
       "      <td>2019.0</td>\n",
       "      <td>1.929776e+09</td>\n",
       "      <td>2019-08-22</td>\n",
       "      <td>20190822</td>\n",
       "      <td>20190822</td>\n",
       "      <td>20190926.0</td>\n",
       "      <td>USD</td>\n",
       "      <td>RV</td>\n",
       "      <td>1.0</td>\n",
       "      <td>NaN</td>\n",
       "      <td>752.72</td>\n",
       "      <td>20190822.0</td>\n",
       "      <td>NAG2</td>\n",
       "      <td>1.929776e+09</td>\n",
       "      <td>0</td>\n",
       "    </tr>\n",
       "    <tr>\n",
       "      <th>4</th>\n",
       "      <td>U001</td>\n",
       "      <td>0200769623</td>\n",
       "      <td>WAL-MAR us</td>\n",
       "      <td>2019-01-30 00:00:00</td>\n",
       "      <td>2019.0</td>\n",
       "      <td>1.928648e+09</td>\n",
       "      <td>2019-01-19</td>\n",
       "      <td>20190119</td>\n",
       "      <td>20190119</td>\n",
       "      <td>20190203.0</td>\n",
       "      <td>USD</td>\n",
       "      <td>RV</td>\n",
       "      <td>1.0</td>\n",
       "      <td>NaN</td>\n",
       "      <td>35892.12</td>\n",
       "      <td>20190119.0</td>\n",
       "      <td>NAH4</td>\n",
       "      <td>1.928648e+09</td>\n",
       "      <td>0</td>\n",
       "    </tr>\n",
       "  </tbody>\n",
       "</table>\n",
       "</div>"
      ],
      "text/plain": [
       "  business_code cust_number      name_customer           clear_date  \\\n",
       "0          U001  0200769623         WAL-MAR in  2019-07-25 00:00:00   \n",
       "1          U001  0200782001   GORDO associates  2019-04-30 00:00:00   \n",
       "2          U001  0200706844          WINC corp  2020-02-14 00:00:00   \n",
       "3          U001      CCCA02  KRAFT  associates  2019-09-27 00:00:00   \n",
       "4          U001  0200769623         WAL-MAR us  2019-01-30 00:00:00   \n",
       "\n",
       "   buisness_year        doc_id posting_date  document_create_date  \\\n",
       "0         2019.0  1.929612e+09   2019-07-15              20190712   \n",
       "1         2019.0  1.929120e+09   2019-04-10              20190410   \n",
       "2         2020.0  1.930458e+09   2020-01-30              20200130   \n",
       "3         2019.0  1.929776e+09   2019-08-22              20190822   \n",
       "4         2019.0  1.928648e+09   2019-01-19              20190119   \n",
       "\n",
       "   document_create_date.1  due_in_date invoice_currency document type  \\\n",
       "0                20190715   20190730.0              USD            RV   \n",
       "1                20190410   20190425.0              USD            RV   \n",
       "2                20200130   20200214.0              USD            RV   \n",
       "3                20190822   20190926.0              USD            RV   \n",
       "4                20190119   20190203.0              USD            RV   \n",
       "\n",
       "   posting_id  area_business  total_open_amount  baseline_create_date  \\\n",
       "0         1.0            NaN           15426.79            20190715.0   \n",
       "1         1.0            NaN           22297.05            20190410.0   \n",
       "2         1.0            NaN           50748.00            20200130.0   \n",
       "3         1.0            NaN             752.72            20190822.0   \n",
       "4         1.0            NaN           35892.12            20190119.0   \n",
       "\n",
       "  cust_payment_terms    invoice_id  isOpen  \n",
       "0               NAH4  1.929612e+09       0  \n",
       "1               NAA8  1.929120e+09       0  \n",
       "2               NAA8  1.930458e+09       0  \n",
       "3               NAG2  1.929776e+09       0  \n",
       "4               NAH4  1.928648e+09       0  "
      ]
     },
     "execution_count": 2,
     "metadata": {},
     "output_type": "execute_result"
    }
   ],
   "source": [
    "#First we import the given data set\n",
    "data=pd.read_csv(\"H2HBABBA2452.csv\")\n",
    "data.head()"
   ]
  },
  {
   "cell_type": "code",
   "execution_count": 3,
   "id": "7c672a8f",
   "metadata": {},
   "outputs": [
    {
     "data": {
      "text/plain": [
       "business_code                 0\n",
       "cust_number                   0\n",
       "name_customer                 0\n",
       "clear_date                10000\n",
       "buisness_year                 0\n",
       "doc_id                        0\n",
       "posting_date                  0\n",
       "document_create_date          0\n",
       "document_create_date.1        0\n",
       "due_in_date                   0\n",
       "invoice_currency              0\n",
       "document type                 0\n",
       "posting_id                    0\n",
       "area_business             50000\n",
       "total_open_amount             0\n",
       "baseline_create_date          0\n",
       "cust_payment_terms            0\n",
       "invoice_id                    1\n",
       "isOpen                        0\n",
       "dtype: int64"
      ]
     },
     "execution_count": 3,
     "metadata": {},
     "output_type": "execute_result"
    }
   ],
   "source": [
    "#checking for null values in main dataset\n",
    "data.isnull().sum()"
   ]
  },
  {
   "cell_type": "code",
   "execution_count": 4,
   "id": "cb7c1a74",
   "metadata": {},
   "outputs": [],
   "source": [
    "#as all values of area_buisness are null so no need to keep it\n",
    "data.drop([\"area_business\"],axis=1,inplace=True)"
   ]
  },
  {
   "cell_type": "code",
   "execution_count": 5,
   "id": "3abeca91",
   "metadata": {},
   "outputs": [
    {
     "data": {
      "text/plain": [
       "business_code              object\n",
       "cust_number                object\n",
       "name_customer              object\n",
       "clear_date                 object\n",
       "buisness_year             float64\n",
       "doc_id                    float64\n",
       "posting_date               object\n",
       "document_create_date        int64\n",
       "document_create_date.1      int64\n",
       "due_in_date               float64\n",
       "invoice_currency           object\n",
       "document type              object\n",
       "posting_id                float64\n",
       "total_open_amount         float64\n",
       "baseline_create_date      float64\n",
       "cust_payment_terms         object\n",
       "invoice_id                float64\n",
       "isOpen                      int64\n",
       "dtype: object"
      ]
     },
     "execution_count": 5,
     "metadata": {},
     "output_type": "execute_result"
    }
   ],
   "source": [
    "data.dtypes"
   ]
  },
  {
   "cell_type": "code",
   "execution_count": 6,
   "id": "1f061226",
   "metadata": {},
   "outputs": [
    {
     "data": {
      "text/plain": [
       "business_code                     object\n",
       "cust_number                       object\n",
       "name_customer                     object\n",
       "clear_date                datetime64[ns]\n",
       "buisness_year                    float64\n",
       "doc_id                           float64\n",
       "posting_date              datetime64[ns]\n",
       "document_create_date      datetime64[ns]\n",
       "document_create_date.1    datetime64[ns]\n",
       "due_in_date               datetime64[ns]\n",
       "invoice_currency                  object\n",
       "document type                     object\n",
       "posting_id                       float64\n",
       "total_open_amount                float64\n",
       "baseline_create_date      datetime64[ns]\n",
       "cust_payment_terms                object\n",
       "invoice_id                       float64\n",
       "isOpen                             int64\n",
       "dtype: object"
      ]
     },
     "execution_count": 6,
     "metadata": {},
     "output_type": "execute_result"
    }
   ],
   "source": [
    "#Changing all the dates to date time objects\n",
    "data['clear_date']=pd.to_datetime(data['clear_date'])\n",
    "data['posting_date']=pd.to_datetime(data['posting_date'])\n",
    "data['document_create_date']=pd.to_datetime(data['document_create_date'],format='%Y%m%d')\n",
    "data['document_create_date.1']=pd.to_datetime(data['document_create_date.1'],format='%Y%m%d')\n",
    "data['due_in_date']=pd.to_datetime(data['due_in_date'],format='%Y%m%d')\n",
    "data['baseline_create_date']=pd.to_datetime(data['baseline_create_date'],format='%Y%m%d')\n",
    "data.dtypes"
   ]
  },
  {
   "cell_type": "code",
   "execution_count": 7,
   "id": "3c8785ef",
   "metadata": {},
   "outputs": [],
   "source": [
    "#sorting the values according to posting date\n",
    "data.sort_values(by=\"posting_date\",inplace=True)"
   ]
  },
  {
   "cell_type": "code",
   "execution_count": 8,
   "id": "dddded9b",
   "metadata": {},
   "outputs": [
    {
     "data": {
      "text/html": [
       "<div>\n",
       "<style scoped>\n",
       "    .dataframe tbody tr th:only-of-type {\n",
       "        vertical-align: middle;\n",
       "    }\n",
       "\n",
       "    .dataframe tbody tr th {\n",
       "        vertical-align: top;\n",
       "    }\n",
       "\n",
       "    .dataframe thead th {\n",
       "        text-align: right;\n",
       "    }\n",
       "</style>\n",
       "<table border=\"1\" class=\"dataframe\">\n",
       "  <thead>\n",
       "    <tr style=\"text-align: right;\">\n",
       "      <th></th>\n",
       "      <th>business_code</th>\n",
       "      <th>cust_number</th>\n",
       "      <th>name_customer</th>\n",
       "      <th>clear_date</th>\n",
       "      <th>buisness_year</th>\n",
       "      <th>doc_id</th>\n",
       "      <th>posting_date</th>\n",
       "      <th>document_create_date</th>\n",
       "      <th>document_create_date.1</th>\n",
       "      <th>due_in_date</th>\n",
       "      <th>invoice_currency</th>\n",
       "      <th>document type</th>\n",
       "      <th>posting_id</th>\n",
       "      <th>total_open_amount</th>\n",
       "      <th>baseline_create_date</th>\n",
       "      <th>cust_payment_terms</th>\n",
       "      <th>invoice_id</th>\n",
       "      <th>isOpen</th>\n",
       "    </tr>\n",
       "  </thead>\n",
       "  <tbody>\n",
       "    <tr>\n",
       "      <th>10723</th>\n",
       "      <td>U001</td>\n",
       "      <td>0200772670</td>\n",
       "      <td>ASSOCIAT corporation</td>\n",
       "      <td>NaT</td>\n",
       "      <td>2020.0</td>\n",
       "      <td>1.930577e+09</td>\n",
       "      <td>2020-02-27</td>\n",
       "      <td>2020-02-27</td>\n",
       "      <td>2020-02-27</td>\n",
       "      <td>2020-03-13</td>\n",
       "      <td>USD</td>\n",
       "      <td>RV</td>\n",
       "      <td>1.0</td>\n",
       "      <td>2467.53</td>\n",
       "      <td>2020-02-27</td>\n",
       "      <td>NAU5</td>\n",
       "      <td>1.930577e+09</td>\n",
       "      <td>1</td>\n",
       "    </tr>\n",
       "    <tr>\n",
       "      <th>26418</th>\n",
       "      <td>U001</td>\n",
       "      <td>0200761734</td>\n",
       "      <td>H E BUT systems</td>\n",
       "      <td>NaT</td>\n",
       "      <td>2020.0</td>\n",
       "      <td>1.930578e+09</td>\n",
       "      <td>2020-02-27</td>\n",
       "      <td>2020-02-27</td>\n",
       "      <td>2020-02-27</td>\n",
       "      <td>2020-03-13</td>\n",
       "      <td>USD</td>\n",
       "      <td>RV</td>\n",
       "      <td>1.0</td>\n",
       "      <td>53703.88</td>\n",
       "      <td>2020-02-27</td>\n",
       "      <td>NAA8</td>\n",
       "      <td>1.930578e+09</td>\n",
       "      <td>1</td>\n",
       "    </tr>\n",
       "    <tr>\n",
       "      <th>10123</th>\n",
       "      <td>U001</td>\n",
       "      <td>0200749225</td>\n",
       "      <td>SUPER  associates</td>\n",
       "      <td>NaT</td>\n",
       "      <td>2020.0</td>\n",
       "      <td>1.930574e+09</td>\n",
       "      <td>2020-02-27</td>\n",
       "      <td>2020-02-26</td>\n",
       "      <td>2020-02-27</td>\n",
       "      <td>2020-03-13</td>\n",
       "      <td>USD</td>\n",
       "      <td>RV</td>\n",
       "      <td>1.0</td>\n",
       "      <td>44436.71</td>\n",
       "      <td>2020-02-27</td>\n",
       "      <td>NAA8</td>\n",
       "      <td>1.930574e+09</td>\n",
       "      <td>1</td>\n",
       "    </tr>\n",
       "    <tr>\n",
       "      <th>97</th>\n",
       "      <td>U001</td>\n",
       "      <td>0200759878</td>\n",
       "      <td>SA corporation</td>\n",
       "      <td>NaT</td>\n",
       "      <td>2020.0</td>\n",
       "      <td>1.930577e+09</td>\n",
       "      <td>2020-02-27</td>\n",
       "      <td>2020-02-27</td>\n",
       "      <td>2020-02-27</td>\n",
       "      <td>2020-03-13</td>\n",
       "      <td>USD</td>\n",
       "      <td>RV</td>\n",
       "      <td>1.0</td>\n",
       "      <td>39867.72</td>\n",
       "      <td>2020-02-27</td>\n",
       "      <td>NAH4</td>\n",
       "      <td>1.930577e+09</td>\n",
       "      <td>1</td>\n",
       "    </tr>\n",
       "    <tr>\n",
       "      <th>8658</th>\n",
       "      <td>U001</td>\n",
       "      <td>0200723794</td>\n",
       "      <td>MID MO associates</td>\n",
       "      <td>NaT</td>\n",
       "      <td>2020.0</td>\n",
       "      <td>1.930576e+09</td>\n",
       "      <td>2020-02-27</td>\n",
       "      <td>2020-02-27</td>\n",
       "      <td>2020-02-27</td>\n",
       "      <td>2020-05-02</td>\n",
       "      <td>USD</td>\n",
       "      <td>RV</td>\n",
       "      <td>1.0</td>\n",
       "      <td>21631.84</td>\n",
       "      <td>2020-02-27</td>\n",
       "      <td>NAGD</td>\n",
       "      <td>1.930576e+09</td>\n",
       "      <td>1</td>\n",
       "    </tr>\n",
       "    <tr>\n",
       "      <th>...</th>\n",
       "      <td>...</td>\n",
       "      <td>...</td>\n",
       "      <td>...</td>\n",
       "      <td>...</td>\n",
       "      <td>...</td>\n",
       "      <td>...</td>\n",
       "      <td>...</td>\n",
       "      <td>...</td>\n",
       "      <td>...</td>\n",
       "      <td>...</td>\n",
       "      <td>...</td>\n",
       "      <td>...</td>\n",
       "      <td>...</td>\n",
       "      <td>...</td>\n",
       "      <td>...</td>\n",
       "      <td>...</td>\n",
       "      <td>...</td>\n",
       "      <td>...</td>\n",
       "    </tr>\n",
       "    <tr>\n",
       "      <th>44647</th>\n",
       "      <td>CA02</td>\n",
       "      <td>0140104392</td>\n",
       "      <td>FLANAG llc</td>\n",
       "      <td>NaT</td>\n",
       "      <td>2020.0</td>\n",
       "      <td>2.960634e+09</td>\n",
       "      <td>2020-05-14</td>\n",
       "      <td>2020-05-14</td>\n",
       "      <td>2020-05-14</td>\n",
       "      <td>2020-05-24</td>\n",
       "      <td>CAD</td>\n",
       "      <td>RV</td>\n",
       "      <td>1.0</td>\n",
       "      <td>7032.80</td>\n",
       "      <td>2020-05-14</td>\n",
       "      <td>CA10</td>\n",
       "      <td>2.960634e+09</td>\n",
       "      <td>1</td>\n",
       "    </tr>\n",
       "    <tr>\n",
       "      <th>30814</th>\n",
       "      <td>U001</td>\n",
       "      <td>0200915438</td>\n",
       "      <td>GROC corporation</td>\n",
       "      <td>NaT</td>\n",
       "      <td>2020.0</td>\n",
       "      <td>1.930905e+09</td>\n",
       "      <td>2020-05-15</td>\n",
       "      <td>2020-05-15</td>\n",
       "      <td>2020-05-15</td>\n",
       "      <td>2020-05-30</td>\n",
       "      <td>USD</td>\n",
       "      <td>RV</td>\n",
       "      <td>1.0</td>\n",
       "      <td>24212.00</td>\n",
       "      <td>2020-05-15</td>\n",
       "      <td>NAA8</td>\n",
       "      <td>1.930905e+09</td>\n",
       "      <td>1</td>\n",
       "    </tr>\n",
       "    <tr>\n",
       "      <th>5065</th>\n",
       "      <td>U001</td>\n",
       "      <td>0200759878</td>\n",
       "      <td>SA associates</td>\n",
       "      <td>NaT</td>\n",
       "      <td>2020.0</td>\n",
       "      <td>1.930897e+09</td>\n",
       "      <td>2020-05-17</td>\n",
       "      <td>2020-05-13</td>\n",
       "      <td>2020-05-17</td>\n",
       "      <td>2020-06-01</td>\n",
       "      <td>USD</td>\n",
       "      <td>RV</td>\n",
       "      <td>1.0</td>\n",
       "      <td>22835.50</td>\n",
       "      <td>2020-05-17</td>\n",
       "      <td>NAH4</td>\n",
       "      <td>1.930897e+09</td>\n",
       "      <td>1</td>\n",
       "    </tr>\n",
       "    <tr>\n",
       "      <th>9870</th>\n",
       "      <td>U001</td>\n",
       "      <td>200765011</td>\n",
       "      <td>MAINES systems</td>\n",
       "      <td>NaT</td>\n",
       "      <td>2020.0</td>\n",
       "      <td>1.930915e+09</td>\n",
       "      <td>2020-05-18</td>\n",
       "      <td>2020-05-18</td>\n",
       "      <td>2020-05-18</td>\n",
       "      <td>2020-06-02</td>\n",
       "      <td>USD</td>\n",
       "      <td>RV</td>\n",
       "      <td>1.0</td>\n",
       "      <td>16099.20</td>\n",
       "      <td>2020-05-18</td>\n",
       "      <td>NAA8</td>\n",
       "      <td>1.930915e+09</td>\n",
       "      <td>1</td>\n",
       "    </tr>\n",
       "    <tr>\n",
       "      <th>34103</th>\n",
       "      <td>U013</td>\n",
       "      <td>0100046469</td>\n",
       "      <td>FRANQUICI</td>\n",
       "      <td>NaT</td>\n",
       "      <td>2020.0</td>\n",
       "      <td>1.991844e+09</td>\n",
       "      <td>2020-05-25</td>\n",
       "      <td>2020-05-21</td>\n",
       "      <td>2020-05-25</td>\n",
       "      <td>2020-05-25</td>\n",
       "      <td>USD</td>\n",
       "      <td>RV</td>\n",
       "      <td>1.0</td>\n",
       "      <td>13901.00</td>\n",
       "      <td>2020-05-25</td>\n",
       "      <td>NAUP</td>\n",
       "      <td>1.991844e+09</td>\n",
       "      <td>1</td>\n",
       "    </tr>\n",
       "  </tbody>\n",
       "</table>\n",
       "<p>10000 rows × 18 columns</p>\n",
       "</div>"
      ],
      "text/plain": [
       "      business_code cust_number         name_customer clear_date  \\\n",
       "10723          U001  0200772670  ASSOCIAT corporation        NaT   \n",
       "26418          U001  0200761734       H E BUT systems        NaT   \n",
       "10123          U001  0200749225     SUPER  associates        NaT   \n",
       "97             U001  0200759878        SA corporation        NaT   \n",
       "8658           U001  0200723794     MID MO associates        NaT   \n",
       "...             ...         ...                   ...        ...   \n",
       "44647          CA02  0140104392            FLANAG llc        NaT   \n",
       "30814          U001  0200915438      GROC corporation        NaT   \n",
       "5065           U001  0200759878         SA associates        NaT   \n",
       "9870           U001   200765011        MAINES systems        NaT   \n",
       "34103          U013  0100046469            FRANQUICI         NaT   \n",
       "\n",
       "       buisness_year        doc_id posting_date document_create_date  \\\n",
       "10723         2020.0  1.930577e+09   2020-02-27           2020-02-27   \n",
       "26418         2020.0  1.930578e+09   2020-02-27           2020-02-27   \n",
       "10123         2020.0  1.930574e+09   2020-02-27           2020-02-26   \n",
       "97            2020.0  1.930577e+09   2020-02-27           2020-02-27   \n",
       "8658          2020.0  1.930576e+09   2020-02-27           2020-02-27   \n",
       "...              ...           ...          ...                  ...   \n",
       "44647         2020.0  2.960634e+09   2020-05-14           2020-05-14   \n",
       "30814         2020.0  1.930905e+09   2020-05-15           2020-05-15   \n",
       "5065          2020.0  1.930897e+09   2020-05-17           2020-05-13   \n",
       "9870          2020.0  1.930915e+09   2020-05-18           2020-05-18   \n",
       "34103         2020.0  1.991844e+09   2020-05-25           2020-05-21   \n",
       "\n",
       "      document_create_date.1 due_in_date invoice_currency document type  \\\n",
       "10723             2020-02-27  2020-03-13              USD            RV   \n",
       "26418             2020-02-27  2020-03-13              USD            RV   \n",
       "10123             2020-02-27  2020-03-13              USD            RV   \n",
       "97                2020-02-27  2020-03-13              USD            RV   \n",
       "8658              2020-02-27  2020-05-02              USD            RV   \n",
       "...                      ...         ...              ...           ...   \n",
       "44647             2020-05-14  2020-05-24              CAD            RV   \n",
       "30814             2020-05-15  2020-05-30              USD            RV   \n",
       "5065              2020-05-17  2020-06-01              USD            RV   \n",
       "9870              2020-05-18  2020-06-02              USD            RV   \n",
       "34103             2020-05-25  2020-05-25              USD            RV   \n",
       "\n",
       "       posting_id  total_open_amount baseline_create_date cust_payment_terms  \\\n",
       "10723         1.0            2467.53           2020-02-27               NAU5   \n",
       "26418         1.0           53703.88           2020-02-27               NAA8   \n",
       "10123         1.0           44436.71           2020-02-27               NAA8   \n",
       "97            1.0           39867.72           2020-02-27               NAH4   \n",
       "8658          1.0           21631.84           2020-02-27               NAGD   \n",
       "...           ...                ...                  ...                ...   \n",
       "44647         1.0            7032.80           2020-05-14               CA10   \n",
       "30814         1.0           24212.00           2020-05-15               NAA8   \n",
       "5065          1.0           22835.50           2020-05-17               NAH4   \n",
       "9870          1.0           16099.20           2020-05-18               NAA8   \n",
       "34103         1.0           13901.00           2020-05-25               NAUP   \n",
       "\n",
       "         invoice_id  isOpen  \n",
       "10723  1.930577e+09       1  \n",
       "26418  1.930578e+09       1  \n",
       "10123  1.930574e+09       1  \n",
       "97     1.930577e+09       1  \n",
       "8658   1.930576e+09       1  \n",
       "...             ...     ...  \n",
       "44647  2.960634e+09       1  \n",
       "30814  1.930905e+09       1  \n",
       "5065   1.930897e+09       1  \n",
       "9870   1.930915e+09       1  \n",
       "34103  1.991844e+09       1  \n",
       "\n",
       "[10000 rows x 18 columns]"
      ]
     },
     "execution_count": 8,
     "metadata": {},
     "output_type": "execute_result"
    }
   ],
   "source": [
    "#now splittingthe data so that one part has all the null values in clear date and other part we can use for training\n",
    "test_data=data.loc[data.clear_date.isnull(),:]\n",
    "test_data"
   ]
  },
  {
   "cell_type": "code",
   "execution_count": 9,
   "id": "4ad4ced3",
   "metadata": {},
   "outputs": [
    {
     "data": {
      "text/html": [
       "<div>\n",
       "<style scoped>\n",
       "    .dataframe tbody tr th:only-of-type {\n",
       "        vertical-align: middle;\n",
       "    }\n",
       "\n",
       "    .dataframe tbody tr th {\n",
       "        vertical-align: top;\n",
       "    }\n",
       "\n",
       "    .dataframe thead th {\n",
       "        text-align: right;\n",
       "    }\n",
       "</style>\n",
       "<table border=\"1\" class=\"dataframe\">\n",
       "  <thead>\n",
       "    <tr style=\"text-align: right;\">\n",
       "      <th></th>\n",
       "      <th>business_code</th>\n",
       "      <th>cust_number</th>\n",
       "      <th>name_customer</th>\n",
       "      <th>clear_date</th>\n",
       "      <th>buisness_year</th>\n",
       "      <th>doc_id</th>\n",
       "      <th>posting_date</th>\n",
       "      <th>document_create_date</th>\n",
       "      <th>document_create_date.1</th>\n",
       "      <th>due_in_date</th>\n",
       "      <th>invoice_currency</th>\n",
       "      <th>document type</th>\n",
       "      <th>posting_id</th>\n",
       "      <th>total_open_amount</th>\n",
       "      <th>baseline_create_date</th>\n",
       "      <th>cust_payment_terms</th>\n",
       "      <th>invoice_id</th>\n",
       "      <th>isOpen</th>\n",
       "    </tr>\n",
       "  </thead>\n",
       "  <tbody>\n",
       "    <tr>\n",
       "      <th>17979</th>\n",
       "      <td>U001</td>\n",
       "      <td>0200769623</td>\n",
       "      <td>WAL-MAR</td>\n",
       "      <td>2019-01-09</td>\n",
       "      <td>2019.0</td>\n",
       "      <td>1.928540e+09</td>\n",
       "      <td>2018-12-30</td>\n",
       "      <td>2018-12-29</td>\n",
       "      <td>2018-12-30</td>\n",
       "      <td>2019-01-14</td>\n",
       "      <td>USD</td>\n",
       "      <td>RV</td>\n",
       "      <td>1.0</td>\n",
       "      <td>10474.46</td>\n",
       "      <td>2018-12-30</td>\n",
       "      <td>NAH4</td>\n",
       "      <td>1.928540e+09</td>\n",
       "      <td>0</td>\n",
       "    </tr>\n",
       "    <tr>\n",
       "      <th>49200</th>\n",
       "      <td>U013</td>\n",
       "      <td>0140103335</td>\n",
       "      <td>PARAM associates</td>\n",
       "      <td>2019-01-23</td>\n",
       "      <td>2019.0</td>\n",
       "      <td>1.991819e+09</td>\n",
       "      <td>2018-12-30</td>\n",
       "      <td>2018-12-26</td>\n",
       "      <td>2018-12-30</td>\n",
       "      <td>2019-01-29</td>\n",
       "      <td>USD</td>\n",
       "      <td>RV</td>\n",
       "      <td>1.0</td>\n",
       "      <td>10045.23</td>\n",
       "      <td>2018-12-30</td>\n",
       "      <td>NAVE</td>\n",
       "      <td>1.991819e+09</td>\n",
       "      <td>0</td>\n",
       "    </tr>\n",
       "    <tr>\n",
       "      <th>6748</th>\n",
       "      <td>U001</td>\n",
       "      <td>0200769623</td>\n",
       "      <td>WAL-MAR corp</td>\n",
       "      <td>2019-01-09</td>\n",
       "      <td>2019.0</td>\n",
       "      <td>1.928538e+09</td>\n",
       "      <td>2018-12-30</td>\n",
       "      <td>2018-12-29</td>\n",
       "      <td>2018-12-30</td>\n",
       "      <td>2019-01-14</td>\n",
       "      <td>USD</td>\n",
       "      <td>RV</td>\n",
       "      <td>1.0</td>\n",
       "      <td>33537.22</td>\n",
       "      <td>2018-12-30</td>\n",
       "      <td>NAH4</td>\n",
       "      <td>1.928538e+09</td>\n",
       "      <td>0</td>\n",
       "    </tr>\n",
       "    <tr>\n",
       "      <th>36062</th>\n",
       "      <td>U001</td>\n",
       "      <td>0200769623</td>\n",
       "      <td>WAL-MAR llc</td>\n",
       "      <td>2019-01-09</td>\n",
       "      <td>2019.0</td>\n",
       "      <td>1.928543e+09</td>\n",
       "      <td>2018-12-30</td>\n",
       "      <td>2018-12-30</td>\n",
       "      <td>2018-12-30</td>\n",
       "      <td>2019-01-14</td>\n",
       "      <td>USD</td>\n",
       "      <td>RV</td>\n",
       "      <td>1.0</td>\n",
       "      <td>32400.38</td>\n",
       "      <td>2018-12-30</td>\n",
       "      <td>NAH4</td>\n",
       "      <td>1.928543e+09</td>\n",
       "      <td>0</td>\n",
       "    </tr>\n",
       "    <tr>\n",
       "      <th>41510</th>\n",
       "      <td>U001</td>\n",
       "      <td>0200769623</td>\n",
       "      <td>WAL-MAR trust</td>\n",
       "      <td>2019-01-15</td>\n",
       "      <td>2019.0</td>\n",
       "      <td>1.928541e+09</td>\n",
       "      <td>2018-12-30</td>\n",
       "      <td>2018-12-29</td>\n",
       "      <td>2018-12-30</td>\n",
       "      <td>2019-01-14</td>\n",
       "      <td>USD</td>\n",
       "      <td>RV</td>\n",
       "      <td>1.0</td>\n",
       "      <td>3748.94</td>\n",
       "      <td>2018-12-30</td>\n",
       "      <td>NAH4</td>\n",
       "      <td>1.928541e+09</td>\n",
       "      <td>0</td>\n",
       "    </tr>\n",
       "    <tr>\n",
       "      <th>...</th>\n",
       "      <td>...</td>\n",
       "      <td>...</td>\n",
       "      <td>...</td>\n",
       "      <td>...</td>\n",
       "      <td>...</td>\n",
       "      <td>...</td>\n",
       "      <td>...</td>\n",
       "      <td>...</td>\n",
       "      <td>...</td>\n",
       "      <td>...</td>\n",
       "      <td>...</td>\n",
       "      <td>...</td>\n",
       "      <td>...</td>\n",
       "      <td>...</td>\n",
       "      <td>...</td>\n",
       "      <td>...</td>\n",
       "      <td>...</td>\n",
       "      <td>...</td>\n",
       "    </tr>\n",
       "    <tr>\n",
       "      <th>12108</th>\n",
       "      <td>U001</td>\n",
       "      <td>0200706844</td>\n",
       "      <td>WINC corp</td>\n",
       "      <td>2020-03-12</td>\n",
       "      <td>2020.0</td>\n",
       "      <td>1.930572e+09</td>\n",
       "      <td>2020-02-26</td>\n",
       "      <td>2020-02-26</td>\n",
       "      <td>2020-02-26</td>\n",
       "      <td>2020-03-12</td>\n",
       "      <td>USD</td>\n",
       "      <td>RV</td>\n",
       "      <td>1.0</td>\n",
       "      <td>43596.53</td>\n",
       "      <td>2020-02-26</td>\n",
       "      <td>NAA8</td>\n",
       "      <td>1.930572e+09</td>\n",
       "      <td>0</td>\n",
       "    </tr>\n",
       "    <tr>\n",
       "      <th>5497</th>\n",
       "      <td>U001</td>\n",
       "      <td>0200772670</td>\n",
       "      <td>ASSOCIAT foundation</td>\n",
       "      <td>2020-03-12</td>\n",
       "      <td>2020.0</td>\n",
       "      <td>1.930566e+09</td>\n",
       "      <td>2020-02-26</td>\n",
       "      <td>2020-02-25</td>\n",
       "      <td>2020-02-26</td>\n",
       "      <td>2020-03-12</td>\n",
       "      <td>USD</td>\n",
       "      <td>RV</td>\n",
       "      <td>1.0</td>\n",
       "      <td>10004.44</td>\n",
       "      <td>2020-02-26</td>\n",
       "      <td>NAU5</td>\n",
       "      <td>1.930566e+09</td>\n",
       "      <td>0</td>\n",
       "    </tr>\n",
       "    <tr>\n",
       "      <th>38891</th>\n",
       "      <td>U001</td>\n",
       "      <td>0200769623</td>\n",
       "      <td>WAL-MAR in</td>\n",
       "      <td>2020-03-16</td>\n",
       "      <td>2020.0</td>\n",
       "      <td>1.930569e+09</td>\n",
       "      <td>2020-02-26</td>\n",
       "      <td>2020-02-25</td>\n",
       "      <td>2020-02-26</td>\n",
       "      <td>2020-03-12</td>\n",
       "      <td>USD</td>\n",
       "      <td>RV</td>\n",
       "      <td>1.0</td>\n",
       "      <td>2376.95</td>\n",
       "      <td>2020-02-26</td>\n",
       "      <td>NAH4</td>\n",
       "      <td>1.930569e+09</td>\n",
       "      <td>0</td>\n",
       "    </tr>\n",
       "    <tr>\n",
       "      <th>28477</th>\n",
       "      <td>U001</td>\n",
       "      <td>0200759878</td>\n",
       "      <td>SA systems</td>\n",
       "      <td>2020-03-13</td>\n",
       "      <td>2020.0</td>\n",
       "      <td>1.930570e+09</td>\n",
       "      <td>2020-02-27</td>\n",
       "      <td>2020-02-26</td>\n",
       "      <td>2020-02-27</td>\n",
       "      <td>2020-03-13</td>\n",
       "      <td>USD</td>\n",
       "      <td>RV</td>\n",
       "      <td>1.0</td>\n",
       "      <td>64190.53</td>\n",
       "      <td>2020-02-27</td>\n",
       "      <td>NAH4</td>\n",
       "      <td>1.930570e+09</td>\n",
       "      <td>0</td>\n",
       "    </tr>\n",
       "    <tr>\n",
       "      <th>44650</th>\n",
       "      <td>U001</td>\n",
       "      <td>0200126819</td>\n",
       "      <td>MCLANE systems</td>\n",
       "      <td>2020-03-18</td>\n",
       "      <td>2020.0</td>\n",
       "      <td>1.930558e+09</td>\n",
       "      <td>2020-02-27</td>\n",
       "      <td>2020-02-22</td>\n",
       "      <td>2020-02-27</td>\n",
       "      <td>2020-03-13</td>\n",
       "      <td>USD</td>\n",
       "      <td>RV</td>\n",
       "      <td>1.0</td>\n",
       "      <td>53264.58</td>\n",
       "      <td>2020-02-27</td>\n",
       "      <td>NAA8</td>\n",
       "      <td>1.930558e+09</td>\n",
       "      <td>0</td>\n",
       "    </tr>\n",
       "  </tbody>\n",
       "</table>\n",
       "<p>40000 rows × 18 columns</p>\n",
       "</div>"
      ],
      "text/plain": [
       "      business_code cust_number        name_customer clear_date  \\\n",
       "17979          U001  0200769623             WAL-MAR  2019-01-09   \n",
       "49200          U013  0140103335     PARAM associates 2019-01-23   \n",
       "6748           U001  0200769623         WAL-MAR corp 2019-01-09   \n",
       "36062          U001  0200769623          WAL-MAR llc 2019-01-09   \n",
       "41510          U001  0200769623        WAL-MAR trust 2019-01-15   \n",
       "...             ...         ...                  ...        ...   \n",
       "12108          U001  0200706844            WINC corp 2020-03-12   \n",
       "5497           U001  0200772670  ASSOCIAT foundation 2020-03-12   \n",
       "38891          U001  0200769623           WAL-MAR in 2020-03-16   \n",
       "28477          U001  0200759878           SA systems 2020-03-13   \n",
       "44650          U001  0200126819       MCLANE systems 2020-03-18   \n",
       "\n",
       "       buisness_year        doc_id posting_date document_create_date  \\\n",
       "17979         2019.0  1.928540e+09   2018-12-30           2018-12-29   \n",
       "49200         2019.0  1.991819e+09   2018-12-30           2018-12-26   \n",
       "6748          2019.0  1.928538e+09   2018-12-30           2018-12-29   \n",
       "36062         2019.0  1.928543e+09   2018-12-30           2018-12-30   \n",
       "41510         2019.0  1.928541e+09   2018-12-30           2018-12-29   \n",
       "...              ...           ...          ...                  ...   \n",
       "12108         2020.0  1.930572e+09   2020-02-26           2020-02-26   \n",
       "5497          2020.0  1.930566e+09   2020-02-26           2020-02-25   \n",
       "38891         2020.0  1.930569e+09   2020-02-26           2020-02-25   \n",
       "28477         2020.0  1.930570e+09   2020-02-27           2020-02-26   \n",
       "44650         2020.0  1.930558e+09   2020-02-27           2020-02-22   \n",
       "\n",
       "      document_create_date.1 due_in_date invoice_currency document type  \\\n",
       "17979             2018-12-30  2019-01-14              USD            RV   \n",
       "49200             2018-12-30  2019-01-29              USD            RV   \n",
       "6748              2018-12-30  2019-01-14              USD            RV   \n",
       "36062             2018-12-30  2019-01-14              USD            RV   \n",
       "41510             2018-12-30  2019-01-14              USD            RV   \n",
       "...                      ...         ...              ...           ...   \n",
       "12108             2020-02-26  2020-03-12              USD            RV   \n",
       "5497              2020-02-26  2020-03-12              USD            RV   \n",
       "38891             2020-02-26  2020-03-12              USD            RV   \n",
       "28477             2020-02-27  2020-03-13              USD            RV   \n",
       "44650             2020-02-27  2020-03-13              USD            RV   \n",
       "\n",
       "       posting_id  total_open_amount baseline_create_date cust_payment_terms  \\\n",
       "17979         1.0           10474.46           2018-12-30               NAH4   \n",
       "49200         1.0           10045.23           2018-12-30               NAVE   \n",
       "6748          1.0           33537.22           2018-12-30               NAH4   \n",
       "36062         1.0           32400.38           2018-12-30               NAH4   \n",
       "41510         1.0            3748.94           2018-12-30               NAH4   \n",
       "...           ...                ...                  ...                ...   \n",
       "12108         1.0           43596.53           2020-02-26               NAA8   \n",
       "5497          1.0           10004.44           2020-02-26               NAU5   \n",
       "38891         1.0            2376.95           2020-02-26               NAH4   \n",
       "28477         1.0           64190.53           2020-02-27               NAH4   \n",
       "44650         1.0           53264.58           2020-02-27               NAA8   \n",
       "\n",
       "         invoice_id  isOpen  \n",
       "17979  1.928540e+09       0  \n",
       "49200  1.991819e+09       0  \n",
       "6748   1.928538e+09       0  \n",
       "36062  1.928543e+09       0  \n",
       "41510  1.928541e+09       0  \n",
       "...             ...     ...  \n",
       "12108  1.930572e+09       0  \n",
       "5497   1.930566e+09       0  \n",
       "38891  1.930569e+09       0  \n",
       "28477  1.930570e+09       0  \n",
       "44650  1.930558e+09       0  \n",
       "\n",
       "[40000 rows x 18 columns]"
      ]
     },
     "execution_count": 9,
     "metadata": {},
     "output_type": "execute_result"
    }
   ],
   "source": [
    "train_data=data.loc[data.clear_date.notnull(),:]\n",
    "train_data"
   ]
  },
  {
   "cell_type": "markdown",
   "id": "fdd3465e",
   "metadata": {},
   "source": [
    "# Preprocessing"
   ]
  },
  {
   "cell_type": "code",
   "execution_count": 10,
   "id": "023d7f09",
   "metadata": {},
   "outputs": [
    {
     "data": {
      "text/plain": [
       "business_code             0\n",
       "cust_number               0\n",
       "name_customer             0\n",
       "clear_date                0\n",
       "buisness_year             0\n",
       "doc_id                    0\n",
       "posting_date              0\n",
       "document_create_date      0\n",
       "document_create_date.1    0\n",
       "due_in_date               0\n",
       "invoice_currency          0\n",
       "document type             0\n",
       "posting_id                0\n",
       "total_open_amount         0\n",
       "baseline_create_date      0\n",
       "cust_payment_terms        0\n",
       "invoice_id                1\n",
       "isOpen                    0\n",
       "dtype: int64"
      ]
     },
     "execution_count": 10,
     "metadata": {},
     "output_type": "execute_result"
    }
   ],
   "source": [
    "#checking for all null values\n",
    "train_data.isnull().sum()"
   ]
  },
  {
   "cell_type": "code",
   "execution_count": 11,
   "id": "05022458",
   "metadata": {},
   "outputs": [
    {
     "data": {
      "text/plain": [
       "True     39999\n",
       "False        1\n",
       "dtype: int64"
      ]
     },
     "execution_count": 11,
     "metadata": {},
     "output_type": "execute_result"
    }
   ],
   "source": [
    "#as we can see the invoice_id and doc_id are similar other than the one null value we can infer that they are almost same so we can drop the invoice_id\n",
    "same=train_data[\"invoice_id\"]==train_data[\"doc_id\"]\n",
    "same.value_counts()\n"
   ]
  },
  {
   "cell_type": "code",
   "execution_count": 12,
   "id": "0766ba54",
   "metadata": {},
   "outputs": [],
   "source": [
    "train_data.drop([\"invoice_id\"],axis=1,inplace=True)"
   ]
  },
  {
   "cell_type": "code",
   "execution_count": 13,
   "id": "9978354f",
   "metadata": {},
   "outputs": [
    {
     "data": {
      "text/plain": [
       "business_code             0\n",
       "cust_number               0\n",
       "name_customer             0\n",
       "clear_date                0\n",
       "buisness_year             0\n",
       "doc_id                    0\n",
       "posting_date              0\n",
       "document_create_date      0\n",
       "document_create_date.1    0\n",
       "due_in_date               0\n",
       "invoice_currency          0\n",
       "document type             0\n",
       "posting_id                0\n",
       "total_open_amount         0\n",
       "baseline_create_date      0\n",
       "cust_payment_terms        0\n",
       "isOpen                    0\n",
       "dtype: int64"
      ]
     },
     "execution_count": 13,
     "metadata": {},
     "output_type": "execute_result"
    }
   ],
   "source": [
    "train_data.isnull().sum()"
   ]
  },
  {
   "cell_type": "markdown",
   "id": "132d2749",
   "metadata": {},
   "source": [
    "# Constant removal/Inconsistency Removal"
   ]
  },
  {
   "cell_type": "code",
   "execution_count": 14,
   "id": "5895daeb",
   "metadata": {},
   "outputs": [
    {
     "data": {
      "text/plain": [
       "business_code                 5\n",
       "cust_number                1331\n",
       "name_customer              3873\n",
       "clear_date                  400\n",
       "buisness_year                 2\n",
       "doc_id                    39117\n",
       "posting_date                424\n",
       "document_create_date        426\n",
       "document_create_date.1      424\n",
       "due_in_date                 492\n",
       "invoice_currency              2\n",
       "document type                 2\n",
       "posting_id                    1\n",
       "total_open_amount         35587\n",
       "baseline_create_date        434\n",
       "cust_payment_terms           71\n",
       "isOpen                        1\n",
       "dtype: int64"
      ]
     },
     "execution_count": 14,
     "metadata": {},
     "output_type": "execute_result"
    }
   ],
   "source": [
    "#checking for all unique values present in all the columns\n",
    "train_data.nunique()"
   ]
  },
  {
   "cell_type": "code",
   "execution_count": 15,
   "id": "81dcadd6",
   "metadata": {},
   "outputs": [],
   "source": [
    "#we can see that in posting_id and in isOpen the unique values are 1 we can infer that these are constant columns hence we can drop them\n",
    "train_data.drop([\"posting_id\"],axis=1,inplace=True)\n",
    "train_data.drop([\"isOpen\"],axis=1,inplace=True)"
   ]
  },
  {
   "cell_type": "code",
   "execution_count": 16,
   "id": "81906ff1",
   "metadata": {},
   "outputs": [
    {
     "data": {
      "text/plain": [
       "business_code                 5\n",
       "cust_number                1331\n",
       "name_customer              3873\n",
       "clear_date                  400\n",
       "buisness_year                 2\n",
       "doc_id                    39117\n",
       "posting_date                424\n",
       "document_create_date        426\n",
       "document_create_date.1      424\n",
       "due_in_date                 492\n",
       "invoice_currency              2\n",
       "document type                 2\n",
       "total_open_amount         35587\n",
       "baseline_create_date        434\n",
       "cust_payment_terms           71\n",
       "dtype: int64"
      ]
     },
     "execution_count": 16,
     "metadata": {},
     "output_type": "execute_result"
    }
   ],
   "source": [
    "train_data.nunique()"
   ]
  },
  {
   "cell_type": "code",
   "execution_count": 17,
   "id": "3cb0c49d",
   "metadata": {},
   "outputs": [],
   "source": [
    "#we can surely say that the date for creating the invoice document will always be greater or equal to the date invoice is created(baseline create date) \n",
    "#if baseline create date is greater than that means rows are inconsistent hence we should drop those rows\n",
    "train_data.drop(train_data[train_data['document_create_date.1']<train_data['baseline_create_date']].index,axis=0,inplace=True)"
   ]
  },
  {
   "cell_type": "code",
   "execution_count": 18,
   "id": "d15a5b0c",
   "metadata": {},
   "outputs": [],
   "source": [
    "#the due_in_date will be created only after the document is created\n",
    "train_data.drop(train_data[train_data['due_in_date']<train_data['document_create_date.1']].index,axis=0,inplace=True)"
   ]
  },
  {
   "cell_type": "code",
   "execution_count": 19,
   "id": "c2bd8df0",
   "metadata": {},
   "outputs": [
    {
     "data": {
      "text/html": [
       "<div>\n",
       "<style scoped>\n",
       "    .dataframe tbody tr th:only-of-type {\n",
       "        vertical-align: middle;\n",
       "    }\n",
       "\n",
       "    .dataframe tbody tr th {\n",
       "        vertical-align: top;\n",
       "    }\n",
       "\n",
       "    .dataframe thead th {\n",
       "        text-align: right;\n",
       "    }\n",
       "</style>\n",
       "<table border=\"1\" class=\"dataframe\">\n",
       "  <thead>\n",
       "    <tr style=\"text-align: right;\">\n",
       "      <th></th>\n",
       "      <th>business_code</th>\n",
       "      <th>cust_number</th>\n",
       "      <th>name_customer</th>\n",
       "      <th>clear_date</th>\n",
       "      <th>buisness_year</th>\n",
       "      <th>doc_id</th>\n",
       "      <th>posting_date</th>\n",
       "      <th>document_create_date</th>\n",
       "      <th>document_create_date.1</th>\n",
       "      <th>due_in_date</th>\n",
       "      <th>invoice_currency</th>\n",
       "      <th>document type</th>\n",
       "      <th>total_open_amount</th>\n",
       "      <th>baseline_create_date</th>\n",
       "      <th>cust_payment_terms</th>\n",
       "      <th>delay</th>\n",
       "    </tr>\n",
       "  </thead>\n",
       "  <tbody>\n",
       "    <tr>\n",
       "      <th>17979</th>\n",
       "      <td>U001</td>\n",
       "      <td>0200769623</td>\n",
       "      <td>WAL-MAR</td>\n",
       "      <td>2019-01-09</td>\n",
       "      <td>2019.0</td>\n",
       "      <td>1.928540e+09</td>\n",
       "      <td>2018-12-30</td>\n",
       "      <td>2018-12-29</td>\n",
       "      <td>2018-12-30</td>\n",
       "      <td>2019-01-14</td>\n",
       "      <td>USD</td>\n",
       "      <td>RV</td>\n",
       "      <td>10474.46</td>\n",
       "      <td>2018-12-30</td>\n",
       "      <td>NAH4</td>\n",
       "      <td>-5</td>\n",
       "    </tr>\n",
       "    <tr>\n",
       "      <th>49200</th>\n",
       "      <td>U013</td>\n",
       "      <td>0140103335</td>\n",
       "      <td>PARAM associates</td>\n",
       "      <td>2019-01-23</td>\n",
       "      <td>2019.0</td>\n",
       "      <td>1.991819e+09</td>\n",
       "      <td>2018-12-30</td>\n",
       "      <td>2018-12-26</td>\n",
       "      <td>2018-12-30</td>\n",
       "      <td>2019-01-29</td>\n",
       "      <td>USD</td>\n",
       "      <td>RV</td>\n",
       "      <td>10045.23</td>\n",
       "      <td>2018-12-30</td>\n",
       "      <td>NAVE</td>\n",
       "      <td>-6</td>\n",
       "    </tr>\n",
       "    <tr>\n",
       "      <th>6748</th>\n",
       "      <td>U001</td>\n",
       "      <td>0200769623</td>\n",
       "      <td>WAL-MAR corp</td>\n",
       "      <td>2019-01-09</td>\n",
       "      <td>2019.0</td>\n",
       "      <td>1.928538e+09</td>\n",
       "      <td>2018-12-30</td>\n",
       "      <td>2018-12-29</td>\n",
       "      <td>2018-12-30</td>\n",
       "      <td>2019-01-14</td>\n",
       "      <td>USD</td>\n",
       "      <td>RV</td>\n",
       "      <td>33537.22</td>\n",
       "      <td>2018-12-30</td>\n",
       "      <td>NAH4</td>\n",
       "      <td>-5</td>\n",
       "    </tr>\n",
       "    <tr>\n",
       "      <th>36062</th>\n",
       "      <td>U001</td>\n",
       "      <td>0200769623</td>\n",
       "      <td>WAL-MAR llc</td>\n",
       "      <td>2019-01-09</td>\n",
       "      <td>2019.0</td>\n",
       "      <td>1.928543e+09</td>\n",
       "      <td>2018-12-30</td>\n",
       "      <td>2018-12-30</td>\n",
       "      <td>2018-12-30</td>\n",
       "      <td>2019-01-14</td>\n",
       "      <td>USD</td>\n",
       "      <td>RV</td>\n",
       "      <td>32400.38</td>\n",
       "      <td>2018-12-30</td>\n",
       "      <td>NAH4</td>\n",
       "      <td>-5</td>\n",
       "    </tr>\n",
       "    <tr>\n",
       "      <th>41510</th>\n",
       "      <td>U001</td>\n",
       "      <td>0200769623</td>\n",
       "      <td>WAL-MAR trust</td>\n",
       "      <td>2019-01-15</td>\n",
       "      <td>2019.0</td>\n",
       "      <td>1.928541e+09</td>\n",
       "      <td>2018-12-30</td>\n",
       "      <td>2018-12-29</td>\n",
       "      <td>2018-12-30</td>\n",
       "      <td>2019-01-14</td>\n",
       "      <td>USD</td>\n",
       "      <td>RV</td>\n",
       "      <td>3748.94</td>\n",
       "      <td>2018-12-30</td>\n",
       "      <td>NAH4</td>\n",
       "      <td>1</td>\n",
       "    </tr>\n",
       "  </tbody>\n",
       "</table>\n",
       "</div>"
      ],
      "text/plain": [
       "      business_code cust_number     name_customer clear_date  buisness_year  \\\n",
       "17979          U001  0200769623          WAL-MAR  2019-01-09         2019.0   \n",
       "49200          U013  0140103335  PARAM associates 2019-01-23         2019.0   \n",
       "6748           U001  0200769623      WAL-MAR corp 2019-01-09         2019.0   \n",
       "36062          U001  0200769623       WAL-MAR llc 2019-01-09         2019.0   \n",
       "41510          U001  0200769623     WAL-MAR trust 2019-01-15         2019.0   \n",
       "\n",
       "             doc_id posting_date document_create_date document_create_date.1  \\\n",
       "17979  1.928540e+09   2018-12-30           2018-12-29             2018-12-30   \n",
       "49200  1.991819e+09   2018-12-30           2018-12-26             2018-12-30   \n",
       "6748   1.928538e+09   2018-12-30           2018-12-29             2018-12-30   \n",
       "36062  1.928543e+09   2018-12-30           2018-12-30             2018-12-30   \n",
       "41510  1.928541e+09   2018-12-30           2018-12-29             2018-12-30   \n",
       "\n",
       "      due_in_date invoice_currency document type  total_open_amount  \\\n",
       "17979  2019-01-14              USD            RV           10474.46   \n",
       "49200  2019-01-29              USD            RV           10045.23   \n",
       "6748   2019-01-14              USD            RV           33537.22   \n",
       "36062  2019-01-14              USD            RV           32400.38   \n",
       "41510  2019-01-14              USD            RV            3748.94   \n",
       "\n",
       "      baseline_create_date cust_payment_terms  delay  \n",
       "17979           2018-12-30               NAH4     -5  \n",
       "49200           2018-12-30               NAVE     -6  \n",
       "6748            2018-12-30               NAH4     -5  \n",
       "36062           2018-12-30               NAH4     -5  \n",
       "41510           2018-12-30               NAH4      1  "
      ]
     },
     "execution_count": 19,
     "metadata": {},
     "output_type": "execute_result"
    }
   ],
   "source": [
    "#creating the delay column **target column**\n",
    "train_data[\"delay\"]=(train_data[\"clear_date\"]-train_data[\"due_in_date\"]).dt.days\n",
    "train_data.head()"
   ]
  },
  {
   "cell_type": "markdown",
   "id": "5d666aa6",
   "metadata": {},
   "source": [
    "# Splitting data"
   ]
  },
  {
   "cell_type": "code",
   "execution_count": 20,
   "id": "6963f438",
   "metadata": {},
   "outputs": [],
   "source": [
    "#splitting the data into train,validation and test set\n",
    "X=train_data.drop(\"delay\",axis=1)\n",
    "Y=train_data[\"delay\"]"
   ]
  },
  {
   "cell_type": "code",
   "execution_count": 21,
   "id": "f23b78c6",
   "metadata": {},
   "outputs": [],
   "source": [
    "from sklearn.model_selection import train_test_split"
   ]
  },
  {
   "cell_type": "code",
   "execution_count": 22,
   "id": "e5577a7b",
   "metadata": {},
   "outputs": [],
   "source": [
    "X_train,X_test,Y_train,Y_test=train_test_split(X,Y,test_size=0.2,random_state=0,shuffle=False)"
   ]
  },
  {
   "cell_type": "code",
   "execution_count": 23,
   "id": "ec866ab2",
   "metadata": {},
   "outputs": [
    {
     "data": {
      "text/plain": [
       "(29880, 15)"
      ]
     },
     "execution_count": 23,
     "metadata": {},
     "output_type": "execute_result"
    }
   ],
   "source": [
    "X_train.shape"
   ]
  },
  {
   "cell_type": "code",
   "execution_count": 24,
   "id": "923331e4",
   "metadata": {},
   "outputs": [],
   "source": [
    "x_val,x_test,y_val,y_test=train_test_split(X_test,Y_test,test_size=0.5,random_state=0,shuffle=False)"
   ]
  },
  {
   "cell_type": "code",
   "execution_count": 25,
   "id": "c5d32723",
   "metadata": {},
   "outputs": [
    {
     "data": {
      "text/plain": [
       "(3735, 15)"
      ]
     },
     "execution_count": 25,
     "metadata": {},
     "output_type": "execute_result"
    }
   ],
   "source": [
    "x_val.shape"
   ]
  },
  {
   "cell_type": "markdown",
   "id": "ea1ced33",
   "metadata": {},
   "source": [
    "# EDA"
   ]
  },
  {
   "cell_type": "code",
   "execution_count": 26,
   "id": "8f166a0d",
   "metadata": {},
   "outputs": [
    {
     "data": {
      "text/plain": [
       "<AxesSubplot:ylabel='Density'>"
      ]
     },
     "execution_count": 26,
     "metadata": {},
     "output_type": "execute_result"
    },
    {
     "data": {
      "image/png": "[encoded data removed]",
      "text/plain": [
       "<Figure size 432x288 with 1 Axes>"
      ]
     },
     "metadata": {
      "needs_background": "light"
     },
     "output_type": "display_data"
    }
   ],
   "source": [
    "sns.distplot(x=Y_train)\n",
    "#This shows that our delay column is right skewed"
   ]
  },
  {
   "cell_type": "code",
   "execution_count": 27,
   "id": "a4e498ba",
   "metadata": {},
   "outputs": [
    {
     "data": {
      "text/html": [
       "<div>\n",
       "<style scoped>\n",
       "    .dataframe tbody tr th:only-of-type {\n",
       "        vertical-align: middle;\n",
       "    }\n",
       "\n",
       "    .dataframe tbody tr th {\n",
       "        vertical-align: top;\n",
       "    }\n",
       "\n",
       "    .dataframe thead th {\n",
       "        text-align: right;\n",
       "    }\n",
       "</style>\n",
       "<table border=\"1\" class=\"dataframe\">\n",
       "  <thead>\n",
       "    <tr style=\"text-align: right;\">\n",
       "      <th></th>\n",
       "      <th>key_0</th>\n",
       "      <th>business_code</th>\n",
       "      <th>cust_number</th>\n",
       "      <th>name_customer</th>\n",
       "      <th>clear_date</th>\n",
       "      <th>buisness_year</th>\n",
       "      <th>doc_id</th>\n",
       "      <th>posting_date</th>\n",
       "      <th>document_create_date</th>\n",
       "      <th>document_create_date.1</th>\n",
       "      <th>due_in_date</th>\n",
       "      <th>invoice_currency</th>\n",
       "      <th>document type</th>\n",
       "      <th>total_open_amount</th>\n",
       "      <th>baseline_create_date</th>\n",
       "      <th>cust_payment_terms</th>\n",
       "      <th>delay</th>\n",
       "    </tr>\n",
       "  </thead>\n",
       "  <tbody>\n",
       "    <tr>\n",
       "      <th>0</th>\n",
       "      <td>17979</td>\n",
       "      <td>U001</td>\n",
       "      <td>0200769623</td>\n",
       "      <td>WAL-MAR</td>\n",
       "      <td>2019-01-09</td>\n",
       "      <td>2019.0</td>\n",
       "      <td>1.928540e+09</td>\n",
       "      <td>2018-12-30</td>\n",
       "      <td>2018-12-29</td>\n",
       "      <td>2018-12-30</td>\n",
       "      <td>2019-01-14</td>\n",
       "      <td>USD</td>\n",
       "      <td>RV</td>\n",
       "      <td>10474.46</td>\n",
       "      <td>2018-12-30</td>\n",
       "      <td>NAH4</td>\n",
       "      <td>-5</td>\n",
       "    </tr>\n",
       "    <tr>\n",
       "      <th>1</th>\n",
       "      <td>49200</td>\n",
       "      <td>U013</td>\n",
       "      <td>0140103335</td>\n",
       "      <td>PARAM associates</td>\n",
       "      <td>2019-01-23</td>\n",
       "      <td>2019.0</td>\n",
       "      <td>1.991819e+09</td>\n",
       "      <td>2018-12-30</td>\n",
       "      <td>2018-12-26</td>\n",
       "      <td>2018-12-30</td>\n",
       "      <td>2019-01-29</td>\n",
       "      <td>USD</td>\n",
       "      <td>RV</td>\n",
       "      <td>10045.23</td>\n",
       "      <td>2018-12-30</td>\n",
       "      <td>NAVE</td>\n",
       "      <td>-6</td>\n",
       "    </tr>\n",
       "    <tr>\n",
       "      <th>2</th>\n",
       "      <td>6748</td>\n",
       "      <td>U001</td>\n",
       "      <td>0200769623</td>\n",
       "      <td>WAL-MAR corp</td>\n",
       "      <td>2019-01-09</td>\n",
       "      <td>2019.0</td>\n",
       "      <td>1.928538e+09</td>\n",
       "      <td>2018-12-30</td>\n",
       "      <td>2018-12-29</td>\n",
       "      <td>2018-12-30</td>\n",
       "      <td>2019-01-14</td>\n",
       "      <td>USD</td>\n",
       "      <td>RV</td>\n",
       "      <td>33537.22</td>\n",
       "      <td>2018-12-30</td>\n",
       "      <td>NAH4</td>\n",
       "      <td>-5</td>\n",
       "    </tr>\n",
       "    <tr>\n",
       "      <th>3</th>\n",
       "      <td>36062</td>\n",
       "      <td>U001</td>\n",
       "      <td>0200769623</td>\n",
       "      <td>WAL-MAR llc</td>\n",
       "      <td>2019-01-09</td>\n",
       "      <td>2019.0</td>\n",
       "      <td>1.928543e+09</td>\n",
       "      <td>2018-12-30</td>\n",
       "      <td>2018-12-30</td>\n",
       "      <td>2018-12-30</td>\n",
       "      <td>2019-01-14</td>\n",
       "      <td>USD</td>\n",
       "      <td>RV</td>\n",
       "      <td>32400.38</td>\n",
       "      <td>2018-12-30</td>\n",
       "      <td>NAH4</td>\n",
       "      <td>-5</td>\n",
       "    </tr>\n",
       "    <tr>\n",
       "      <th>4</th>\n",
       "      <td>41510</td>\n",
       "      <td>U001</td>\n",
       "      <td>0200769623</td>\n",
       "      <td>WAL-MAR trust</td>\n",
       "      <td>2019-01-15</td>\n",
       "      <td>2019.0</td>\n",
       "      <td>1.928541e+09</td>\n",
       "      <td>2018-12-30</td>\n",
       "      <td>2018-12-29</td>\n",
       "      <td>2018-12-30</td>\n",
       "      <td>2019-01-14</td>\n",
       "      <td>USD</td>\n",
       "      <td>RV</td>\n",
       "      <td>3748.94</td>\n",
       "      <td>2018-12-30</td>\n",
       "      <td>NAH4</td>\n",
       "      <td>1</td>\n",
       "    </tr>\n",
       "    <tr>\n",
       "      <th>...</th>\n",
       "      <td>...</td>\n",
       "      <td>...</td>\n",
       "      <td>...</td>\n",
       "      <td>...</td>\n",
       "      <td>...</td>\n",
       "      <td>...</td>\n",
       "      <td>...</td>\n",
       "      <td>...</td>\n",
       "      <td>...</td>\n",
       "      <td>...</td>\n",
       "      <td>...</td>\n",
       "      <td>...</td>\n",
       "      <td>...</td>\n",
       "      <td>...</td>\n",
       "      <td>...</td>\n",
       "      <td>...</td>\n",
       "      <td>...</td>\n",
       "    </tr>\n",
       "    <tr>\n",
       "      <th>29875</th>\n",
       "      <td>24027</td>\n",
       "      <td>U001</td>\n",
       "      <td>0200769623</td>\n",
       "      <td>WAL-MAR llc</td>\n",
       "      <td>2019-11-29</td>\n",
       "      <td>2019.0</td>\n",
       "      <td>1.930162e+09</td>\n",
       "      <td>2019-11-18</td>\n",
       "      <td>2019-11-16</td>\n",
       "      <td>2019-11-18</td>\n",
       "      <td>2019-12-03</td>\n",
       "      <td>USD</td>\n",
       "      <td>RV</td>\n",
       "      <td>14685.38</td>\n",
       "      <td>2019-11-18</td>\n",
       "      <td>NAH4</td>\n",
       "      <td>-4</td>\n",
       "    </tr>\n",
       "    <tr>\n",
       "      <th>29876</th>\n",
       "      <td>36710</td>\n",
       "      <td>U001</td>\n",
       "      <td>0200769623</td>\n",
       "      <td>WAL-MAR systems</td>\n",
       "      <td>2019-12-02</td>\n",
       "      <td>2019.0</td>\n",
       "      <td>1.930164e+09</td>\n",
       "      <td>2019-11-18</td>\n",
       "      <td>2019-11-17</td>\n",
       "      <td>2019-11-18</td>\n",
       "      <td>2019-12-03</td>\n",
       "      <td>USD</td>\n",
       "      <td>RV</td>\n",
       "      <td>50527.66</td>\n",
       "      <td>2019-11-18</td>\n",
       "      <td>NAH4</td>\n",
       "      <td>-1</td>\n",
       "    </tr>\n",
       "    <tr>\n",
       "      <th>29877</th>\n",
       "      <td>44686</td>\n",
       "      <td>U001</td>\n",
       "      <td>0200799342</td>\n",
       "      <td>MITCH corporation</td>\n",
       "      <td>2019-12-03</td>\n",
       "      <td>2019.0</td>\n",
       "      <td>1.930163e+09</td>\n",
       "      <td>2019-11-18</td>\n",
       "      <td>2019-11-17</td>\n",
       "      <td>2019-11-18</td>\n",
       "      <td>2019-12-03</td>\n",
       "      <td>USD</td>\n",
       "      <td>RV</td>\n",
       "      <td>149542.63</td>\n",
       "      <td>2019-11-18</td>\n",
       "      <td>NAA8</td>\n",
       "      <td>0</td>\n",
       "    </tr>\n",
       "    <tr>\n",
       "      <th>29878</th>\n",
       "      <td>1492</td>\n",
       "      <td>U001</td>\n",
       "      <td>0200769623</td>\n",
       "      <td>WAL-MAR</td>\n",
       "      <td>2019-11-29</td>\n",
       "      <td>2019.0</td>\n",
       "      <td>1.930164e+09</td>\n",
       "      <td>2019-11-18</td>\n",
       "      <td>2019-11-18</td>\n",
       "      <td>2019-11-18</td>\n",
       "      <td>2019-12-03</td>\n",
       "      <td>USD</td>\n",
       "      <td>RV</td>\n",
       "      <td>50952.97</td>\n",
       "      <td>2019-11-18</td>\n",
       "      <td>NAH4</td>\n",
       "      <td>-4</td>\n",
       "    </tr>\n",
       "    <tr>\n",
       "      <th>29879</th>\n",
       "      <td>48109</td>\n",
       "      <td>U001</td>\n",
       "      <td>0100054231</td>\n",
       "      <td>SUPERI us</td>\n",
       "      <td>2019-12-18</td>\n",
       "      <td>2019.0</td>\n",
       "      <td>1.930161e+09</td>\n",
       "      <td>2019-11-18</td>\n",
       "      <td>2019-11-15</td>\n",
       "      <td>2019-11-18</td>\n",
       "      <td>2019-12-03</td>\n",
       "      <td>USD</td>\n",
       "      <td>RV</td>\n",
       "      <td>26956.80</td>\n",
       "      <td>2019-11-18</td>\n",
       "      <td>NAA8</td>\n",
       "      <td>15</td>\n",
       "    </tr>\n",
       "  </tbody>\n",
       "</table>\n",
       "<p>29880 rows × 17 columns</p>\n",
       "</div>"
      ],
      "text/plain": [
       "       key_0 business_code cust_number      name_customer clear_date  \\\n",
       "0      17979          U001  0200769623           WAL-MAR  2019-01-09   \n",
       "1      49200          U013  0140103335   PARAM associates 2019-01-23   \n",
       "2       6748          U001  0200769623       WAL-MAR corp 2019-01-09   \n",
       "3      36062          U001  0200769623        WAL-MAR llc 2019-01-09   \n",
       "4      41510          U001  0200769623      WAL-MAR trust 2019-01-15   \n",
       "...      ...           ...         ...                ...        ...   \n",
       "29875  24027          U001  0200769623        WAL-MAR llc 2019-11-29   \n",
       "29876  36710          U001  0200769623    WAL-MAR systems 2019-12-02   \n",
       "29877  44686          U001  0200799342  MITCH corporation 2019-12-03   \n",
       "29878   1492          U001  0200769623           WAL-MAR  2019-11-29   \n",
       "29879  48109          U001  0100054231          SUPERI us 2019-12-18   \n",
       "\n",
       "       buisness_year        doc_id posting_date document_create_date  \\\n",
       "0             2019.0  1.928540e+09   2018-12-30           2018-12-29   \n",
       "1             2019.0  1.991819e+09   2018-12-30           2018-12-26   \n",
       "2             2019.0  1.928538e+09   2018-12-30           2018-12-29   \n",
       "3             2019.0  1.928543e+09   2018-12-30           2018-12-30   \n",
       "4             2019.0  1.928541e+09   2018-12-30           2018-12-29   \n",
       "...              ...           ...          ...                  ...   \n",
       "29875         2019.0  1.930162e+09   2019-11-18           2019-11-16   \n",
       "29876         2019.0  1.930164e+09   2019-11-18           2019-11-17   \n",
       "29877         2019.0  1.930163e+09   2019-11-18           2019-11-17   \n",
       "29878         2019.0  1.930164e+09   2019-11-18           2019-11-18   \n",
       "29879         2019.0  1.930161e+09   2019-11-18           2019-11-15   \n",
       "\n",
       "      document_create_date.1 due_in_date invoice_currency document type  \\\n",
       "0                 2018-12-30  2019-01-14              USD            RV   \n",
       "1                 2018-12-30  2019-01-29              USD            RV   \n",
       "2                 2018-12-30  2019-01-14              USD            RV   \n",
       "3                 2018-12-30  2019-01-14              USD            RV   \n",
       "4                 2018-12-30  2019-01-14              USD            RV   \n",
       "...                      ...         ...              ...           ...   \n",
       "29875             2019-11-18  2019-12-03              USD            RV   \n",
       "29876             2019-11-18  2019-12-03              USD            RV   \n",
       "29877             2019-11-18  2019-12-03              USD            RV   \n",
       "29878             2019-11-18  2019-12-03              USD            RV   \n",
       "29879             2019-11-18  2019-12-03              USD            RV   \n",
       "\n",
       "       total_open_amount baseline_create_date cust_payment_terms  delay  \n",
       "0               10474.46           2018-12-30               NAH4     -5  \n",
       "1               10045.23           2018-12-30               NAVE     -6  \n",
       "2               33537.22           2018-12-30               NAH4     -5  \n",
       "3               32400.38           2018-12-30               NAH4     -5  \n",
       "4                3748.94           2018-12-30               NAH4      1  \n",
       "...                  ...                  ...                ...    ...  \n",
       "29875           14685.38           2019-11-18               NAH4     -4  \n",
       "29876           50527.66           2019-11-18               NAH4     -1  \n",
       "29877          149542.63           2019-11-18               NAA8      0  \n",
       "29878           50952.97           2019-11-18               NAH4     -4  \n",
       "29879           26956.80           2019-11-18               NAA8     15  \n",
       "\n",
       "[29880 rows x 17 columns]"
      ]
     },
     "execution_count": 27,
     "metadata": {},
     "output_type": "execute_result"
    }
   ],
   "source": [
    "X_train.merge(Y_train,on = X_train.index)"
   ]
  },
  {
   "cell_type": "code",
   "execution_count": 28,
   "id": "99c47f63",
   "metadata": {},
   "outputs": [
    {
     "data": {
      "image/png": "[encoded data removed]",
      "text/plain": [
       "<Figure size 432x288 with 1 Axes>"
      ]
     },
     "metadata": {
      "needs_background": "light"
     },
     "output_type": "display_data"
    }
   ],
   "source": [
    "#here we are checking the relation between month of due date to the delay we can say that as month increases delay decreases\n",
    "sns.lineplot(X_train.merge(Y_train,on = X_train.index)[\"due_in_date\"].dt.month,X_train.merge(Y_train,on = X_train.index)[\"delay\"])\n",
    "plt.xlabel(\"due month\")\n",
    "plt.ylabel(\"delay\")\n",
    "plt.title(\"month due vs delay\")\n",
    "plt.show()"
   ]
  },
  {
   "cell_type": "code",
   "execution_count": 29,
   "id": "d76ee80c",
   "metadata": {},
   "outputs": [
    {
     "data": {
      "image/png": "[encoded data removed]",
      "text/plain": [
       "<Figure size 432x288 with 1 Axes>"
      ]
     },
     "metadata": {
      "needs_background": "light"
     },
     "output_type": "display_data"
    }
   ],
   "source": [
    "#plot between delay and amount the graph does not show any clear pattern\n",
    "sns.lineplot(X_train.merge(Y_train,on = X_train.index)[\"delay\"],X_train.merge(Y_train,on = X_train.index)[\"total_open_amount\"])\n",
    "plt.title(\"Delay vs Amount\")\n",
    "plt.xlabel(\"delay\")\n",
    "plt.ylabel(\"total_open_amount\")\n",
    "plt.show()"
   ]
  },
  {
   "cell_type": "code",
   "execution_count": 30,
   "id": "cce40306",
   "metadata": {},
   "outputs": [
    {
     "data": {
      "image/png": "[encoded data removed]",
      "text/plain": [
       "<Figure size 432x288 with 1 Axes>"
      ]
     },
     "metadata": {
      "needs_background": "light"
     },
     "output_type": "display_data"
    }
   ],
   "source": [
    "#we cansee from this graph there is a rise in delay after october this maybe because of the holiday months\n",
    "sns.lineplot(X_train.merge(Y_train,on = X_train.index)['document_create_date.1'].dt.month, X_train.merge(Y_train,on = X_train.index)['delay'])\n",
    "plt.xlabel(\"doc create month\")\n",
    "plt.ylabel(\"delay\")\n",
    "plt.title(\"create month vs delay\")\n",
    "plt.show()"
   ]
  },
  {
   "cell_type": "code",
   "execution_count": 31,
   "id": "712e50cf",
   "metadata": {},
   "outputs": [
    {
     "data": {
      "image/png": "[encoded data removed]",
      "text/plain": [
       "<Figure size 432x288 with 1 Axes>"
      ]
     },
     "metadata": {
      "needs_background": "light"
     },
     "output_type": "display_data"
    }
   ],
   "source": [
    "#we can see asteady decline in delay as the year increases\n",
    "sns.lineplot(X_train.merge(Y_train,on = X_train.index)['due_in_date'].dt.year, X_train.merge(Y_train,on = X_train.index)['delay'])\n",
    "plt.xlabel(\"year\")\n",
    "plt.ylabel(\"delay\")\n",
    "plt.title(\"year vs delay\")\n",
    "plt.show()"
   ]
  },
  {
   "cell_type": "code",
   "execution_count": 32,
   "id": "14bf5c06",
   "metadata": {},
   "outputs": [
    {
     "data": {
      "image/png": "[encoded data removed]",
      "text/plain": [
       "<Figure size 432x288 with 1 Axes>"
      ]
     },
     "metadata": {
      "needs_background": "light"
     },
     "output_type": "display_data"
    }
   ],
   "source": [
    "#we can see a steady decline here also but there was a rise in delay between the 2nd and 3rd quarter\n",
    "sns.lineplot(X_train.merge(Y_train,on = X_train.index)['due_in_date'].dt.quarter, X_train.merge(Y_train,on = X_train.index)['delay'])\n",
    "plt.xlabel(\"month quarter\")\n",
    "plt.ylabel(\"delay\")\n",
    "plt.title(\"month quarter vs delay\")\n",
    "plt.show()"
   ]
  },
  {
   "cell_type": "code",
   "execution_count": 33,
   "id": "4f472988",
   "metadata": {},
   "outputs": [
    {
     "data": {
      "image/png": "[encoded data removed]",
      "text/plain": [
       "<Figure size 432x288 with 1 Axes>"
      ]
     },
     "metadata": {
      "needs_background": "light"
     },
     "output_type": "display_data"
    }
   ],
   "source": [
    "#we can see a huge increase in delay after october\n",
    "sns.lineplot(X_train.merge(Y_train,on = X_train.index)['clear_date'].dt.month, X_train.merge(Y_train,on = X_train.index)['delay'])\n",
    "plt.xlabel(\"clear month\")\n",
    "plt.ylabel(\"delay\")\n",
    "plt.title(\"clear month vs delay\")\n",
    "plt.show()"
   ]
  },
  {
   "cell_type": "markdown",
   "id": "083e9e8a",
   "metadata": {},
   "source": [
    "# Feature Engineering"
   ]
  },
  {
   "cell_type": "code",
   "execution_count": 34,
   "id": "58be18e0",
   "metadata": {},
   "outputs": [
    {
     "name": "stdout",
     "output_type": "stream",
     "text": [
      "<class 'pandas.core.frame.DataFrame'>\n",
      "Int64Index: 29880 entries, 17979 to 48109\n",
      "Data columns (total 15 columns):\n",
      " #   Column                  Non-Null Count  Dtype         \n",
      "---  ------                  --------------  -----         \n",
      " 0   business_code           29880 non-null  object        \n",
      " 1   cust_number             29880 non-null  object        \n",
      " 2   name_customer           29880 non-null  object        \n",
      " 3   clear_date              29880 non-null  datetime64[ns]\n",
      " 4   buisness_year           29880 non-null  float64       \n",
      " 5   doc_id                  29880 non-null  float64       \n",
      " 6   posting_date            29880 non-null  datetime64[ns]\n",
      " 7   document_create_date    29880 non-null  datetime64[ns]\n",
      " 8   document_create_date.1  29880 non-null  datetime64[ns]\n",
      " 9   due_in_date             29880 non-null  datetime64[ns]\n",
      " 10  invoice_currency        29880 non-null  object        \n",
      " 11  document type           29880 non-null  object        \n",
      " 12  total_open_amount       29880 non-null  float64       \n",
      " 13  baseline_create_date    29880 non-null  datetime64[ns]\n",
      " 14  cust_payment_terms      29880 non-null  object        \n",
      "dtypes: datetime64[ns](6), float64(3), object(6)\n",
      "memory usage: 3.6+ MB\n"
     ]
    }
   ],
   "source": [
    "X_train.info()"
   ]
  },
  {
   "cell_type": "code",
   "execution_count": 35,
   "id": "aee63111",
   "metadata": {},
   "outputs": [],
   "source": [
    "#first we create two new colums named time_to_make_doc and days after document as delay is related to due_in_date which is related to document_create_date.1 \n",
    "X_train[\"time_to_mak_doc\"]=(X_train[\"document_create_date.1\"]-X_train[\"baseline_create_date\"]).dt.days"
   ]
  },
  {
   "cell_type": "code",
   "execution_count": 36,
   "id": "18a4a827",
   "metadata": {},
   "outputs": [],
   "source": [
    "x_test[\"time_to_mak_doc\"]=(x_test[\"document_create_date.1\"]-x_test[\"baseline_create_date\"]).dt.days\n",
    "x_val[\"time_to_mak_doc\"]=(x_val[\"document_create_date.1\"]-x_val[\"baseline_create_date\"]).dt.days"
   ]
  },
  {
   "cell_type": "code",
   "execution_count": 37,
   "id": "764f78a8",
   "metadata": {},
   "outputs": [],
   "source": [
    "X_train['days_after_document']=(X_train['due_in_date']-X_train['document_create_date.1']).dt.days"
   ]
  },
  {
   "cell_type": "code",
   "execution_count": 38,
   "id": "08377cc7",
   "metadata": {},
   "outputs": [],
   "source": [
    "x_test['days_after_document']=(x_test['due_in_date']-x_test['document_create_date.1']).dt.days\n",
    "x_val['days_after_document']=(x_val['due_in_date']-x_val['document_create_date.1']).dt.days"
   ]
  },
  {
   "cell_type": "code",
   "execution_count": 39,
   "id": "3b34f4f5",
   "metadata": {},
   "outputs": [
    {
     "name": "stdout",
     "output_type": "stream",
     "text": [
      "<class 'pandas.core.frame.DataFrame'>\n",
      "Int64Index: 29880 entries, 17979 to 48109\n",
      "Data columns (total 17 columns):\n",
      " #   Column                  Non-Null Count  Dtype         \n",
      "---  ------                  --------------  -----         \n",
      " 0   business_code           29880 non-null  object        \n",
      " 1   cust_number             29880 non-null  object        \n",
      " 2   name_customer           29880 non-null  object        \n",
      " 3   clear_date              29880 non-null  datetime64[ns]\n",
      " 4   buisness_year           29880 non-null  float64       \n",
      " 5   doc_id                  29880 non-null  float64       \n",
      " 6   posting_date            29880 non-null  datetime64[ns]\n",
      " 7   document_create_date    29880 non-null  datetime64[ns]\n",
      " 8   document_create_date.1  29880 non-null  datetime64[ns]\n",
      " 9   due_in_date             29880 non-null  datetime64[ns]\n",
      " 10  invoice_currency        29880 non-null  object        \n",
      " 11  document type           29880 non-null  object        \n",
      " 12  total_open_amount       29880 non-null  float64       \n",
      " 13  baseline_create_date    29880 non-null  datetime64[ns]\n",
      " 14  cust_payment_terms      29880 non-null  object        \n",
      " 15  time_to_mak_doc         29880 non-null  int64         \n",
      " 16  days_after_document     29880 non-null  int64         \n",
      "dtypes: datetime64[ns](6), float64(3), int64(2), object(6)\n",
      "memory usage: 4.1+ MB\n"
     ]
    }
   ],
   "source": [
    "X_train.info()"
   ]
  },
  {
   "cell_type": "markdown",
   "id": "e781f340",
   "metadata": {},
   "source": [
    "## Business code"
   ]
  },
  {
   "cell_type": "code",
   "execution_count": 40,
   "id": "cc7fd836",
   "metadata": {},
   "outputs": [
    {
     "data": {
      "text/plain": [
       "5"
      ]
     },
     "execution_count": 40,
     "metadata": {},
     "output_type": "execute_result"
    }
   ],
   "source": [
    "#as we can see there are only 5 unique values in business_code we can easily encode them using label encoder\n",
    "X_train[\"business_code\"].nunique()"
   ]
  },
  {
   "cell_type": "code",
   "execution_count": 41,
   "id": "44c895b5",
   "metadata": {},
   "outputs": [],
   "source": [
    "from sklearn.preprocessing import LabelEncoder"
   ]
  },
  {
   "cell_type": "code",
   "execution_count": 42,
   "id": "084c66d5",
   "metadata": {},
   "outputs": [
    {
     "data": {
      "text/plain": [
       "17979    U001\n",
       "49200    U013\n",
       "6748     U001\n",
       "36062    U001\n",
       "41510    U001\n",
       "         ... \n",
       "24027    U001\n",
       "36710    U001\n",
       "44686    U001\n",
       "1492     U001\n",
       "48109    U001\n",
       "Name: business_code, Length: 29880, dtype: object"
      ]
     },
     "execution_count": 42,
     "metadata": {},
     "output_type": "execute_result"
    }
   ],
   "source": [
    "X_train[\"business_code\"]"
   ]
  },
  {
   "cell_type": "code",
   "execution_count": 43,
   "id": "b82c16bf",
   "metadata": {},
   "outputs": [],
   "source": [
    "Business_encoder = LabelEncoder()\n",
    "Business_encoder.fit(X_train['business_code'])\n",
    "X_train['Business_enc'] = Business_encoder.transform(X_train['business_code'])"
   ]
  },
  {
   "cell_type": "code",
   "execution_count": 44,
   "id": "2b914bbd",
   "metadata": {},
   "outputs": [],
   "source": [
    "x_test['Business_enc'] = Business_encoder.transform(x_test['business_code'])\n",
    "x_val['Business_enc'] = Business_encoder.transform(x_val['business_code'])"
   ]
  },
  {
   "cell_type": "code",
   "execution_count": 45,
   "id": "db06a97d",
   "metadata": {},
   "outputs": [
    {
     "data": {
      "text/html": [
       "<div>\n",
       "<style scoped>\n",
       "    .dataframe tbody tr th:only-of-type {\n",
       "        vertical-align: middle;\n",
       "    }\n",
       "\n",
       "    .dataframe tbody tr th {\n",
       "        vertical-align: top;\n",
       "    }\n",
       "\n",
       "    .dataframe thead th {\n",
       "        text-align: right;\n",
       "    }\n",
       "</style>\n",
       "<table border=\"1\" class=\"dataframe\">\n",
       "  <thead>\n",
       "    <tr style=\"text-align: right;\">\n",
       "      <th></th>\n",
       "      <th>Business_enc</th>\n",
       "      <th>business_code</th>\n",
       "    </tr>\n",
       "  </thead>\n",
       "  <tbody>\n",
       "    <tr>\n",
       "      <th>17979</th>\n",
       "      <td>1</td>\n",
       "      <td>U001</td>\n",
       "    </tr>\n",
       "    <tr>\n",
       "      <th>49200</th>\n",
       "      <td>4</td>\n",
       "      <td>U013</td>\n",
       "    </tr>\n",
       "    <tr>\n",
       "      <th>6748</th>\n",
       "      <td>1</td>\n",
       "      <td>U001</td>\n",
       "    </tr>\n",
       "    <tr>\n",
       "      <th>36062</th>\n",
       "      <td>1</td>\n",
       "      <td>U001</td>\n",
       "    </tr>\n",
       "    <tr>\n",
       "      <th>41510</th>\n",
       "      <td>1</td>\n",
       "      <td>U001</td>\n",
       "    </tr>\n",
       "    <tr>\n",
       "      <th>...</th>\n",
       "      <td>...</td>\n",
       "      <td>...</td>\n",
       "    </tr>\n",
       "    <tr>\n",
       "      <th>24027</th>\n",
       "      <td>1</td>\n",
       "      <td>U001</td>\n",
       "    </tr>\n",
       "    <tr>\n",
       "      <th>36710</th>\n",
       "      <td>1</td>\n",
       "      <td>U001</td>\n",
       "    </tr>\n",
       "    <tr>\n",
       "      <th>44686</th>\n",
       "      <td>1</td>\n",
       "      <td>U001</td>\n",
       "    </tr>\n",
       "    <tr>\n",
       "      <th>1492</th>\n",
       "      <td>1</td>\n",
       "      <td>U001</td>\n",
       "    </tr>\n",
       "    <tr>\n",
       "      <th>48109</th>\n",
       "      <td>1</td>\n",
       "      <td>U001</td>\n",
       "    </tr>\n",
       "  </tbody>\n",
       "</table>\n",
       "<p>29880 rows × 2 columns</p>\n",
       "</div>"
      ],
      "text/plain": [
       "       Business_enc business_code\n",
       "17979             1          U001\n",
       "49200             4          U013\n",
       "6748              1          U001\n",
       "36062             1          U001\n",
       "41510             1          U001\n",
       "...             ...           ...\n",
       "24027             1          U001\n",
       "36710             1          U001\n",
       "44686             1          U001\n",
       "1492              1          U001\n",
       "48109             1          U001\n",
       "\n",
       "[29880 rows x 2 columns]"
      ]
     },
     "execution_count": 45,
     "metadata": {},
     "output_type": "execute_result"
    }
   ],
   "source": [
    "X_train[['Business_enc','business_code']]"
   ]
  },
  {
   "cell_type": "code",
   "execution_count": 46,
   "id": "6c34c9f5",
   "metadata": {},
   "outputs": [],
   "source": [
    "X_train.drop([\"business_code\"],axis=1,inplace=True)"
   ]
  },
  {
   "cell_type": "code",
   "execution_count": 47,
   "id": "be636682",
   "metadata": {},
   "outputs": [],
   "source": [
    "x_test.drop([\"business_code\"],axis=1,inplace=True)\n",
    "x_val.drop([\"business_code\"],axis=1,inplace=True)"
   ]
  },
  {
   "cell_type": "code",
   "execution_count": 48,
   "id": "17c2bf53",
   "metadata": {},
   "outputs": [
    {
     "name": "stdout",
     "output_type": "stream",
     "text": [
      "<class 'pandas.core.frame.DataFrame'>\n",
      "Int64Index: 29880 entries, 17979 to 48109\n",
      "Data columns (total 17 columns):\n",
      " #   Column                  Non-Null Count  Dtype         \n",
      "---  ------                  --------------  -----         \n",
      " 0   cust_number             29880 non-null  object        \n",
      " 1   name_customer           29880 non-null  object        \n",
      " 2   clear_date              29880 non-null  datetime64[ns]\n",
      " 3   buisness_year           29880 non-null  float64       \n",
      " 4   doc_id                  29880 non-null  float64       \n",
      " 5   posting_date            29880 non-null  datetime64[ns]\n",
      " 6   document_create_date    29880 non-null  datetime64[ns]\n",
      " 7   document_create_date.1  29880 non-null  datetime64[ns]\n",
      " 8   due_in_date             29880 non-null  datetime64[ns]\n",
      " 9   invoice_currency        29880 non-null  object        \n",
      " 10  document type           29880 non-null  object        \n",
      " 11  total_open_amount       29880 non-null  float64       \n",
      " 12  baseline_create_date    29880 non-null  datetime64[ns]\n",
      " 13  cust_payment_terms      29880 non-null  object        \n",
      " 14  time_to_mak_doc         29880 non-null  int64         \n",
      " 15  days_after_document     29880 non-null  int64         \n",
      " 16  Business_enc            29880 non-null  int32         \n",
      "dtypes: datetime64[ns](6), float64(3), int32(1), int64(2), object(5)\n",
      "memory usage: 4.0+ MB\n"
     ]
    }
   ],
   "source": [
    "X_train.info()"
   ]
  },
  {
   "cell_type": "markdown",
   "id": "855fc1df",
   "metadata": {},
   "source": [
    "## Customer Number"
   ]
  },
  {
   "cell_type": "code",
   "execution_count": 49,
   "id": "d7ed9bb2",
   "metadata": {},
   "outputs": [
    {
     "data": {
      "text/plain": [
       "17979               WAL-MAR \n",
       "6748            WAL-MAR corp\n",
       "36062            WAL-MAR llc\n",
       "41510          WAL-MAR trust\n",
       "22670             WAL-MAR us\n",
       "                ...         \n",
       "4126            WAL-MAR corp\n",
       "21183    WAL-MAR corporation\n",
       "24027            WAL-MAR llc\n",
       "36710        WAL-MAR systems\n",
       "1492                WAL-MAR \n",
       "Name: name_customer, Length: 6904, dtype: object"
      ]
     },
     "execution_count": 49,
     "metadata": {},
     "output_type": "execute_result"
    }
   ],
   "source": [
    "X_train.name_customer[X_train[\"cust_number\"]==\"0200769623\"]\n",
    "#We can infer that different customer number contains groups of diff companies so we can drop customer names"
   ]
  },
  {
   "cell_type": "code",
   "execution_count": 50,
   "id": "d89a7dbf",
   "metadata": {},
   "outputs": [],
   "source": [
    "X_train.drop([\"name_customer\"],axis=1,inplace=True)\n",
    "x_test.drop([\"name_customer\"],axis=1,inplace=True)\n",
    "x_val.drop([\"name_customer\"],axis=1,inplace=True)"
   ]
  },
  {
   "cell_type": "code",
   "execution_count": 51,
   "id": "3c96ca55",
   "metadata": {},
   "outputs": [
    {
     "data": {
      "text/plain": [
       "count          29880\n",
       "unique          1142\n",
       "top       0200769623\n",
       "freq            6904\n",
       "Name: cust_number, dtype: object"
      ]
     },
     "execution_count": 51,
     "metadata": {},
     "output_type": "execute_result"
    }
   ],
   "source": [
    "#we can see that certain customer numbers are quite high in frequency and the rest have very less frequency\n",
    "#hence we drop this column\n",
    "X_train[\"cust_number\"].describe()"
   ]
  },
  {
   "cell_type": "code",
   "execution_count": 52,
   "id": "5925be4b",
   "metadata": {},
   "outputs": [],
   "source": [
    "X_train.drop([\"cust_number\"],axis=1,inplace=True)\n",
    "x_test.drop([\"cust_number\"],axis=1,inplace=True)\n",
    "x_val.drop([\"cust_number\"],axis=1,inplace=True)"
   ]
  },
  {
   "cell_type": "code",
   "execution_count": 53,
   "id": "bae303f7",
   "metadata": {},
   "outputs": [
    {
     "name": "stdout",
     "output_type": "stream",
     "text": [
      "<class 'pandas.core.frame.DataFrame'>\n",
      "Int64Index: 29880 entries, 17979 to 48109\n",
      "Data columns (total 15 columns):\n",
      " #   Column                  Non-Null Count  Dtype         \n",
      "---  ------                  --------------  -----         \n",
      " 0   clear_date              29880 non-null  datetime64[ns]\n",
      " 1   buisness_year           29880 non-null  float64       \n",
      " 2   doc_id                  29880 non-null  float64       \n",
      " 3   posting_date            29880 non-null  datetime64[ns]\n",
      " 4   document_create_date    29880 non-null  datetime64[ns]\n",
      " 5   document_create_date.1  29880 non-null  datetime64[ns]\n",
      " 6   due_in_date             29880 non-null  datetime64[ns]\n",
      " 7   invoice_currency        29880 non-null  object        \n",
      " 8   document type           29880 non-null  object        \n",
      " 9   total_open_amount       29880 non-null  float64       \n",
      " 10  baseline_create_date    29880 non-null  datetime64[ns]\n",
      " 11  cust_payment_terms      29880 non-null  object        \n",
      " 12  time_to_mak_doc         29880 non-null  int64         \n",
      " 13  days_after_document     29880 non-null  int64         \n",
      " 14  Business_enc            29880 non-null  int32         \n",
      "dtypes: datetime64[ns](6), float64(3), int32(1), int64(2), object(3)\n",
      "memory usage: 3.5+ MB\n"
     ]
    }
   ],
   "source": [
    "X_train.info()"
   ]
  },
  {
   "cell_type": "markdown",
   "id": "c301aba0",
   "metadata": {},
   "source": [
    "## Clear Date"
   ]
  },
  {
   "cell_type": "code",
   "execution_count": 54,
   "id": "5587d069",
   "metadata": {},
   "outputs": [],
   "source": [
    "#as clear date is the column we need to predict we dont need the model to train over it\n",
    "X_train.drop([\"clear_date\"],axis=1,inplace=True)\n",
    "x_test.drop([\"clear_date\"],axis=1,inplace=True)\n",
    "x_val.drop([\"clear_date\"],axis=1,inplace=True)"
   ]
  },
  {
   "cell_type": "code",
   "execution_count": 55,
   "id": "d3f6a79b",
   "metadata": {},
   "outputs": [],
   "source": [
    "#buisness year can be extracted from any other date columns and it also is quasi constant as most values are 2019 so we can drop this too\n",
    "X_train.drop([\"buisness_year\"],axis=1,inplace=True)\n",
    "x_test.drop([\"buisness_year\"],axis=1,inplace=True)\n",
    "x_val.drop([\"buisness_year\"],axis=1,inplace=True)"
   ]
  },
  {
   "cell_type": "markdown",
   "id": "44e30889",
   "metadata": {},
   "source": [
    "## Due in date"
   ]
  },
  {
   "cell_type": "code",
   "execution_count": 56,
   "id": "54389766",
   "metadata": {},
   "outputs": [],
   "source": [
    "#as we saw from the graph there is an impact of due_in_date month on delay we can extract the month and use it as a feature\n",
    "X_train[\"due_in_date.month\"]=X_train[\"due_in_date\"].dt.month\n",
    "x_test[\"due_in_date.month\"]=x_test[\"due_in_date\"].dt.month\n",
    "x_val[\"due_in_date.month\"]=x_val[\"due_in_date\"].dt.month"
   ]
  },
  {
   "cell_type": "code",
   "execution_count": 57,
   "id": "9361bd14",
   "metadata": {},
   "outputs": [],
   "source": [
    "X_train.drop([\"due_in_date\"],axis=1,inplace=True)\n",
    "x_test.drop([\"due_in_date\"],axis=1,inplace=True)\n",
    "x_val.drop([\"due_in_date\"],axis=1,inplace=True)"
   ]
  },
  {
   "cell_type": "code",
   "execution_count": 58,
   "id": "55711d14",
   "metadata": {},
   "outputs": [
    {
     "name": "stdout",
     "output_type": "stream",
     "text": [
      "<class 'pandas.core.frame.DataFrame'>\n",
      "Int64Index: 29880 entries, 17979 to 48109\n",
      "Data columns (total 13 columns):\n",
      " #   Column                  Non-Null Count  Dtype         \n",
      "---  ------                  --------------  -----         \n",
      " 0   doc_id                  29880 non-null  float64       \n",
      " 1   posting_date            29880 non-null  datetime64[ns]\n",
      " 2   document_create_date    29880 non-null  datetime64[ns]\n",
      " 3   document_create_date.1  29880 non-null  datetime64[ns]\n",
      " 4   invoice_currency        29880 non-null  object        \n",
      " 5   document type           29880 non-null  object        \n",
      " 6   total_open_amount       29880 non-null  float64       \n",
      " 7   baseline_create_date    29880 non-null  datetime64[ns]\n",
      " 8   cust_payment_terms      29880 non-null  object        \n",
      " 9   time_to_mak_doc         29880 non-null  int64         \n",
      " 10  days_after_document     29880 non-null  int64         \n",
      " 11  Business_enc            29880 non-null  int32         \n",
      " 12  due_in_date.month       29880 non-null  int64         \n",
      "dtypes: datetime64[ns](4), float64(2), int32(1), int64(3), object(3)\n",
      "memory usage: 3.1+ MB\n"
     ]
    }
   ],
   "source": [
    "X_train.info()"
   ]
  },
  {
   "cell_type": "markdown",
   "id": "8252937a",
   "metadata": {},
   "source": [
    "## Posting date"
   ]
  },
  {
   "cell_type": "code",
   "execution_count": 59,
   "id": "e52d8e9c",
   "metadata": {},
   "outputs": [],
   "source": [
    "#we saw from the graph that document_create_date month also has an impact on delay and we can also see that posting date and document_create_date.month has almost same month patterns\n",
    "X_train[\"posting_date.month\"]=X_train[\"posting_date\"].dt.month\n",
    "x_test[\"posting_date.month\"]=x_test[\"posting_date\"].dt.month\n",
    "x_val[\"posting_date.month\"]=x_val[\"posting_date\"].dt.month"
   ]
  },
  {
   "cell_type": "code",
   "execution_count": 60,
   "id": "9214ddb7",
   "metadata": {},
   "outputs": [],
   "source": [
    "X_train.drop([\"posting_date\"],axis=1,inplace=True)\n",
    "x_test.drop([\"posting_date\"],axis=1,inplace=True)\n",
    "x_val.drop([\"posting_date\"],axis=1,inplace=True)"
   ]
  },
  {
   "cell_type": "code",
   "execution_count": 61,
   "id": "b0d27bef",
   "metadata": {},
   "outputs": [],
   "source": [
    "X_train.drop([\"document_create_date\"],axis=1,inplace=True)\n",
    "x_test.drop([\"document_create_date\"],axis=1,inplace=True)\n",
    "x_val.drop([\"document_create_date\"],axis=1,inplace=True)"
   ]
  },
  {
   "cell_type": "code",
   "execution_count": 62,
   "id": "b3b08ba1",
   "metadata": {},
   "outputs": [],
   "source": [
    "X_train.drop([\"document_create_date.1\"],axis=1,inplace=True)\n",
    "x_test.drop([\"document_create_date.1\"],axis=1,inplace=True)\n",
    "x_val.drop([\"document_create_date.1\"],axis=1,inplace=True)"
   ]
  },
  {
   "cell_type": "markdown",
   "id": "e73152f0",
   "metadata": {},
   "source": [
    "## Baseline Create Date"
   ]
  },
  {
   "cell_type": "code",
   "execution_count": 63,
   "id": "f3ddecd7",
   "metadata": {},
   "outputs": [],
   "source": [
    "X_train[\"baseline_create_date.day\"]=X_train[\"baseline_create_date\"].dt.day\n",
    "x_test[\"baseline_create_date.day\"]=x_test[\"baseline_create_date\"].dt.day\n",
    "x_val[\"baseline_create_date.day\"]=x_val[\"baseline_create_date\"].dt.day"
   ]
  },
  {
   "cell_type": "code",
   "execution_count": 64,
   "id": "da168111",
   "metadata": {},
   "outputs": [],
   "source": [
    "X_train.drop([\"baseline_create_date\"],axis=1,inplace=True)\n",
    "x_test.drop([\"baseline_create_date\"],axis=1,inplace=True)\n",
    "x_val.drop([\"baseline_create_date\"],axis=1,inplace=True)"
   ]
  },
  {
   "cell_type": "code",
   "execution_count": 65,
   "id": "064b6266",
   "metadata": {},
   "outputs": [
    {
     "name": "stdout",
     "output_type": "stream",
     "text": [
      "<class 'pandas.core.frame.DataFrame'>\n",
      "Int64Index: 29880 entries, 17979 to 48109\n",
      "Data columns (total 11 columns):\n",
      " #   Column                    Non-Null Count  Dtype  \n",
      "---  ------                    --------------  -----  \n",
      " 0   doc_id                    29880 non-null  float64\n",
      " 1   invoice_currency          29880 non-null  object \n",
      " 2   document type             29880 non-null  object \n",
      " 3   total_open_amount         29880 non-null  float64\n",
      " 4   cust_payment_terms        29880 non-null  object \n",
      " 5   time_to_mak_doc           29880 non-null  int64  \n",
      " 6   days_after_document       29880 non-null  int64  \n",
      " 7   Business_enc              29880 non-null  int32  \n",
      " 8   due_in_date.month         29880 non-null  int64  \n",
      " 9   posting_date.month        29880 non-null  int64  \n",
      " 10  baseline_create_date.day  29880 non-null  int64  \n",
      "dtypes: float64(2), int32(1), int64(5), object(3)\n",
      "memory usage: 2.6+ MB\n"
     ]
    }
   ],
   "source": [
    "X_train.info()"
   ]
  },
  {
   "cell_type": "code",
   "execution_count": 66,
   "id": "f9ee048e",
   "metadata": {},
   "outputs": [],
   "source": [
    "#doc id has a lot of unique values and hence we can not infer any particular relation from it so we are dropping this column\n",
    "X_train.drop([\"doc_id\"],axis=1,inplace=True)\n",
    "x_test.drop([\"doc_id\"],axis=1,inplace=True)\n",
    "x_val.drop([\"doc_id\"],axis=1,inplace=True)"
   ]
  },
  {
   "cell_type": "code",
   "execution_count": 67,
   "id": "da399292",
   "metadata": {},
   "outputs": [
    {
     "name": "stdout",
     "output_type": "stream",
     "text": [
      "<class 'pandas.core.frame.DataFrame'>\n",
      "Int64Index: 29880 entries, 17979 to 48109\n",
      "Data columns (total 10 columns):\n",
      " #   Column                    Non-Null Count  Dtype  \n",
      "---  ------                    --------------  -----  \n",
      " 0   invoice_currency          29880 non-null  object \n",
      " 1   document type             29880 non-null  object \n",
      " 2   total_open_amount         29880 non-null  float64\n",
      " 3   cust_payment_terms        29880 non-null  object \n",
      " 4   time_to_mak_doc           29880 non-null  int64  \n",
      " 5   days_after_document       29880 non-null  int64  \n",
      " 6   Business_enc              29880 non-null  int32  \n",
      " 7   due_in_date.month         29880 non-null  int64  \n",
      " 8   posting_date.month        29880 non-null  int64  \n",
      " 9   baseline_create_date.day  29880 non-null  int64  \n",
      "dtypes: float64(1), int32(1), int64(5), object(3)\n",
      "memory usage: 2.4+ MB\n"
     ]
    }
   ],
   "source": [
    "X_train.info()\n"
   ]
  },
  {
   "cell_type": "markdown",
   "id": "1b3a444c",
   "metadata": {},
   "source": [
    "## Invoice Currency"
   ]
  },
  {
   "cell_type": "code",
   "execution_count": 68,
   "id": "9efd6879",
   "metadata": {},
   "outputs": [
    {
     "data": {
      "text/plain": [
       "count     29880\n",
       "unique        2\n",
       "top         USD\n",
       "freq      29357\n",
       "Name: invoice_currency, dtype: object"
      ]
     },
     "execution_count": 68,
     "metadata": {},
     "output_type": "execute_result"
    }
   ],
   "source": [
    "#we can encode Invoice currency using label encoder\n",
    "X_train[\"invoice_currency\"].describe()"
   ]
  },
  {
   "cell_type": "code",
   "execution_count": 69,
   "id": "838acf01",
   "metadata": {},
   "outputs": [],
   "source": [
    "Currency_encoder = LabelEncoder()\n",
    "Currency_encoder.fit(X_train[\"invoice_currency\"])\n",
    "X_train[\"Currency_enc\"] = Currency_encoder.transform(X_train[\"invoice_currency\"])"
   ]
  },
  {
   "cell_type": "code",
   "execution_count": 70,
   "id": "d82d1522",
   "metadata": {},
   "outputs": [
    {
     "data": {
      "text/html": [
       "<div>\n",
       "<style scoped>\n",
       "    .dataframe tbody tr th:only-of-type {\n",
       "        vertical-align: middle;\n",
       "    }\n",
       "\n",
       "    .dataframe tbody tr th {\n",
       "        vertical-align: top;\n",
       "    }\n",
       "\n",
       "    .dataframe thead th {\n",
       "        text-align: right;\n",
       "    }\n",
       "</style>\n",
       "<table border=\"1\" class=\"dataframe\">\n",
       "  <thead>\n",
       "    <tr style=\"text-align: right;\">\n",
       "      <th></th>\n",
       "      <th>Currency_enc</th>\n",
       "      <th>invoice_currency</th>\n",
       "    </tr>\n",
       "  </thead>\n",
       "  <tbody>\n",
       "    <tr>\n",
       "      <th>17979</th>\n",
       "      <td>1</td>\n",
       "      <td>USD</td>\n",
       "    </tr>\n",
       "    <tr>\n",
       "      <th>49200</th>\n",
       "      <td>1</td>\n",
       "      <td>USD</td>\n",
       "    </tr>\n",
       "    <tr>\n",
       "      <th>6748</th>\n",
       "      <td>1</td>\n",
       "      <td>USD</td>\n",
       "    </tr>\n",
       "    <tr>\n",
       "      <th>36062</th>\n",
       "      <td>1</td>\n",
       "      <td>USD</td>\n",
       "    </tr>\n",
       "    <tr>\n",
       "      <th>41510</th>\n",
       "      <td>1</td>\n",
       "      <td>USD</td>\n",
       "    </tr>\n",
       "    <tr>\n",
       "      <th>...</th>\n",
       "      <td>...</td>\n",
       "      <td>...</td>\n",
       "    </tr>\n",
       "    <tr>\n",
       "      <th>24027</th>\n",
       "      <td>1</td>\n",
       "      <td>USD</td>\n",
       "    </tr>\n",
       "    <tr>\n",
       "      <th>36710</th>\n",
       "      <td>1</td>\n",
       "      <td>USD</td>\n",
       "    </tr>\n",
       "    <tr>\n",
       "      <th>44686</th>\n",
       "      <td>1</td>\n",
       "      <td>USD</td>\n",
       "    </tr>\n",
       "    <tr>\n",
       "      <th>1492</th>\n",
       "      <td>1</td>\n",
       "      <td>USD</td>\n",
       "    </tr>\n",
       "    <tr>\n",
       "      <th>48109</th>\n",
       "      <td>1</td>\n",
       "      <td>USD</td>\n",
       "    </tr>\n",
       "  </tbody>\n",
       "</table>\n",
       "<p>29880 rows × 2 columns</p>\n",
       "</div>"
      ],
      "text/plain": [
       "       Currency_enc invoice_currency\n",
       "17979             1              USD\n",
       "49200             1              USD\n",
       "6748              1              USD\n",
       "36062             1              USD\n",
       "41510             1              USD\n",
       "...             ...              ...\n",
       "24027             1              USD\n",
       "36710             1              USD\n",
       "44686             1              USD\n",
       "1492              1              USD\n",
       "48109             1              USD\n",
       "\n",
       "[29880 rows x 2 columns]"
      ]
     },
     "execution_count": 70,
     "metadata": {},
     "output_type": "execute_result"
    }
   ],
   "source": [
    "X_train[['Currency_enc','invoice_currency']]"
   ]
  },
  {
   "cell_type": "code",
   "execution_count": 71,
   "id": "1e0fbc8c",
   "metadata": {},
   "outputs": [],
   "source": [
    "x_test['Currency_enc'] = Currency_encoder.transform(x_test['invoice_currency'])\n",
    "x_val['Currency_enc'] = Currency_encoder.transform(x_val['invoice_currency'])"
   ]
  },
  {
   "cell_type": "code",
   "execution_count": 72,
   "id": "8c13df7d",
   "metadata": {},
   "outputs": [],
   "source": [
    "X_train.drop([\"invoice_currency\"],axis=1,inplace=True)\n",
    "x_test.drop([\"invoice_currency\"],axis=1,inplace=True)\n",
    "x_val.drop([\"invoice_currency\"],axis=1,inplace=True)"
   ]
  },
  {
   "cell_type": "code",
   "execution_count": 73,
   "id": "d18c36f0",
   "metadata": {},
   "outputs": [
    {
     "name": "stdout",
     "output_type": "stream",
     "text": [
      "<class 'pandas.core.frame.DataFrame'>\n",
      "Int64Index: 29880 entries, 17979 to 48109\n",
      "Data columns (total 10 columns):\n",
      " #   Column                    Non-Null Count  Dtype  \n",
      "---  ------                    --------------  -----  \n",
      " 0   document type             29880 non-null  object \n",
      " 1   total_open_amount         29880 non-null  float64\n",
      " 2   cust_payment_terms        29880 non-null  object \n",
      " 3   time_to_mak_doc           29880 non-null  int64  \n",
      " 4   days_after_document       29880 non-null  int64  \n",
      " 5   Business_enc              29880 non-null  int32  \n",
      " 6   due_in_date.month         29880 non-null  int64  \n",
      " 7   posting_date.month        29880 non-null  int64  \n",
      " 8   baseline_create_date.day  29880 non-null  int64  \n",
      " 9   Currency_enc              29880 non-null  int32  \n",
      "dtypes: float64(1), int32(2), int64(5), object(2)\n",
      "memory usage: 2.3+ MB\n"
     ]
    }
   ],
   "source": [
    "X_train.info()"
   ]
  },
  {
   "cell_type": "markdown",
   "id": "53350d1e",
   "metadata": {},
   "source": [
    "## Document type"
   ]
  },
  {
   "cell_type": "code",
   "execution_count": 74,
   "id": "707e0e9a",
   "metadata": {},
   "outputs": [
    {
     "data": {
      "text/plain": [
       "count     29880\n",
       "unique        2\n",
       "top          RV\n",
       "freq      29879\n",
       "Name: document type, dtype: object"
      ]
     },
     "execution_count": 74,
     "metadata": {},
     "output_type": "execute_result"
    }
   ],
   "source": [
    "#we can see that only one row has different value for document type rest all has RV in it so it is a quasi constant column\n",
    "#hence we are removing it\n",
    "X_train[\"document type\"].describe()"
   ]
  },
  {
   "cell_type": "code",
   "execution_count": 75,
   "id": "79d09e56",
   "metadata": {},
   "outputs": [],
   "source": [
    "X_train.drop([\"document type\"],axis=1,inplace=True)\n",
    "x_test.drop([\"document type\"],axis=1,inplace=True)\n",
    "x_val.drop([\"document type\"],axis=1,inplace=True)"
   ]
  },
  {
   "cell_type": "code",
   "execution_count": 76,
   "id": "a9ad6f96",
   "metadata": {},
   "outputs": [
    {
     "name": "stdout",
     "output_type": "stream",
     "text": [
      "<class 'pandas.core.frame.DataFrame'>\n",
      "Int64Index: 29880 entries, 17979 to 48109\n",
      "Data columns (total 9 columns):\n",
      " #   Column                    Non-Null Count  Dtype  \n",
      "---  ------                    --------------  -----  \n",
      " 0   total_open_amount         29880 non-null  float64\n",
      " 1   cust_payment_terms        29880 non-null  object \n",
      " 2   time_to_mak_doc           29880 non-null  int64  \n",
      " 3   days_after_document       29880 non-null  int64  \n",
      " 4   Business_enc              29880 non-null  int32  \n",
      " 5   due_in_date.month         29880 non-null  int64  \n",
      " 6   posting_date.month        29880 non-null  int64  \n",
      " 7   baseline_create_date.day  29880 non-null  int64  \n",
      " 8   Currency_enc              29880 non-null  int32  \n",
      "dtypes: float64(1), int32(2), int64(5), object(1)\n",
      "memory usage: 2.1+ MB\n"
     ]
    }
   ],
   "source": [
    "X_train.info()"
   ]
  },
  {
   "cell_type": "markdown",
   "id": "7a079e53",
   "metadata": {},
   "source": [
    "## Total open amount"
   ]
  },
  {
   "cell_type": "code",
   "execution_count": 77,
   "id": "129ec39c",
   "metadata": {},
   "outputs": [],
   "source": [
    "X_train[\"total_open_amount\"]=X_train[\"total_open_amount\"].astype(int)\n",
    "x_test[\"total_open_amount\"]=x_test[\"total_open_amount\"].astype(int)\n",
    "x_val[\"total_open_amount\"]=x_val[\"total_open_amount\"].astype(int)"
   ]
  },
  {
   "cell_type": "code",
   "execution_count": 78,
   "id": "72a7fd72",
   "metadata": {},
   "outputs": [
    {
     "name": "stdout",
     "output_type": "stream",
     "text": [
      "<class 'pandas.core.frame.DataFrame'>\n",
      "Int64Index: 29880 entries, 17979 to 48109\n",
      "Data columns (total 9 columns):\n",
      " #   Column                    Non-Null Count  Dtype \n",
      "---  ------                    --------------  ----- \n",
      " 0   total_open_amount         29880 non-null  int32 \n",
      " 1   cust_payment_terms        29880 non-null  object\n",
      " 2   time_to_mak_doc           29880 non-null  int64 \n",
      " 3   days_after_document       29880 non-null  int64 \n",
      " 4   Business_enc              29880 non-null  int32 \n",
      " 5   due_in_date.month         29880 non-null  int64 \n",
      " 6   posting_date.month        29880 non-null  int64 \n",
      " 7   baseline_create_date.day  29880 non-null  int64 \n",
      " 8   Currency_enc              29880 non-null  int32 \n",
      "dtypes: int32(3), int64(5), object(1)\n",
      "memory usage: 1.9+ MB\n"
     ]
    }
   ],
   "source": [
    "X_train.info()"
   ]
  },
  {
   "cell_type": "markdown",
   "id": "2fa6c68c",
   "metadata": {},
   "source": [
    "## Cutomer Payment Terms"
   ]
  },
  {
   "cell_type": "code",
   "execution_count": 79,
   "id": "baed16d6",
   "metadata": {},
   "outputs": [
    {
     "data": {
      "text/plain": [
       "count     29880\n",
       "unique       57\n",
       "top        NAA8\n",
       "freq      12798\n",
       "Name: cust_payment_terms, dtype: object"
      ]
     },
     "execution_count": 79,
     "metadata": {},
     "output_type": "execute_result"
    }
   ],
   "source": [
    "#here we can group the some of the valuesto make a seperate value called other terms but that would not work great against some\n",
    "#new value with large frequency in test set so we are removing this column\n",
    "X_train[\"cust_payment_terms\"].describe()"
   ]
  },
  {
   "cell_type": "code",
   "execution_count": 80,
   "id": "a0056187",
   "metadata": {},
   "outputs": [
    {
     "name": "stdout",
     "output_type": "stream",
     "text": [
      "NAA8    12798\n",
      "NAH4     8295\n",
      "NAC6     1064\n",
      "NAM4      835\n",
      "NAAX      791\n",
      "NAD1      642\n",
      "NAG2      618\n",
      "NAU5      612\n",
      "NA32      511\n",
      "CA10      511\n",
      "NAGD      503\n",
      "NAX2      445\n",
      "NAM2      313\n",
      "NA10      282\n",
      "NAD5      223\n",
      "NAVE      192\n",
      "NAVF      189\n",
      "NAM1      159\n",
      "NAAW      143\n",
      "NAWU      125\n",
      "NAVR       99\n",
      "NAWN       75\n",
      "NAVQ       64\n",
      "NAWP       54\n",
      "NAUZ       47\n",
      "NAVM       36\n",
      "NA3B       34\n",
      "NA38       32\n",
      "NACB       29\n",
      "NABG       24\n",
      "C106       20\n",
      "NA3F       12\n",
      "NAVL       12\n",
      "NA9X       11\n",
      "NA84        9\n",
      "NAVD        9\n",
      "NAD4        8\n",
      "NAB1        8\n",
      "BR56        7\n",
      "BR12        4\n",
      "NA25        4\n",
      "NAM3        3\n",
      "CA30        3\n",
      "NA31        3\n",
      "NA8Q        3\n",
      "NAV9        2\n",
      "B052        2\n",
      "NAD8        2\n",
      "CAX2        2\n",
      "NAV2        2\n",
      "NAUP        2\n",
      "NAVC        2\n",
      "CAB1        1\n",
      "90M7        1\n",
      "NAUI        1\n",
      "B112        1\n",
      "NABD        1\n",
      "Name: cust_payment_terms, dtype: int64\n"
     ]
    }
   ],
   "source": [
    "print(X_train['cust_payment_terms'].value_counts())\n"
   ]
  },
  {
   "cell_type": "code",
   "execution_count": 81,
   "id": "8ac1754b",
   "metadata": {},
   "outputs": [],
   "source": [
    "X_train.drop([\"cust_payment_terms\"],axis=1,inplace=True)\n",
    "x_test.drop([\"cust_payment_terms\"],axis=1,inplace=True)\n",
    "x_val.drop([\"cust_payment_terms\"],axis=1,inplace=True)"
   ]
  },
  {
   "cell_type": "code",
   "execution_count": 82,
   "id": "fcabcfa7",
   "metadata": {},
   "outputs": [
    {
     "name": "stdout",
     "output_type": "stream",
     "text": [
      "<class 'pandas.core.frame.DataFrame'>\n",
      "Int64Index: 29880 entries, 17979 to 48109\n",
      "Data columns (total 8 columns):\n",
      " #   Column                    Non-Null Count  Dtype\n",
      "---  ------                    --------------  -----\n",
      " 0   total_open_amount         29880 non-null  int32\n",
      " 1   time_to_mak_doc           29880 non-null  int64\n",
      " 2   days_after_document       29880 non-null  int64\n",
      " 3   Business_enc              29880 non-null  int32\n",
      " 4   due_in_date.month         29880 non-null  int64\n",
      " 5   posting_date.month        29880 non-null  int64\n",
      " 6   baseline_create_date.day  29880 non-null  int64\n",
      " 7   Currency_enc              29880 non-null  int32\n",
      "dtypes: int32(3), int64(5)\n",
      "memory usage: 1.7 MB\n"
     ]
    }
   ],
   "source": [
    "X_train.info()"
   ]
  },
  {
   "cell_type": "code",
   "execution_count": 83,
   "id": "abfd76f8",
   "metadata": {},
   "outputs": [
    {
     "name": "stdout",
     "output_type": "stream",
     "text": [
      "<class 'pandas.core.frame.DataFrame'>\n",
      "Int64Index: 3735 entries, 48515 to 42245\n",
      "Data columns (total 8 columns):\n",
      " #   Column                    Non-Null Count  Dtype\n",
      "---  ------                    --------------  -----\n",
      " 0   total_open_amount         3735 non-null   int32\n",
      " 1   time_to_mak_doc           3735 non-null   int64\n",
      " 2   days_after_document       3735 non-null   int64\n",
      " 3   Business_enc              3735 non-null   int32\n",
      " 4   due_in_date.month         3735 non-null   int64\n",
      " 5   posting_date.month        3735 non-null   int64\n",
      " 6   baseline_create_date.day  3735 non-null   int64\n",
      " 7   Currency_enc              3735 non-null   int32\n",
      "dtypes: int32(3), int64(5)\n",
      "memory usage: 218.8 KB\n"
     ]
    }
   ],
   "source": [
    "x_val.info()"
   ]
  },
  {
   "cell_type": "markdown",
   "id": "4368a338",
   "metadata": {},
   "source": [
    "# Feature Selection "
   ]
  },
  {
   "cell_type": "code",
   "execution_count": 84,
   "id": "6a03d2e2",
   "metadata": {},
   "outputs": [
    {
     "data": {
      "text/plain": [
       "<AxesSubplot:title={'center':'Pearson Correlation of Features'}>"
      ]
     },
     "execution_count": 84,
     "metadata": {},
     "output_type": "execute_result"
    },
    {
     "data": {
      "image/png": "[encoded data removed]",
      "text/plain": [
       "<Figure size 1008x864 with 2 Axes>"
      ]
     },
     "metadata": {
      "needs_background": "light"
     },
     "output_type": "display_data"
    }
   ],
   "source": [
    "# we are checking for correlation between the different columns and delay columnand we can also infer that some columns have outliers\n",
    "#present hence we should a classifier model\n",
    "colormap = plt.cm.RdBu\n",
    "plt.figure(figsize=(14,12))\n",
    "plt.title('Pearson Correlation of Features', y=1.05, size=15)\n",
    "sns.heatmap(X_train.merge(Y_train,on = X_train.index).corr(),linewidths=0.1,vmax=1.0, \n",
    "            square=True, cmap=colormap, linecolor='white', annot=True)"
   ]
  },
  {
   "cell_type": "markdown",
   "id": "c560c0fb",
   "metadata": {},
   "source": [
    "# Modelling"
   ]
  },
  {
   "cell_type": "markdown",
   "id": "36d01860",
   "metadata": {},
   "source": [
    "## Linear Regression Model"
   ]
  },
  {
   "cell_type": "code",
   "execution_count": 85,
   "id": "312b7d53",
   "metadata": {},
   "outputs": [
    {
     "data": {
      "text/plain": [
       "LinearRegression()"
      ]
     },
     "execution_count": 85,
     "metadata": {},
     "output_type": "execute_result"
    }
   ],
   "source": [
    "from sklearn.linear_model import LinearRegression\n",
    "base_model = LinearRegression()\n",
    "base_model.fit(X_train, Y_train)"
   ]
  },
  {
   "cell_type": "code",
   "execution_count": 86,
   "id": "ff4393af",
   "metadata": {},
   "outputs": [],
   "source": [
    "y_predict = base_model.predict(x_val)"
   ]
  },
  {
   "cell_type": "code",
   "execution_count": 87,
   "id": "3690247e",
   "metadata": {},
   "outputs": [
    {
     "data": {
      "text/plain": [
       "array([ 4.47132873,  1.11860504,  4.55476542, ...,  1.66871725,\n",
       "       12.68060473,  1.65017937])"
      ]
     },
     "execution_count": 87,
     "metadata": {},
     "output_type": "execute_result"
    }
   ],
   "source": [
    "y_predict"
   ]
  },
  {
   "cell_type": "code",
   "execution_count": 88,
   "id": "c5ee85fd",
   "metadata": {},
   "outputs": [
    {
     "data": {
      "text/plain": [
       "7.237211030449344"
      ]
     },
     "execution_count": 88,
     "metadata": {},
     "output_type": "execute_result"
    }
   ],
   "source": [
    "from sklearn.metrics import mean_squared_error\n",
    "\n",
    "mean_squared_error(y_val, y_predict, squared=False)"
   ]
  },
  {
   "cell_type": "markdown",
   "id": "27a6528b",
   "metadata": {},
   "source": [
    "## Decision Tree Model"
   ]
  },
  {
   "cell_type": "code",
   "execution_count": 89,
   "id": "8b7cbee8",
   "metadata": {},
   "outputs": [],
   "source": [
    "from sklearn.tree import DecisionTreeRegressor\n",
    "regressor = DecisionTreeRegressor(random_state=0 , max_depth=5)"
   ]
  },
  {
   "cell_type": "code",
   "execution_count": 90,
   "id": "cce880fb",
   "metadata": {},
   "outputs": [
    {
     "data": {
      "text/plain": [
       "DecisionTreeRegressor(max_depth=5, random_state=0)"
      ]
     },
     "execution_count": 90,
     "metadata": {},
     "output_type": "execute_result"
    }
   ],
   "source": [
    "regressor.fit(X_train, Y_train)"
   ]
  },
  {
   "cell_type": "code",
   "execution_count": 91,
   "id": "5bb031a5",
   "metadata": {},
   "outputs": [],
   "source": [
    "y_predict2 = regressor.predict(x_val)"
   ]
  },
  {
   "cell_type": "code",
   "execution_count": 92,
   "id": "9d595136",
   "metadata": {},
   "outputs": [
    {
     "data": {
      "text/plain": [
       "6.614084011260789"
      ]
     },
     "execution_count": 92,
     "metadata": {},
     "output_type": "execute_result"
    }
   ],
   "source": [
    "mean_squared_error(y_val, y_predict2, squared=False)"
   ]
  },
  {
   "cell_type": "markdown",
   "id": "91e5b169",
   "metadata": {},
   "source": [
    "## XGBoost Model"
   ]
  },
  {
   "cell_type": "code",
   "execution_count": 93,
   "id": "e2401271",
   "metadata": {},
   "outputs": [],
   "source": [
    "import xgboost as xgb"
   ]
  },
  {
   "cell_type": "code",
   "execution_count": 94,
   "id": "e4ec5763",
   "metadata": {},
   "outputs": [
    {
     "name": "stdout",
     "output_type": "stream",
     "text": [
      "[12:26:59] WARNING: C:/Users/Administrator/workspace/xgboost-win64_release_1.4.0/src/objective/regression_obj.cu:171: reg:linear is now deprecated in favor of reg:squarederror.\n",
      "root Mean squared error: 6.38\n",
      "root Mean squared error: 7.45\n"
     ]
    }
   ],
   "source": [
    "xg_r=xgb.XGBRegressor(objective='reg:linear',n_estimators=10,seed=123)\n",
    "xg_r.fit(X_train,Y_train)\n",
    "y_pred_val_xg=xg_r.predict(x_val)\n",
    "print('root Mean squared error: %.2f'\n",
    "      % np.sqrt(mean_squared_error(y_val,y_pred_val_xg)))\n",
    "y_pred_test_xg=xg_r.predict(x_test)\n",
    "print('root Mean squared error: %.2f'\n",
    "      % np.sqrt(mean_squared_error(y_test,y_pred_test_xg)))"
   ]
  },
  {
   "cell_type": "markdown",
   "id": "e9d44fbb",
   "metadata": {},
   "source": [
    "## LightGBM Model"
   ]
  },
  {
   "cell_type": "code",
   "execution_count": 95,
   "id": "796890b4",
   "metadata": {},
   "outputs": [],
   "source": [
    "from lightgbm import LGBMClassifier"
   ]
  },
  {
   "cell_type": "code",
   "execution_count": 96,
   "id": "8c1de88b",
   "metadata": {},
   "outputs": [],
   "source": [
    "model = LGBMClassifier()"
   ]
  },
  {
   "cell_type": "code",
   "execution_count": 97,
   "id": "ac2576ea",
   "metadata": {},
   "outputs": [
    {
     "data": {
      "text/plain": [
       "LGBMClassifier()"
      ]
     },
     "execution_count": 97,
     "metadata": {},
     "output_type": "execute_result"
    }
   ],
   "source": [
    "model.fit(X_train, Y_train)"
   ]
  },
  {
   "cell_type": "code",
   "execution_count": 98,
   "id": "ae1f6628",
   "metadata": {},
   "outputs": [],
   "source": [
    "Y_predicted3=model.predict(x_val)"
   ]
  },
  {
   "cell_type": "code",
   "execution_count": 99,
   "id": "22e7fd99",
   "metadata": {},
   "outputs": [
    {
     "data": {
      "text/plain": [
       "7.6765781924181935"
      ]
     },
     "execution_count": 99,
     "metadata": {},
     "output_type": "execute_result"
    }
   ],
   "source": [
    "mean_squared_error(y_val, Y_predicted3, squared=False)"
   ]
  },
  {
   "cell_type": "markdown",
   "id": "05054ba4",
   "metadata": {},
   "source": [
    "## CatBoost Model"
   ]
  },
  {
   "cell_type": "code",
   "execution_count": 100,
   "id": "65db02bd",
   "metadata": {},
   "outputs": [],
   "source": [
    "from catboost import CatBoostRegressor"
   ]
  },
  {
   "cell_type": "code",
   "execution_count": 101,
   "id": "1334dc0f",
   "metadata": {},
   "outputs": [
    {
     "name": "stdout",
     "output_type": "stream",
     "text": [
      "0:\tlearn: 10.5167612\ttest: 7.5428582\tbest: 7.5428582 (0)\ttotal: 194ms\tremaining: 0us\n",
      "\n",
      "bestTest = 7.542858187\n",
      "bestIteration = 0\n",
      "\n"
     ]
    },
    {
     "data": {
      "text/plain": [
       "<catboost.core.CatBoostRegressor at 0x19406f1cf10>"
      ]
     },
     "execution_count": 101,
     "metadata": {},
     "output_type": "execute_result"
    }
   ],
   "source": [
    "Cmodel=CatBoostRegressor(iterations=1, depth=3, learning_rate=0.1, loss_function='RMSE')\n",
    "Cmodel.fit(X_train, Y_train,eval_set=(x_val, y_val),plot=False)"
   ]
  },
  {
   "cell_type": "code",
   "execution_count": 102,
   "id": "edb01e8d",
   "metadata": {},
   "outputs": [
    {
     "data": {
      "text/plain": [
       "7.54285818718824"
      ]
     },
     "execution_count": 102,
     "metadata": {},
     "output_type": "execute_result"
    }
   ],
   "source": [
    "Y_predicted4=Cmodel.predict(x_val)\n",
    "mean_squared_error(y_val, Y_predicted4, squared=False)"
   ]
  },
  {
   "cell_type": "markdown",
   "id": "b1badaa5",
   "metadata": {},
   "source": [
    "### We can see that out of all the models XGBoost gave us the least RMSE value hence we will be using this for prediction"
   ]
  },
  {
   "cell_type": "markdown",
   "id": "ad6de36e",
   "metadata": {},
   "source": [
    "# Predicting The Main Test Data"
   ]
  },
  {
   "cell_type": "markdown",
   "id": "34d296b4",
   "metadata": {},
   "source": [
    "### Now we have to make the same features we made on the train data set to the test dataset"
   ]
  },
  {
   "cell_type": "code",
   "execution_count": 103,
   "id": "f07dd973",
   "metadata": {},
   "outputs": [
    {
     "data": {
      "text/html": [
       "<div>\n",
       "<style scoped>\n",
       "    .dataframe tbody tr th:only-of-type {\n",
       "        vertical-align: middle;\n",
       "    }\n",
       "\n",
       "    .dataframe tbody tr th {\n",
       "        vertical-align: top;\n",
       "    }\n",
       "\n",
       "    .dataframe thead th {\n",
       "        text-align: right;\n",
       "    }\n",
       "</style>\n",
       "<table border=\"1\" class=\"dataframe\">\n",
       "  <thead>\n",
       "    <tr style=\"text-align: right;\">\n",
       "      <th></th>\n",
       "      <th>business_code</th>\n",
       "      <th>cust_number</th>\n",
       "      <th>name_customer</th>\n",
       "      <th>clear_date</th>\n",
       "      <th>buisness_year</th>\n",
       "      <th>doc_id</th>\n",
       "      <th>posting_date</th>\n",
       "      <th>document_create_date</th>\n",
       "      <th>document_create_date.1</th>\n",
       "      <th>due_in_date</th>\n",
       "      <th>invoice_currency</th>\n",
       "      <th>document type</th>\n",
       "      <th>posting_id</th>\n",
       "      <th>total_open_amount</th>\n",
       "      <th>baseline_create_date</th>\n",
       "      <th>cust_payment_terms</th>\n",
       "      <th>invoice_id</th>\n",
       "      <th>isOpen</th>\n",
       "    </tr>\n",
       "  </thead>\n",
       "  <tbody>\n",
       "    <tr>\n",
       "      <th>10723</th>\n",
       "      <td>U001</td>\n",
       "      <td>0200772670</td>\n",
       "      <td>ASSOCIAT corporation</td>\n",
       "      <td>NaT</td>\n",
       "      <td>2020.0</td>\n",
       "      <td>1.930577e+09</td>\n",
       "      <td>2020-02-27</td>\n",
       "      <td>2020-02-27</td>\n",
       "      <td>2020-02-27</td>\n",
       "      <td>2020-03-13</td>\n",
       "      <td>USD</td>\n",
       "      <td>RV</td>\n",
       "      <td>1.0</td>\n",
       "      <td>2467.53</td>\n",
       "      <td>2020-02-27</td>\n",
       "      <td>NAU5</td>\n",
       "      <td>1.930577e+09</td>\n",
       "      <td>1</td>\n",
       "    </tr>\n",
       "    <tr>\n",
       "      <th>26418</th>\n",
       "      <td>U001</td>\n",
       "      <td>0200761734</td>\n",
       "      <td>H E BUT systems</td>\n",
       "      <td>NaT</td>\n",
       "      <td>2020.0</td>\n",
       "      <td>1.930578e+09</td>\n",
       "      <td>2020-02-27</td>\n",
       "      <td>2020-02-27</td>\n",
       "      <td>2020-02-27</td>\n",
       "      <td>2020-03-13</td>\n",
       "      <td>USD</td>\n",
       "      <td>RV</td>\n",
       "      <td>1.0</td>\n",
       "      <td>53703.88</td>\n",
       "      <td>2020-02-27</td>\n",
       "      <td>NAA8</td>\n",
       "      <td>1.930578e+09</td>\n",
       "      <td>1</td>\n",
       "    </tr>\n",
       "    <tr>\n",
       "      <th>10123</th>\n",
       "      <td>U001</td>\n",
       "      <td>0200749225</td>\n",
       "      <td>SUPER  associates</td>\n",
       "      <td>NaT</td>\n",
       "      <td>2020.0</td>\n",
       "      <td>1.930574e+09</td>\n",
       "      <td>2020-02-27</td>\n",
       "      <td>2020-02-26</td>\n",
       "      <td>2020-02-27</td>\n",
       "      <td>2020-03-13</td>\n",
       "      <td>USD</td>\n",
       "      <td>RV</td>\n",
       "      <td>1.0</td>\n",
       "      <td>44436.71</td>\n",
       "      <td>2020-02-27</td>\n",
       "      <td>NAA8</td>\n",
       "      <td>1.930574e+09</td>\n",
       "      <td>1</td>\n",
       "    </tr>\n",
       "    <tr>\n",
       "      <th>97</th>\n",
       "      <td>U001</td>\n",
       "      <td>0200759878</td>\n",
       "      <td>SA corporation</td>\n",
       "      <td>NaT</td>\n",
       "      <td>2020.0</td>\n",
       "      <td>1.930577e+09</td>\n",
       "      <td>2020-02-27</td>\n",
       "      <td>2020-02-27</td>\n",
       "      <td>2020-02-27</td>\n",
       "      <td>2020-03-13</td>\n",
       "      <td>USD</td>\n",
       "      <td>RV</td>\n",
       "      <td>1.0</td>\n",
       "      <td>39867.72</td>\n",
       "      <td>2020-02-27</td>\n",
       "      <td>NAH4</td>\n",
       "      <td>1.930577e+09</td>\n",
       "      <td>1</td>\n",
       "    </tr>\n",
       "    <tr>\n",
       "      <th>8658</th>\n",
       "      <td>U001</td>\n",
       "      <td>0200723794</td>\n",
       "      <td>MID MO associates</td>\n",
       "      <td>NaT</td>\n",
       "      <td>2020.0</td>\n",
       "      <td>1.930576e+09</td>\n",
       "      <td>2020-02-27</td>\n",
       "      <td>2020-02-27</td>\n",
       "      <td>2020-02-27</td>\n",
       "      <td>2020-05-02</td>\n",
       "      <td>USD</td>\n",
       "      <td>RV</td>\n",
       "      <td>1.0</td>\n",
       "      <td>21631.84</td>\n",
       "      <td>2020-02-27</td>\n",
       "      <td>NAGD</td>\n",
       "      <td>1.930576e+09</td>\n",
       "      <td>1</td>\n",
       "    </tr>\n",
       "  </tbody>\n",
       "</table>\n",
       "</div>"
      ],
      "text/plain": [
       "      business_code cust_number         name_customer clear_date  \\\n",
       "10723          U001  0200772670  ASSOCIAT corporation        NaT   \n",
       "26418          U001  0200761734       H E BUT systems        NaT   \n",
       "10123          U001  0200749225     SUPER  associates        NaT   \n",
       "97             U001  0200759878        SA corporation        NaT   \n",
       "8658           U001  0200723794     MID MO associates        NaT   \n",
       "\n",
       "       buisness_year        doc_id posting_date document_create_date  \\\n",
       "10723         2020.0  1.930577e+09   2020-02-27           2020-02-27   \n",
       "26418         2020.0  1.930578e+09   2020-02-27           2020-02-27   \n",
       "10123         2020.0  1.930574e+09   2020-02-27           2020-02-26   \n",
       "97            2020.0  1.930577e+09   2020-02-27           2020-02-27   \n",
       "8658          2020.0  1.930576e+09   2020-02-27           2020-02-27   \n",
       "\n",
       "      document_create_date.1 due_in_date invoice_currency document type  \\\n",
       "10723             2020-02-27  2020-03-13              USD            RV   \n",
       "26418             2020-02-27  2020-03-13              USD            RV   \n",
       "10123             2020-02-27  2020-03-13              USD            RV   \n",
       "97                2020-02-27  2020-03-13              USD            RV   \n",
       "8658              2020-02-27  2020-05-02              USD            RV   \n",
       "\n",
       "       posting_id  total_open_amount baseline_create_date cust_payment_terms  \\\n",
       "10723         1.0            2467.53           2020-02-27               NAU5   \n",
       "26418         1.0           53703.88           2020-02-27               NAA8   \n",
       "10123         1.0           44436.71           2020-02-27               NAA8   \n",
       "97            1.0           39867.72           2020-02-27               NAH4   \n",
       "8658          1.0           21631.84           2020-02-27               NAGD   \n",
       "\n",
       "         invoice_id  isOpen  \n",
       "10723  1.930577e+09       1  \n",
       "26418  1.930578e+09       1  \n",
       "10123  1.930574e+09       1  \n",
       "97     1.930577e+09       1  \n",
       "8658   1.930576e+09       1  "
      ]
     },
     "execution_count": 103,
     "metadata": {},
     "output_type": "execute_result"
    }
   ],
   "source": [
    "test_data.head()"
   ]
  },
  {
   "cell_type": "code",
   "execution_count": 104,
   "id": "3493deeb",
   "metadata": {},
   "outputs": [
    {
     "data": {
      "text/html": [
       "<div>\n",
       "<style scoped>\n",
       "    .dataframe tbody tr th:only-of-type {\n",
       "        vertical-align: middle;\n",
       "    }\n",
       "\n",
       "    .dataframe tbody tr th {\n",
       "        vertical-align: top;\n",
       "    }\n",
       "\n",
       "    .dataframe thead th {\n",
       "        text-align: right;\n",
       "    }\n",
       "</style>\n",
       "<table border=\"1\" class=\"dataframe\">\n",
       "  <thead>\n",
       "    <tr style=\"text-align: right;\">\n",
       "      <th></th>\n",
       "      <th>total_open_amount</th>\n",
       "      <th>time_to_mak_doc</th>\n",
       "      <th>days_after_document</th>\n",
       "      <th>Business_enc</th>\n",
       "      <th>due_in_date.month</th>\n",
       "      <th>posting_date.month</th>\n",
       "      <th>baseline_create_date.day</th>\n",
       "      <th>Currency_enc</th>\n",
       "    </tr>\n",
       "  </thead>\n",
       "  <tbody>\n",
       "    <tr>\n",
       "      <th>17979</th>\n",
       "      <td>10474</td>\n",
       "      <td>0</td>\n",
       "      <td>15</td>\n",
       "      <td>1</td>\n",
       "      <td>1</td>\n",
       "      <td>12</td>\n",
       "      <td>30</td>\n",
       "      <td>1</td>\n",
       "    </tr>\n",
       "    <tr>\n",
       "      <th>49200</th>\n",
       "      <td>10045</td>\n",
       "      <td>0</td>\n",
       "      <td>30</td>\n",
       "      <td>4</td>\n",
       "      <td>1</td>\n",
       "      <td>12</td>\n",
       "      <td>30</td>\n",
       "      <td>1</td>\n",
       "    </tr>\n",
       "    <tr>\n",
       "      <th>6748</th>\n",
       "      <td>33537</td>\n",
       "      <td>0</td>\n",
       "      <td>15</td>\n",
       "      <td>1</td>\n",
       "      <td>1</td>\n",
       "      <td>12</td>\n",
       "      <td>30</td>\n",
       "      <td>1</td>\n",
       "    </tr>\n",
       "    <tr>\n",
       "      <th>36062</th>\n",
       "      <td>32400</td>\n",
       "      <td>0</td>\n",
       "      <td>15</td>\n",
       "      <td>1</td>\n",
       "      <td>1</td>\n",
       "      <td>12</td>\n",
       "      <td>30</td>\n",
       "      <td>1</td>\n",
       "    </tr>\n",
       "    <tr>\n",
       "      <th>41510</th>\n",
       "      <td>3748</td>\n",
       "      <td>0</td>\n",
       "      <td>15</td>\n",
       "      <td>1</td>\n",
       "      <td>1</td>\n",
       "      <td>12</td>\n",
       "      <td>30</td>\n",
       "      <td>1</td>\n",
       "    </tr>\n",
       "  </tbody>\n",
       "</table>\n",
       "</div>"
      ],
      "text/plain": [
       "       total_open_amount  time_to_mak_doc  days_after_document  Business_enc  \\\n",
       "17979              10474                0                   15             1   \n",
       "49200              10045                0                   30             4   \n",
       "6748               33537                0                   15             1   \n",
       "36062              32400                0                   15             1   \n",
       "41510               3748                0                   15             1   \n",
       "\n",
       "       due_in_date.month  posting_date.month  baseline_create_date.day  \\\n",
       "17979                  1                  12                        30   \n",
       "49200                  1                  12                        30   \n",
       "6748                   1                  12                        30   \n",
       "36062                  1                  12                        30   \n",
       "41510                  1                  12                        30   \n",
       "\n",
       "       Currency_enc  \n",
       "17979             1  \n",
       "49200             1  \n",
       "6748              1  \n",
       "36062             1  \n",
       "41510             1  "
      ]
     },
     "execution_count": 104,
     "metadata": {},
     "output_type": "execute_result"
    }
   ],
   "source": [
    "X_train.head()"
   ]
  },
  {
   "cell_type": "code",
   "execution_count": 105,
   "id": "c32398ed",
   "metadata": {},
   "outputs": [
    {
     "name": "stdout",
     "output_type": "stream",
     "text": [
      "<class 'pandas.core.frame.DataFrame'>\n",
      "Int64Index: 29880 entries, 17979 to 48109\n",
      "Data columns (total 8 columns):\n",
      " #   Column                    Non-Null Count  Dtype\n",
      "---  ------                    --------------  -----\n",
      " 0   total_open_amount         29880 non-null  int32\n",
      " 1   time_to_mak_doc           29880 non-null  int64\n",
      " 2   days_after_document       29880 non-null  int64\n",
      " 3   Business_enc              29880 non-null  int32\n",
      " 4   due_in_date.month         29880 non-null  int64\n",
      " 5   posting_date.month        29880 non-null  int64\n",
      " 6   baseline_create_date.day  29880 non-null  int64\n",
      " 7   Currency_enc              29880 non-null  int32\n",
      "dtypes: int32(3), int64(5)\n",
      "memory usage: 1.7 MB\n"
     ]
    }
   ],
   "source": [
    "X_train.info()"
   ]
  },
  {
   "cell_type": "code",
   "execution_count": 106,
   "id": "d7d9c13e",
   "metadata": {},
   "outputs": [
    {
     "name": "stdout",
     "output_type": "stream",
     "text": [
      "<class 'pandas.core.frame.DataFrame'>\n",
      "Int64Index: 10000 entries, 10723 to 34103\n",
      "Data columns (total 18 columns):\n",
      " #   Column                  Non-Null Count  Dtype         \n",
      "---  ------                  --------------  -----         \n",
      " 0   business_code           10000 non-null  object        \n",
      " 1   cust_number             10000 non-null  object        \n",
      " 2   name_customer           10000 non-null  object        \n",
      " 3   clear_date              0 non-null      datetime64[ns]\n",
      " 4   buisness_year           10000 non-null  float64       \n",
      " 5   doc_id                  10000 non-null  float64       \n",
      " 6   posting_date            10000 non-null  datetime64[ns]\n",
      " 7   document_create_date    10000 non-null  datetime64[ns]\n",
      " 8   document_create_date.1  10000 non-null  datetime64[ns]\n",
      " 9   due_in_date             10000 non-null  datetime64[ns]\n",
      " 10  invoice_currency        10000 non-null  object        \n",
      " 11  document type           10000 non-null  object        \n",
      " 12  posting_id              10000 non-null  float64       \n",
      " 13  total_open_amount       10000 non-null  float64       \n",
      " 14  baseline_create_date    10000 non-null  datetime64[ns]\n",
      " 15  cust_payment_terms      10000 non-null  object        \n",
      " 16  invoice_id              10000 non-null  float64       \n",
      " 17  isOpen                  10000 non-null  int64         \n",
      "dtypes: datetime64[ns](6), float64(5), int64(1), object(6)\n",
      "memory usage: 1.4+ MB\n"
     ]
    }
   ],
   "source": [
    "test_data.info()"
   ]
  },
  {
   "cell_type": "code",
   "execution_count": 107,
   "id": "3cf35277",
   "metadata": {},
   "outputs": [],
   "source": [
    "#using model_data as a new data set to keep the useful features from test_data\n",
    "Model_data=test_data[[\"business_code\",\"total_open_amount\",\"clear_date\",\"posting_date\",\"document_create_date.1\",\"due_in_date\",\"invoice_currency\",\"baseline_create_date\"]]"
   ]
  },
  {
   "cell_type": "code",
   "execution_count": 108,
   "id": "28118c5a",
   "metadata": {},
   "outputs": [
    {
     "name": "stdout",
     "output_type": "stream",
     "text": [
      "<class 'pandas.core.frame.DataFrame'>\n",
      "Int64Index: 10000 entries, 10723 to 34103\n",
      "Data columns (total 8 columns):\n",
      " #   Column                  Non-Null Count  Dtype         \n",
      "---  ------                  --------------  -----         \n",
      " 0   business_code           10000 non-null  object        \n",
      " 1   total_open_amount       10000 non-null  float64       \n",
      " 2   clear_date              0 non-null      datetime64[ns]\n",
      " 3   posting_date            10000 non-null  datetime64[ns]\n",
      " 4   document_create_date.1  10000 non-null  datetime64[ns]\n",
      " 5   due_in_date             10000 non-null  datetime64[ns]\n",
      " 6   invoice_currency        10000 non-null  object        \n",
      " 7   baseline_create_date    10000 non-null  datetime64[ns]\n",
      "dtypes: datetime64[ns](5), float64(1), object(2)\n",
      "memory usage: 703.1+ KB\n"
     ]
    }
   ],
   "source": [
    "Model_data.info()"
   ]
  },
  {
   "cell_type": "code",
   "execution_count": 109,
   "id": "25df9b52",
   "metadata": {},
   "outputs": [],
   "source": [
    "Business_encoder = LabelEncoder()\n",
    "Business_encoder.fit(Model_data['business_code'])\n",
    "Model_data['Business_enc'] = Business_encoder.transform(Model_data['business_code'])"
   ]
  },
  {
   "cell_type": "code",
   "execution_count": 110,
   "id": "2fa7fb1e",
   "metadata": {},
   "outputs": [],
   "source": [
    "Model_data.drop([\"business_code\"],axis=1,inplace=True)"
   ]
  },
  {
   "cell_type": "code",
   "execution_count": 111,
   "id": "39936a52",
   "metadata": {},
   "outputs": [
    {
     "name": "stdout",
     "output_type": "stream",
     "text": [
      "<class 'pandas.core.frame.DataFrame'>\n",
      "Int64Index: 10000 entries, 10723 to 34103\n",
      "Data columns (total 8 columns):\n",
      " #   Column                  Non-Null Count  Dtype         \n",
      "---  ------                  --------------  -----         \n",
      " 0   total_open_amount       10000 non-null  float64       \n",
      " 1   clear_date              0 non-null      datetime64[ns]\n",
      " 2   posting_date            10000 non-null  datetime64[ns]\n",
      " 3   document_create_date.1  10000 non-null  datetime64[ns]\n",
      " 4   due_in_date             10000 non-null  datetime64[ns]\n",
      " 5   invoice_currency        10000 non-null  object        \n",
      " 6   baseline_create_date    10000 non-null  datetime64[ns]\n",
      " 7   Business_enc            10000 non-null  int32         \n",
      "dtypes: datetime64[ns](5), float64(1), int32(1), object(1)\n",
      "memory usage: 664.1+ KB\n"
     ]
    }
   ],
   "source": [
    "Model_data.info()"
   ]
  },
  {
   "cell_type": "code",
   "execution_count": 112,
   "id": "c24a3f1c",
   "metadata": {},
   "outputs": [],
   "source": [
    "Currency_encoder = LabelEncoder()\n",
    "Currency_encoder.fit(Model_data[\"invoice_currency\"])\n",
    "Model_data[\"Currency_enc\"] = Currency_encoder.transform(Model_data[\"invoice_currency\"])"
   ]
  },
  {
   "cell_type": "code",
   "execution_count": 113,
   "id": "2773a098",
   "metadata": {},
   "outputs": [],
   "source": [
    "Model_data.drop([\"invoice_currency\"],axis=1,inplace=True)"
   ]
  },
  {
   "cell_type": "code",
   "execution_count": 114,
   "id": "cba56d50",
   "metadata": {},
   "outputs": [
    {
     "name": "stdout",
     "output_type": "stream",
     "text": [
      "<class 'pandas.core.frame.DataFrame'>\n",
      "Int64Index: 10000 entries, 10723 to 34103\n",
      "Data columns (total 8 columns):\n",
      " #   Column                  Non-Null Count  Dtype         \n",
      "---  ------                  --------------  -----         \n",
      " 0   total_open_amount       10000 non-null  float64       \n",
      " 1   clear_date              0 non-null      datetime64[ns]\n",
      " 2   posting_date            10000 non-null  datetime64[ns]\n",
      " 3   document_create_date.1  10000 non-null  datetime64[ns]\n",
      " 4   due_in_date             10000 non-null  datetime64[ns]\n",
      " 5   baseline_create_date    10000 non-null  datetime64[ns]\n",
      " 6   Business_enc            10000 non-null  int32         \n",
      " 7   Currency_enc            10000 non-null  int32         \n",
      "dtypes: datetime64[ns](5), float64(1), int32(2)\n",
      "memory usage: 625.0 KB\n"
     ]
    }
   ],
   "source": [
    "Model_data.info()"
   ]
  },
  {
   "cell_type": "code",
   "execution_count": 115,
   "id": "65655bb2",
   "metadata": {},
   "outputs": [],
   "source": [
    "Model_data[\"total_open_amount\"]=Model_data[\"total_open_amount\"].astype(int)"
   ]
  },
  {
   "cell_type": "code",
   "execution_count": 116,
   "id": "170c09d0",
   "metadata": {},
   "outputs": [
    {
     "name": "stdout",
     "output_type": "stream",
     "text": [
      "<class 'pandas.core.frame.DataFrame'>\n",
      "Int64Index: 10000 entries, 10723 to 34103\n",
      "Data columns (total 8 columns):\n",
      " #   Column                  Non-Null Count  Dtype         \n",
      "---  ------                  --------------  -----         \n",
      " 0   total_open_amount       10000 non-null  int32         \n",
      " 1   clear_date              0 non-null      datetime64[ns]\n",
      " 2   posting_date            10000 non-null  datetime64[ns]\n",
      " 3   document_create_date.1  10000 non-null  datetime64[ns]\n",
      " 4   due_in_date             10000 non-null  datetime64[ns]\n",
      " 5   baseline_create_date    10000 non-null  datetime64[ns]\n",
      " 6   Business_enc            10000 non-null  int32         \n",
      " 7   Currency_enc            10000 non-null  int32         \n",
      "dtypes: datetime64[ns](5), int32(3)\n",
      "memory usage: 585.9 KB\n"
     ]
    }
   ],
   "source": [
    "Model_data.info()"
   ]
  },
  {
   "cell_type": "code",
   "execution_count": 117,
   "id": "f0933751",
   "metadata": {},
   "outputs": [],
   "source": [
    "Model_data[\"posting_date.month\"]=Model_data[\"posting_date\"].dt.month\n",
    "Model_data.drop([\"posting_date\"],axis=1,inplace=True)"
   ]
  },
  {
   "cell_type": "code",
   "execution_count": 118,
   "id": "85fc68ac",
   "metadata": {},
   "outputs": [
    {
     "name": "stdout",
     "output_type": "stream",
     "text": [
      "<class 'pandas.core.frame.DataFrame'>\n",
      "Int64Index: 10000 entries, 10723 to 34103\n",
      "Data columns (total 8 columns):\n",
      " #   Column                  Non-Null Count  Dtype         \n",
      "---  ------                  --------------  -----         \n",
      " 0   total_open_amount       10000 non-null  int32         \n",
      " 1   clear_date              0 non-null      datetime64[ns]\n",
      " 2   document_create_date.1  10000 non-null  datetime64[ns]\n",
      " 3   due_in_date             10000 non-null  datetime64[ns]\n",
      " 4   baseline_create_date    10000 non-null  datetime64[ns]\n",
      " 5   Business_enc            10000 non-null  int32         \n",
      " 6   Currency_enc            10000 non-null  int32         \n",
      " 7   posting_date.month      10000 non-null  int64         \n",
      "dtypes: datetime64[ns](4), int32(3), int64(1)\n",
      "memory usage: 585.9 KB\n"
     ]
    }
   ],
   "source": [
    "Model_data.info()"
   ]
  },
  {
   "cell_type": "code",
   "execution_count": 119,
   "id": "665053b2",
   "metadata": {},
   "outputs": [],
   "source": [
    "Model_data[\"time_to_mak_doc\"]=(Model_data[\"document_create_date.1\"]-Model_data[\"baseline_create_date\"]).dt.days\n",
    "Model_data['days_after_document']=(Model_data['due_in_date']-Model_data['document_create_date.1']).dt.days"
   ]
  },
  {
   "cell_type": "code",
   "execution_count": 120,
   "id": "e494ead1",
   "metadata": {},
   "outputs": [
    {
     "name": "stdout",
     "output_type": "stream",
     "text": [
      "<class 'pandas.core.frame.DataFrame'>\n",
      "Int64Index: 10000 entries, 10723 to 34103\n",
      "Data columns (total 10 columns):\n",
      " #   Column                  Non-Null Count  Dtype         \n",
      "---  ------                  --------------  -----         \n",
      " 0   total_open_amount       10000 non-null  int32         \n",
      " 1   clear_date              0 non-null      datetime64[ns]\n",
      " 2   document_create_date.1  10000 non-null  datetime64[ns]\n",
      " 3   due_in_date             10000 non-null  datetime64[ns]\n",
      " 4   baseline_create_date    10000 non-null  datetime64[ns]\n",
      " 5   Business_enc            10000 non-null  int32         \n",
      " 6   Currency_enc            10000 non-null  int32         \n",
      " 7   posting_date.month      10000 non-null  int64         \n",
      " 8   time_to_mak_doc         10000 non-null  int64         \n",
      " 9   days_after_document     10000 non-null  int64         \n",
      "dtypes: datetime64[ns](4), int32(3), int64(3)\n",
      "memory usage: 742.2 KB\n"
     ]
    }
   ],
   "source": [
    "Model_data.info()"
   ]
  },
  {
   "cell_type": "code",
   "execution_count": 121,
   "id": "1263582b",
   "metadata": {},
   "outputs": [],
   "source": [
    "Model_data[\"due_in_date.month\"]=Model_data[\"due_in_date\"].dt.month\n",
    "Model_data.drop([\"due_in_date\"],axis=1,inplace=True)"
   ]
  },
  {
   "cell_type": "code",
   "execution_count": 122,
   "id": "0c235930",
   "metadata": {},
   "outputs": [
    {
     "name": "stdout",
     "output_type": "stream",
     "text": [
      "<class 'pandas.core.frame.DataFrame'>\n",
      "Int64Index: 10000 entries, 10723 to 34103\n",
      "Data columns (total 10 columns):\n",
      " #   Column                  Non-Null Count  Dtype         \n",
      "---  ------                  --------------  -----         \n",
      " 0   total_open_amount       10000 non-null  int32         \n",
      " 1   clear_date              0 non-null      datetime64[ns]\n",
      " 2   document_create_date.1  10000 non-null  datetime64[ns]\n",
      " 3   baseline_create_date    10000 non-null  datetime64[ns]\n",
      " 4   Business_enc            10000 non-null  int32         \n",
      " 5   Currency_enc            10000 non-null  int32         \n",
      " 6   posting_date.month      10000 non-null  int64         \n",
      " 7   time_to_mak_doc         10000 non-null  int64         \n",
      " 8   days_after_document     10000 non-null  int64         \n",
      " 9   due_in_date.month       10000 non-null  int64         \n",
      "dtypes: datetime64[ns](3), int32(3), int64(4)\n",
      "memory usage: 742.2 KB\n"
     ]
    }
   ],
   "source": [
    "Model_data.info()"
   ]
  },
  {
   "cell_type": "code",
   "execution_count": 123,
   "id": "9c883311",
   "metadata": {},
   "outputs": [],
   "source": [
    "Model_data.drop([\"document_create_date.1\"],axis=1,inplace=True)"
   ]
  },
  {
   "cell_type": "code",
   "execution_count": 124,
   "id": "c8ea25f7",
   "metadata": {},
   "outputs": [
    {
     "name": "stdout",
     "output_type": "stream",
     "text": [
      "<class 'pandas.core.frame.DataFrame'>\n",
      "Int64Index: 10000 entries, 10723 to 34103\n",
      "Data columns (total 9 columns):\n",
      " #   Column                Non-Null Count  Dtype         \n",
      "---  ------                --------------  -----         \n",
      " 0   total_open_amount     10000 non-null  int32         \n",
      " 1   clear_date            0 non-null      datetime64[ns]\n",
      " 2   baseline_create_date  10000 non-null  datetime64[ns]\n",
      " 3   Business_enc          10000 non-null  int32         \n",
      " 4   Currency_enc          10000 non-null  int32         \n",
      " 5   posting_date.month    10000 non-null  int64         \n",
      " 6   time_to_mak_doc       10000 non-null  int64         \n",
      " 7   days_after_document   10000 non-null  int64         \n",
      " 8   due_in_date.month     10000 non-null  int64         \n",
      "dtypes: datetime64[ns](2), int32(3), int64(4)\n",
      "memory usage: 664.1 KB\n"
     ]
    }
   ],
   "source": [
    "Model_data.info()"
   ]
  },
  {
   "cell_type": "code",
   "execution_count": 125,
   "id": "a69cf480",
   "metadata": {},
   "outputs": [],
   "source": [
    "Model_data[\"baseline_create_date.day\"]=Model_data[\"baseline_create_date\"].dt.day\n",
    "Model_data.drop([\"baseline_create_date\"],axis=1,inplace=True)"
   ]
  },
  {
   "cell_type": "code",
   "execution_count": 126,
   "id": "dd59c1cf",
   "metadata": {},
   "outputs": [
    {
     "name": "stdout",
     "output_type": "stream",
     "text": [
      "<class 'pandas.core.frame.DataFrame'>\n",
      "Int64Index: 10000 entries, 10723 to 34103\n",
      "Data columns (total 9 columns):\n",
      " #   Column                    Non-Null Count  Dtype         \n",
      "---  ------                    --------------  -----         \n",
      " 0   total_open_amount         10000 non-null  int32         \n",
      " 1   clear_date                0 non-null      datetime64[ns]\n",
      " 2   Business_enc              10000 non-null  int32         \n",
      " 3   Currency_enc              10000 non-null  int32         \n",
      " 4   posting_date.month        10000 non-null  int64         \n",
      " 5   time_to_mak_doc           10000 non-null  int64         \n",
      " 6   days_after_document       10000 non-null  int64         \n",
      " 7   due_in_date.month         10000 non-null  int64         \n",
      " 8   baseline_create_date.day  10000 non-null  int64         \n",
      "dtypes: datetime64[ns](1), int32(3), int64(5)\n",
      "memory usage: 664.1 KB\n"
     ]
    }
   ],
   "source": [
    "Model_data.info()"
   ]
  },
  {
   "cell_type": "code",
   "execution_count": 127,
   "id": "fccb90bb",
   "metadata": {},
   "outputs": [],
   "source": [
    "Model_data.drop([\"clear_date\"],axis=1,inplace=True)"
   ]
  },
  {
   "cell_type": "code",
   "execution_count": 128,
   "id": "16124a65",
   "metadata": {},
   "outputs": [
    {
     "name": "stdout",
     "output_type": "stream",
     "text": [
      "<class 'pandas.core.frame.DataFrame'>\n",
      "Int64Index: 10000 entries, 10723 to 34103\n",
      "Data columns (total 8 columns):\n",
      " #   Column                    Non-Null Count  Dtype\n",
      "---  ------                    --------------  -----\n",
      " 0   total_open_amount         10000 non-null  int32\n",
      " 1   Business_enc              10000 non-null  int32\n",
      " 2   Currency_enc              10000 non-null  int32\n",
      " 3   posting_date.month        10000 non-null  int64\n",
      " 4   time_to_mak_doc           10000 non-null  int64\n",
      " 5   days_after_document       10000 non-null  int64\n",
      " 6   due_in_date.month         10000 non-null  int64\n",
      " 7   baseline_create_date.day  10000 non-null  int64\n",
      "dtypes: int32(3), int64(5)\n",
      "memory usage: 585.9 KB\n"
     ]
    }
   ],
   "source": [
    "Model_data.info()"
   ]
  },
  {
   "cell_type": "code",
   "execution_count": 129,
   "id": "8159a841",
   "metadata": {},
   "outputs": [
    {
     "name": "stdout",
     "output_type": "stream",
     "text": [
      "<class 'pandas.core.frame.DataFrame'>\n",
      "Int64Index: 29880 entries, 17979 to 48109\n",
      "Data columns (total 8 columns):\n",
      " #   Column                    Non-Null Count  Dtype\n",
      "---  ------                    --------------  -----\n",
      " 0   total_open_amount         29880 non-null  int32\n",
      " 1   time_to_mak_doc           29880 non-null  int64\n",
      " 2   days_after_document       29880 non-null  int64\n",
      " 3   Business_enc              29880 non-null  int32\n",
      " 4   due_in_date.month         29880 non-null  int64\n",
      " 5   posting_date.month        29880 non-null  int64\n",
      " 6   baseline_create_date.day  29880 non-null  int64\n",
      " 7   Currency_enc              29880 non-null  int32\n",
      "dtypes: int32(3), int64(5)\n",
      "memory usage: 1.7 MB\n"
     ]
    }
   ],
   "source": [
    "X_train.info()"
   ]
  },
  {
   "cell_type": "code",
   "execution_count": 130,
   "id": "ec920414",
   "metadata": {},
   "outputs": [],
   "source": [
    "#Using the xgboost model as it showed the best RMSE value\n",
    "Y_predicted5=xg_r.predict(Model_data)"
   ]
  },
  {
   "cell_type": "code",
   "execution_count": 131,
   "id": "046c3d40",
   "metadata": {},
   "outputs": [],
   "source": [
    "test_data[\"delay\"]=Y_predicted5.astype(int)"
   ]
  },
  {
   "cell_type": "code",
   "execution_count": 132,
   "id": "3d0cf2c7",
   "metadata": {},
   "outputs": [
    {
     "data": {
      "text/html": [
       "<div>\n",
       "<style scoped>\n",
       "    .dataframe tbody tr th:only-of-type {\n",
       "        vertical-align: middle;\n",
       "    }\n",
       "\n",
       "    .dataframe tbody tr th {\n",
       "        vertical-align: top;\n",
       "    }\n",
       "\n",
       "    .dataframe thead th {\n",
       "        text-align: right;\n",
       "    }\n",
       "</style>\n",
       "<table border=\"1\" class=\"dataframe\">\n",
       "  <thead>\n",
       "    <tr style=\"text-align: right;\">\n",
       "      <th></th>\n",
       "      <th>business_code</th>\n",
       "      <th>cust_number</th>\n",
       "      <th>name_customer</th>\n",
       "      <th>clear_date</th>\n",
       "      <th>buisness_year</th>\n",
       "      <th>doc_id</th>\n",
       "      <th>posting_date</th>\n",
       "      <th>document_create_date</th>\n",
       "      <th>document_create_date.1</th>\n",
       "      <th>due_in_date</th>\n",
       "      <th>invoice_currency</th>\n",
       "      <th>document type</th>\n",
       "      <th>posting_id</th>\n",
       "      <th>total_open_amount</th>\n",
       "      <th>baseline_create_date</th>\n",
       "      <th>cust_payment_terms</th>\n",
       "      <th>invoice_id</th>\n",
       "      <th>isOpen</th>\n",
       "      <th>delay</th>\n",
       "    </tr>\n",
       "  </thead>\n",
       "  <tbody>\n",
       "    <tr>\n",
       "      <th>10723</th>\n",
       "      <td>U001</td>\n",
       "      <td>0200772670</td>\n",
       "      <td>ASSOCIAT corporation</td>\n",
       "      <td>NaT</td>\n",
       "      <td>2020.0</td>\n",
       "      <td>1.930577e+09</td>\n",
       "      <td>2020-02-27</td>\n",
       "      <td>2020-02-27</td>\n",
       "      <td>2020-02-27</td>\n",
       "      <td>2020-03-13</td>\n",
       "      <td>USD</td>\n",
       "      <td>RV</td>\n",
       "      <td>1.0</td>\n",
       "      <td>2467.53</td>\n",
       "      <td>2020-02-27</td>\n",
       "      <td>NAU5</td>\n",
       "      <td>1.930577e+09</td>\n",
       "      <td>1</td>\n",
       "      <td>4</td>\n",
       "    </tr>\n",
       "    <tr>\n",
       "      <th>26418</th>\n",
       "      <td>U001</td>\n",
       "      <td>0200761734</td>\n",
       "      <td>H E BUT systems</td>\n",
       "      <td>NaT</td>\n",
       "      <td>2020.0</td>\n",
       "      <td>1.930578e+09</td>\n",
       "      <td>2020-02-27</td>\n",
       "      <td>2020-02-27</td>\n",
       "      <td>2020-02-27</td>\n",
       "      <td>2020-03-13</td>\n",
       "      <td>USD</td>\n",
       "      <td>RV</td>\n",
       "      <td>1.0</td>\n",
       "      <td>53703.88</td>\n",
       "      <td>2020-02-27</td>\n",
       "      <td>NAA8</td>\n",
       "      <td>1.930578e+09</td>\n",
       "      <td>1</td>\n",
       "      <td>3</td>\n",
       "    </tr>\n",
       "    <tr>\n",
       "      <th>10123</th>\n",
       "      <td>U001</td>\n",
       "      <td>0200749225</td>\n",
       "      <td>SUPER  associates</td>\n",
       "      <td>NaT</td>\n",
       "      <td>2020.0</td>\n",
       "      <td>1.930574e+09</td>\n",
       "      <td>2020-02-27</td>\n",
       "      <td>2020-02-26</td>\n",
       "      <td>2020-02-27</td>\n",
       "      <td>2020-03-13</td>\n",
       "      <td>USD</td>\n",
       "      <td>RV</td>\n",
       "      <td>1.0</td>\n",
       "      <td>44436.71</td>\n",
       "      <td>2020-02-27</td>\n",
       "      <td>NAA8</td>\n",
       "      <td>1.930574e+09</td>\n",
       "      <td>1</td>\n",
       "      <td>3</td>\n",
       "    </tr>\n",
       "    <tr>\n",
       "      <th>97</th>\n",
       "      <td>U001</td>\n",
       "      <td>0200759878</td>\n",
       "      <td>SA corporation</td>\n",
       "      <td>NaT</td>\n",
       "      <td>2020.0</td>\n",
       "      <td>1.930577e+09</td>\n",
       "      <td>2020-02-27</td>\n",
       "      <td>2020-02-27</td>\n",
       "      <td>2020-02-27</td>\n",
       "      <td>2020-03-13</td>\n",
       "      <td>USD</td>\n",
       "      <td>RV</td>\n",
       "      <td>1.0</td>\n",
       "      <td>39867.72</td>\n",
       "      <td>2020-02-27</td>\n",
       "      <td>NAH4</td>\n",
       "      <td>1.930577e+09</td>\n",
       "      <td>1</td>\n",
       "      <td>3</td>\n",
       "    </tr>\n",
       "    <tr>\n",
       "      <th>8658</th>\n",
       "      <td>U001</td>\n",
       "      <td>0200723794</td>\n",
       "      <td>MID MO associates</td>\n",
       "      <td>NaT</td>\n",
       "      <td>2020.0</td>\n",
       "      <td>1.930576e+09</td>\n",
       "      <td>2020-02-27</td>\n",
       "      <td>2020-02-27</td>\n",
       "      <td>2020-02-27</td>\n",
       "      <td>2020-05-02</td>\n",
       "      <td>USD</td>\n",
       "      <td>RV</td>\n",
       "      <td>1.0</td>\n",
       "      <td>21631.84</td>\n",
       "      <td>2020-02-27</td>\n",
       "      <td>NAGD</td>\n",
       "      <td>1.930576e+09</td>\n",
       "      <td>1</td>\n",
       "      <td>3</td>\n",
       "    </tr>\n",
       "    <tr>\n",
       "      <th>...</th>\n",
       "      <td>...</td>\n",
       "      <td>...</td>\n",
       "      <td>...</td>\n",
       "      <td>...</td>\n",
       "      <td>...</td>\n",
       "      <td>...</td>\n",
       "      <td>...</td>\n",
       "      <td>...</td>\n",
       "      <td>...</td>\n",
       "      <td>...</td>\n",
       "      <td>...</td>\n",
       "      <td>...</td>\n",
       "      <td>...</td>\n",
       "      <td>...</td>\n",
       "      <td>...</td>\n",
       "      <td>...</td>\n",
       "      <td>...</td>\n",
       "      <td>...</td>\n",
       "      <td>...</td>\n",
       "    </tr>\n",
       "    <tr>\n",
       "      <th>44647</th>\n",
       "      <td>CA02</td>\n",
       "      <td>0140104392</td>\n",
       "      <td>FLANAG llc</td>\n",
       "      <td>NaT</td>\n",
       "      <td>2020.0</td>\n",
       "      <td>2.960634e+09</td>\n",
       "      <td>2020-05-14</td>\n",
       "      <td>2020-05-14</td>\n",
       "      <td>2020-05-14</td>\n",
       "      <td>2020-05-24</td>\n",
       "      <td>CAD</td>\n",
       "      <td>RV</td>\n",
       "      <td>1.0</td>\n",
       "      <td>7032.80</td>\n",
       "      <td>2020-05-14</td>\n",
       "      <td>CA10</td>\n",
       "      <td>2.960634e+09</td>\n",
       "      <td>1</td>\n",
       "      <td>7</td>\n",
       "    </tr>\n",
       "    <tr>\n",
       "      <th>30814</th>\n",
       "      <td>U001</td>\n",
       "      <td>0200915438</td>\n",
       "      <td>GROC corporation</td>\n",
       "      <td>NaT</td>\n",
       "      <td>2020.0</td>\n",
       "      <td>1.930905e+09</td>\n",
       "      <td>2020-05-15</td>\n",
       "      <td>2020-05-15</td>\n",
       "      <td>2020-05-15</td>\n",
       "      <td>2020-05-30</td>\n",
       "      <td>USD</td>\n",
       "      <td>RV</td>\n",
       "      <td>1.0</td>\n",
       "      <td>24212.00</td>\n",
       "      <td>2020-05-15</td>\n",
       "      <td>NAA8</td>\n",
       "      <td>1.930905e+09</td>\n",
       "      <td>1</td>\n",
       "      <td>6</td>\n",
       "    </tr>\n",
       "    <tr>\n",
       "      <th>5065</th>\n",
       "      <td>U001</td>\n",
       "      <td>0200759878</td>\n",
       "      <td>SA associates</td>\n",
       "      <td>NaT</td>\n",
       "      <td>2020.0</td>\n",
       "      <td>1.930897e+09</td>\n",
       "      <td>2020-05-17</td>\n",
       "      <td>2020-05-13</td>\n",
       "      <td>2020-05-17</td>\n",
       "      <td>2020-06-01</td>\n",
       "      <td>USD</td>\n",
       "      <td>RV</td>\n",
       "      <td>1.0</td>\n",
       "      <td>22835.50</td>\n",
       "      <td>2020-05-17</td>\n",
       "      <td>NAH4</td>\n",
       "      <td>1.930897e+09</td>\n",
       "      <td>1</td>\n",
       "      <td>6</td>\n",
       "    </tr>\n",
       "    <tr>\n",
       "      <th>9870</th>\n",
       "      <td>U001</td>\n",
       "      <td>200765011</td>\n",
       "      <td>MAINES systems</td>\n",
       "      <td>NaT</td>\n",
       "      <td>2020.0</td>\n",
       "      <td>1.930915e+09</td>\n",
       "      <td>2020-05-18</td>\n",
       "      <td>2020-05-18</td>\n",
       "      <td>2020-05-18</td>\n",
       "      <td>2020-06-02</td>\n",
       "      <td>USD</td>\n",
       "      <td>RV</td>\n",
       "      <td>1.0</td>\n",
       "      <td>16099.20</td>\n",
       "      <td>2020-05-18</td>\n",
       "      <td>NAA8</td>\n",
       "      <td>1.930915e+09</td>\n",
       "      <td>1</td>\n",
       "      <td>6</td>\n",
       "    </tr>\n",
       "    <tr>\n",
       "      <th>34103</th>\n",
       "      <td>U013</td>\n",
       "      <td>0100046469</td>\n",
       "      <td>FRANQUICI</td>\n",
       "      <td>NaT</td>\n",
       "      <td>2020.0</td>\n",
       "      <td>1.991844e+09</td>\n",
       "      <td>2020-05-25</td>\n",
       "      <td>2020-05-21</td>\n",
       "      <td>2020-05-25</td>\n",
       "      <td>2020-05-25</td>\n",
       "      <td>USD</td>\n",
       "      <td>RV</td>\n",
       "      <td>1.0</td>\n",
       "      <td>13901.00</td>\n",
       "      <td>2020-05-25</td>\n",
       "      <td>NAUP</td>\n",
       "      <td>1.991844e+09</td>\n",
       "      <td>1</td>\n",
       "      <td>5</td>\n",
       "    </tr>\n",
       "  </tbody>\n",
       "</table>\n",
       "<p>10000 rows × 19 columns</p>\n",
       "</div>"
      ],
      "text/plain": [
       "      business_code cust_number         name_customer clear_date  \\\n",
       "10723          U001  0200772670  ASSOCIAT corporation        NaT   \n",
       "26418          U001  0200761734       H E BUT systems        NaT   \n",
       "10123          U001  0200749225     SUPER  associates        NaT   \n",
       "97             U001  0200759878        SA corporation        NaT   \n",
       "8658           U001  0200723794     MID MO associates        NaT   \n",
       "...             ...         ...                   ...        ...   \n",
       "44647          CA02  0140104392            FLANAG llc        NaT   \n",
       "30814          U001  0200915438      GROC corporation        NaT   \n",
       "5065           U001  0200759878         SA associates        NaT   \n",
       "9870           U001   200765011        MAINES systems        NaT   \n",
       "34103          U013  0100046469            FRANQUICI         NaT   \n",
       "\n",
       "       buisness_year        doc_id posting_date document_create_date  \\\n",
       "10723         2020.0  1.930577e+09   2020-02-27           2020-02-27   \n",
       "26418         2020.0  1.930578e+09   2020-02-27           2020-02-27   \n",
       "10123         2020.0  1.930574e+09   2020-02-27           2020-02-26   \n",
       "97            2020.0  1.930577e+09   2020-02-27           2020-02-27   \n",
       "8658          2020.0  1.930576e+09   2020-02-27           2020-02-27   \n",
       "...              ...           ...          ...                  ...   \n",
       "44647         2020.0  2.960634e+09   2020-05-14           2020-05-14   \n",
       "30814         2020.0  1.930905e+09   2020-05-15           2020-05-15   \n",
       "5065          2020.0  1.930897e+09   2020-05-17           2020-05-13   \n",
       "9870          2020.0  1.930915e+09   2020-05-18           2020-05-18   \n",
       "34103         2020.0  1.991844e+09   2020-05-25           2020-05-21   \n",
       "\n",
       "      document_create_date.1 due_in_date invoice_currency document type  \\\n",
       "10723             2020-02-27  2020-03-13              USD            RV   \n",
       "26418             2020-02-27  2020-03-13              USD            RV   \n",
       "10123             2020-02-27  2020-03-13              USD            RV   \n",
       "97                2020-02-27  2020-03-13              USD            RV   \n",
       "8658              2020-02-27  2020-05-02              USD            RV   \n",
       "...                      ...         ...              ...           ...   \n",
       "44647             2020-05-14  2020-05-24              CAD            RV   \n",
       "30814             2020-05-15  2020-05-30              USD            RV   \n",
       "5065              2020-05-17  2020-06-01              USD            RV   \n",
       "9870              2020-05-18  2020-06-02              USD            RV   \n",
       "34103             2020-05-25  2020-05-25              USD            RV   \n",
       "\n",
       "       posting_id  total_open_amount baseline_create_date cust_payment_terms  \\\n",
       "10723         1.0            2467.53           2020-02-27               NAU5   \n",
       "26418         1.0           53703.88           2020-02-27               NAA8   \n",
       "10123         1.0           44436.71           2020-02-27               NAA8   \n",
       "97            1.0           39867.72           2020-02-27               NAH4   \n",
       "8658          1.0           21631.84           2020-02-27               NAGD   \n",
       "...           ...                ...                  ...                ...   \n",
       "44647         1.0            7032.80           2020-05-14               CA10   \n",
       "30814         1.0           24212.00           2020-05-15               NAA8   \n",
       "5065          1.0           22835.50           2020-05-17               NAH4   \n",
       "9870          1.0           16099.20           2020-05-18               NAA8   \n",
       "34103         1.0           13901.00           2020-05-25               NAUP   \n",
       "\n",
       "         invoice_id  isOpen  delay  \n",
       "10723  1.930577e+09       1      4  \n",
       "26418  1.930578e+09       1      3  \n",
       "10123  1.930574e+09       1      3  \n",
       "97     1.930577e+09       1      3  \n",
       "8658   1.930576e+09       1      3  \n",
       "...             ...     ...    ...  \n",
       "44647  2.960634e+09       1      7  \n",
       "30814  1.930905e+09       1      6  \n",
       "5065   1.930897e+09       1      6  \n",
       "9870   1.930915e+09       1      6  \n",
       "34103  1.991844e+09       1      5  \n",
       "\n",
       "[10000 rows x 19 columns]"
      ]
     },
     "execution_count": 132,
     "metadata": {},
     "output_type": "execute_result"
    }
   ],
   "source": [
    "test_data"
   ]
  },
  {
   "cell_type": "code",
   "execution_count": 133,
   "id": "f7ba6202",
   "metadata": {},
   "outputs": [],
   "source": [
    "#adding values to the clear date column by adding the predicted delay to the due_in_date\n",
    "test_data[\"clear_date\"]=test_data[\"due_in_date\"]+pd.to_timedelta(test_data[\"delay\"],unit=\"days\")"
   ]
  },
  {
   "cell_type": "code",
   "execution_count": 134,
   "id": "6cd14568",
   "metadata": {},
   "outputs": [
    {
     "data": {
      "text/html": [
       "<div>\n",
       "<style scoped>\n",
       "    .dataframe tbody tr th:only-of-type {\n",
       "        vertical-align: middle;\n",
       "    }\n",
       "\n",
       "    .dataframe tbody tr th {\n",
       "        vertical-align: top;\n",
       "    }\n",
       "\n",
       "    .dataframe thead th {\n",
       "        text-align: right;\n",
       "    }\n",
       "</style>\n",
       "<table border=\"1\" class=\"dataframe\">\n",
       "  <thead>\n",
       "    <tr style=\"text-align: right;\">\n",
       "      <th></th>\n",
       "      <th>business_code</th>\n",
       "      <th>cust_number</th>\n",
       "      <th>name_customer</th>\n",
       "      <th>clear_date</th>\n",
       "      <th>buisness_year</th>\n",
       "      <th>doc_id</th>\n",
       "      <th>posting_date</th>\n",
       "      <th>document_create_date</th>\n",
       "      <th>document_create_date.1</th>\n",
       "      <th>due_in_date</th>\n",
       "      <th>invoice_currency</th>\n",
       "      <th>document type</th>\n",
       "      <th>posting_id</th>\n",
       "      <th>total_open_amount</th>\n",
       "      <th>baseline_create_date</th>\n",
       "      <th>cust_payment_terms</th>\n",
       "      <th>invoice_id</th>\n",
       "      <th>isOpen</th>\n",
       "      <th>delay</th>\n",
       "    </tr>\n",
       "  </thead>\n",
       "  <tbody>\n",
       "    <tr>\n",
       "      <th>10723</th>\n",
       "      <td>U001</td>\n",
       "      <td>0200772670</td>\n",
       "      <td>ASSOCIAT corporation</td>\n",
       "      <td>2020-03-17</td>\n",
       "      <td>2020.0</td>\n",
       "      <td>1.930577e+09</td>\n",
       "      <td>2020-02-27</td>\n",
       "      <td>2020-02-27</td>\n",
       "      <td>2020-02-27</td>\n",
       "      <td>2020-03-13</td>\n",
       "      <td>USD</td>\n",
       "      <td>RV</td>\n",
       "      <td>1.0</td>\n",
       "      <td>2467.53</td>\n",
       "      <td>2020-02-27</td>\n",
       "      <td>NAU5</td>\n",
       "      <td>1.930577e+09</td>\n",
       "      <td>1</td>\n",
       "      <td>4</td>\n",
       "    </tr>\n",
       "    <tr>\n",
       "      <th>26418</th>\n",
       "      <td>U001</td>\n",
       "      <td>0200761734</td>\n",
       "      <td>H E BUT systems</td>\n",
       "      <td>2020-03-16</td>\n",
       "      <td>2020.0</td>\n",
       "      <td>1.930578e+09</td>\n",
       "      <td>2020-02-27</td>\n",
       "      <td>2020-02-27</td>\n",
       "      <td>2020-02-27</td>\n",
       "      <td>2020-03-13</td>\n",
       "      <td>USD</td>\n",
       "      <td>RV</td>\n",
       "      <td>1.0</td>\n",
       "      <td>53703.88</td>\n",
       "      <td>2020-02-27</td>\n",
       "      <td>NAA8</td>\n",
       "      <td>1.930578e+09</td>\n",
       "      <td>1</td>\n",
       "      <td>3</td>\n",
       "    </tr>\n",
       "    <tr>\n",
       "      <th>10123</th>\n",
       "      <td>U001</td>\n",
       "      <td>0200749225</td>\n",
       "      <td>SUPER  associates</td>\n",
       "      <td>2020-03-16</td>\n",
       "      <td>2020.0</td>\n",
       "      <td>1.930574e+09</td>\n",
       "      <td>2020-02-27</td>\n",
       "      <td>2020-02-26</td>\n",
       "      <td>2020-02-27</td>\n",
       "      <td>2020-03-13</td>\n",
       "      <td>USD</td>\n",
       "      <td>RV</td>\n",
       "      <td>1.0</td>\n",
       "      <td>44436.71</td>\n",
       "      <td>2020-02-27</td>\n",
       "      <td>NAA8</td>\n",
       "      <td>1.930574e+09</td>\n",
       "      <td>1</td>\n",
       "      <td>3</td>\n",
       "    </tr>\n",
       "    <tr>\n",
       "      <th>97</th>\n",
       "      <td>U001</td>\n",
       "      <td>0200759878</td>\n",
       "      <td>SA corporation</td>\n",
       "      <td>2020-03-16</td>\n",
       "      <td>2020.0</td>\n",
       "      <td>1.930577e+09</td>\n",
       "      <td>2020-02-27</td>\n",
       "      <td>2020-02-27</td>\n",
       "      <td>2020-02-27</td>\n",
       "      <td>2020-03-13</td>\n",
       "      <td>USD</td>\n",
       "      <td>RV</td>\n",
       "      <td>1.0</td>\n",
       "      <td>39867.72</td>\n",
       "      <td>2020-02-27</td>\n",
       "      <td>NAH4</td>\n",
       "      <td>1.930577e+09</td>\n",
       "      <td>1</td>\n",
       "      <td>3</td>\n",
       "    </tr>\n",
       "    <tr>\n",
       "      <th>8658</th>\n",
       "      <td>U001</td>\n",
       "      <td>0200723794</td>\n",
       "      <td>MID MO associates</td>\n",
       "      <td>2020-05-05</td>\n",
       "      <td>2020.0</td>\n",
       "      <td>1.930576e+09</td>\n",
       "      <td>2020-02-27</td>\n",
       "      <td>2020-02-27</td>\n",
       "      <td>2020-02-27</td>\n",
       "      <td>2020-05-02</td>\n",
       "      <td>USD</td>\n",
       "      <td>RV</td>\n",
       "      <td>1.0</td>\n",
       "      <td>21631.84</td>\n",
       "      <td>2020-02-27</td>\n",
       "      <td>NAGD</td>\n",
       "      <td>1.930576e+09</td>\n",
       "      <td>1</td>\n",
       "      <td>3</td>\n",
       "    </tr>\n",
       "  </tbody>\n",
       "</table>\n",
       "</div>"
      ],
      "text/plain": [
       "      business_code cust_number         name_customer clear_date  \\\n",
       "10723          U001  0200772670  ASSOCIAT corporation 2020-03-17   \n",
       "26418          U001  0200761734       H E BUT systems 2020-03-16   \n",
       "10123          U001  0200749225     SUPER  associates 2020-03-16   \n",
       "97             U001  0200759878        SA corporation 2020-03-16   \n",
       "8658           U001  0200723794     MID MO associates 2020-05-05   \n",
       "\n",
       "       buisness_year        doc_id posting_date document_create_date  \\\n",
       "10723         2020.0  1.930577e+09   2020-02-27           2020-02-27   \n",
       "26418         2020.0  1.930578e+09   2020-02-27           2020-02-27   \n",
       "10123         2020.0  1.930574e+09   2020-02-27           2020-02-26   \n",
       "97            2020.0  1.930577e+09   2020-02-27           2020-02-27   \n",
       "8658          2020.0  1.930576e+09   2020-02-27           2020-02-27   \n",
       "\n",
       "      document_create_date.1 due_in_date invoice_currency document type  \\\n",
       "10723             2020-02-27  2020-03-13              USD            RV   \n",
       "26418             2020-02-27  2020-03-13              USD            RV   \n",
       "10123             2020-02-27  2020-03-13              USD            RV   \n",
       "97                2020-02-27  2020-03-13              USD            RV   \n",
       "8658              2020-02-27  2020-05-02              USD            RV   \n",
       "\n",
       "       posting_id  total_open_amount baseline_create_date cust_payment_terms  \\\n",
       "10723         1.0            2467.53           2020-02-27               NAU5   \n",
       "26418         1.0           53703.88           2020-02-27               NAA8   \n",
       "10123         1.0           44436.71           2020-02-27               NAA8   \n",
       "97            1.0           39867.72           2020-02-27               NAH4   \n",
       "8658          1.0           21631.84           2020-02-27               NAGD   \n",
       "\n",
       "         invoice_id  isOpen  delay  \n",
       "10723  1.930577e+09       1      4  \n",
       "26418  1.930578e+09       1      3  \n",
       "10123  1.930574e+09       1      3  \n",
       "97     1.930577e+09       1      3  \n",
       "8658   1.930576e+09       1      3  "
      ]
     },
     "execution_count": 134,
     "metadata": {},
     "output_type": "execute_result"
    }
   ],
   "source": [
    "test_data.head()"
   ]
  },
  {
   "cell_type": "code",
   "execution_count": 135,
   "id": "56ebda8e",
   "metadata": {},
   "outputs": [
    {
     "data": {
      "text/plain": [
       "count    10000.000000\n",
       "mean         5.205900\n",
       "std          3.677725\n",
       "min          0.000000\n",
       "25%          3.000000\n",
       "50%          6.000000\n",
       "75%          6.000000\n",
       "max         56.000000\n",
       "Name: delay, dtype: float64"
      ]
     },
     "execution_count": 135,
     "metadata": {},
     "output_type": "execute_result"
    }
   ],
   "source": [
    "test_data[\"delay\"].describe()"
   ]
  },
  {
   "cell_type": "markdown",
   "id": "487da1d8",
   "metadata": {},
   "source": [
    "# Adding aging bucket"
   ]
  },
  {
   "cell_type": "code",
   "execution_count": 136,
   "id": "7827c17c",
   "metadata": {},
   "outputs": [],
   "source": [
    "bin_rnges=[-365,15,30,45,60,365]\n",
    "bin_name=[\"0-15 days\",\"16-30 days\",\"30-45 days\",\"45-60 days\",\">60 days\"]\n",
    "test_data[\"aging bucket\"]=pd.cut(test_data[\"delay\"],bins=bin_rnges,labels=bin_name)"
   ]
  },
  {
   "cell_type": "code",
   "execution_count": 137,
   "id": "07f67dab",
   "metadata": {},
   "outputs": [
    {
     "data": {
      "text/html": [
       "<div>\n",
       "<style scoped>\n",
       "    .dataframe tbody tr th:only-of-type {\n",
       "        vertical-align: middle;\n",
       "    }\n",
       "\n",
       "    .dataframe tbody tr th {\n",
       "        vertical-align: top;\n",
       "    }\n",
       "\n",
       "    .dataframe thead th {\n",
       "        text-align: right;\n",
       "    }\n",
       "</style>\n",
       "<table border=\"1\" class=\"dataframe\">\n",
       "  <thead>\n",
       "    <tr style=\"text-align: right;\">\n",
       "      <th></th>\n",
       "      <th>business_code</th>\n",
       "      <th>cust_number</th>\n",
       "      <th>name_customer</th>\n",
       "      <th>clear_date</th>\n",
       "      <th>buisness_year</th>\n",
       "      <th>doc_id</th>\n",
       "      <th>posting_date</th>\n",
       "      <th>document_create_date</th>\n",
       "      <th>document_create_date.1</th>\n",
       "      <th>due_in_date</th>\n",
       "      <th>invoice_currency</th>\n",
       "      <th>document type</th>\n",
       "      <th>posting_id</th>\n",
       "      <th>total_open_amount</th>\n",
       "      <th>baseline_create_date</th>\n",
       "      <th>cust_payment_terms</th>\n",
       "      <th>invoice_id</th>\n",
       "      <th>isOpen</th>\n",
       "      <th>delay</th>\n",
       "      <th>aging bucket</th>\n",
       "    </tr>\n",
       "  </thead>\n",
       "  <tbody>\n",
       "    <tr>\n",
       "      <th>10723</th>\n",
       "      <td>U001</td>\n",
       "      <td>0200772670</td>\n",
       "      <td>ASSOCIAT corporation</td>\n",
       "      <td>2020-03-17</td>\n",
       "      <td>2020.0</td>\n",
       "      <td>1.930577e+09</td>\n",
       "      <td>2020-02-27</td>\n",
       "      <td>2020-02-27</td>\n",
       "      <td>2020-02-27</td>\n",
       "      <td>2020-03-13</td>\n",
       "      <td>USD</td>\n",
       "      <td>RV</td>\n",
       "      <td>1.0</td>\n",
       "      <td>2467.53</td>\n",
       "      <td>2020-02-27</td>\n",
       "      <td>NAU5</td>\n",
       "      <td>1.930577e+09</td>\n",
       "      <td>1</td>\n",
       "      <td>4</td>\n",
       "      <td>0-15 days</td>\n",
       "    </tr>\n",
       "    <tr>\n",
       "      <th>26418</th>\n",
       "      <td>U001</td>\n",
       "      <td>0200761734</td>\n",
       "      <td>H E BUT systems</td>\n",
       "      <td>2020-03-16</td>\n",
       "      <td>2020.0</td>\n",
       "      <td>1.930578e+09</td>\n",
       "      <td>2020-02-27</td>\n",
       "      <td>2020-02-27</td>\n",
       "      <td>2020-02-27</td>\n",
       "      <td>2020-03-13</td>\n",
       "      <td>USD</td>\n",
       "      <td>RV</td>\n",
       "      <td>1.0</td>\n",
       "      <td>53703.88</td>\n",
       "      <td>2020-02-27</td>\n",
       "      <td>NAA8</td>\n",
       "      <td>1.930578e+09</td>\n",
       "      <td>1</td>\n",
       "      <td>3</td>\n",
       "      <td>0-15 days</td>\n",
       "    </tr>\n",
       "    <tr>\n",
       "      <th>10123</th>\n",
       "      <td>U001</td>\n",
       "      <td>0200749225</td>\n",
       "      <td>SUPER  associates</td>\n",
       "      <td>2020-03-16</td>\n",
       "      <td>2020.0</td>\n",
       "      <td>1.930574e+09</td>\n",
       "      <td>2020-02-27</td>\n",
       "      <td>2020-02-26</td>\n",
       "      <td>2020-02-27</td>\n",
       "      <td>2020-03-13</td>\n",
       "      <td>USD</td>\n",
       "      <td>RV</td>\n",
       "      <td>1.0</td>\n",
       "      <td>44436.71</td>\n",
       "      <td>2020-02-27</td>\n",
       "      <td>NAA8</td>\n",
       "      <td>1.930574e+09</td>\n",
       "      <td>1</td>\n",
       "      <td>3</td>\n",
       "      <td>0-15 days</td>\n",
       "    </tr>\n",
       "    <tr>\n",
       "      <th>97</th>\n",
       "      <td>U001</td>\n",
       "      <td>0200759878</td>\n",
       "      <td>SA corporation</td>\n",
       "      <td>2020-03-16</td>\n",
       "      <td>2020.0</td>\n",
       "      <td>1.930577e+09</td>\n",
       "      <td>2020-02-27</td>\n",
       "      <td>2020-02-27</td>\n",
       "      <td>2020-02-27</td>\n",
       "      <td>2020-03-13</td>\n",
       "      <td>USD</td>\n",
       "      <td>RV</td>\n",
       "      <td>1.0</td>\n",
       "      <td>39867.72</td>\n",
       "      <td>2020-02-27</td>\n",
       "      <td>NAH4</td>\n",
       "      <td>1.930577e+09</td>\n",
       "      <td>1</td>\n",
       "      <td>3</td>\n",
       "      <td>0-15 days</td>\n",
       "    </tr>\n",
       "    <tr>\n",
       "      <th>8658</th>\n",
       "      <td>U001</td>\n",
       "      <td>0200723794</td>\n",
       "      <td>MID MO associates</td>\n",
       "      <td>2020-05-05</td>\n",
       "      <td>2020.0</td>\n",
       "      <td>1.930576e+09</td>\n",
       "      <td>2020-02-27</td>\n",
       "      <td>2020-02-27</td>\n",
       "      <td>2020-02-27</td>\n",
       "      <td>2020-05-02</td>\n",
       "      <td>USD</td>\n",
       "      <td>RV</td>\n",
       "      <td>1.0</td>\n",
       "      <td>21631.84</td>\n",
       "      <td>2020-02-27</td>\n",
       "      <td>NAGD</td>\n",
       "      <td>1.930576e+09</td>\n",
       "      <td>1</td>\n",
       "      <td>3</td>\n",
       "      <td>0-15 days</td>\n",
       "    </tr>\n",
       "    <tr>\n",
       "      <th>...</th>\n",
       "      <td>...</td>\n",
       "      <td>...</td>\n",
       "      <td>...</td>\n",
       "      <td>...</td>\n",
       "      <td>...</td>\n",
       "      <td>...</td>\n",
       "      <td>...</td>\n",
       "      <td>...</td>\n",
       "      <td>...</td>\n",
       "      <td>...</td>\n",
       "      <td>...</td>\n",
       "      <td>...</td>\n",
       "      <td>...</td>\n",
       "      <td>...</td>\n",
       "      <td>...</td>\n",
       "      <td>...</td>\n",
       "      <td>...</td>\n",
       "      <td>...</td>\n",
       "      <td>...</td>\n",
       "      <td>...</td>\n",
       "    </tr>\n",
       "    <tr>\n",
       "      <th>44647</th>\n",
       "      <td>CA02</td>\n",
       "      <td>0140104392</td>\n",
       "      <td>FLANAG llc</td>\n",
       "      <td>2020-05-31</td>\n",
       "      <td>2020.0</td>\n",
       "      <td>2.960634e+09</td>\n",
       "      <td>2020-05-14</td>\n",
       "      <td>2020-05-14</td>\n",
       "      <td>2020-05-14</td>\n",
       "      <td>2020-05-24</td>\n",
       "      <td>CAD</td>\n",
       "      <td>RV</td>\n",
       "      <td>1.0</td>\n",
       "      <td>7032.80</td>\n",
       "      <td>2020-05-14</td>\n",
       "      <td>CA10</td>\n",
       "      <td>2.960634e+09</td>\n",
       "      <td>1</td>\n",
       "      <td>7</td>\n",
       "      <td>0-15 days</td>\n",
       "    </tr>\n",
       "    <tr>\n",
       "      <th>30814</th>\n",
       "      <td>U001</td>\n",
       "      <td>0200915438</td>\n",
       "      <td>GROC corporation</td>\n",
       "      <td>2020-06-05</td>\n",
       "      <td>2020.0</td>\n",
       "      <td>1.930905e+09</td>\n",
       "      <td>2020-05-15</td>\n",
       "      <td>2020-05-15</td>\n",
       "      <td>2020-05-15</td>\n",
       "      <td>2020-05-30</td>\n",
       "      <td>USD</td>\n",
       "      <td>RV</td>\n",
       "      <td>1.0</td>\n",
       "      <td>24212.00</td>\n",
       "      <td>2020-05-15</td>\n",
       "      <td>NAA8</td>\n",
       "      <td>1.930905e+09</td>\n",
       "      <td>1</td>\n",
       "      <td>6</td>\n",
       "      <td>0-15 days</td>\n",
       "    </tr>\n",
       "    <tr>\n",
       "      <th>5065</th>\n",
       "      <td>U001</td>\n",
       "      <td>0200759878</td>\n",
       "      <td>SA associates</td>\n",
       "      <td>2020-06-07</td>\n",
       "      <td>2020.0</td>\n",
       "      <td>1.930897e+09</td>\n",
       "      <td>2020-05-17</td>\n",
       "      <td>2020-05-13</td>\n",
       "      <td>2020-05-17</td>\n",
       "      <td>2020-06-01</td>\n",
       "      <td>USD</td>\n",
       "      <td>RV</td>\n",
       "      <td>1.0</td>\n",
       "      <td>22835.50</td>\n",
       "      <td>2020-05-17</td>\n",
       "      <td>NAH4</td>\n",
       "      <td>1.930897e+09</td>\n",
       "      <td>1</td>\n",
       "      <td>6</td>\n",
       "      <td>0-15 days</td>\n",
       "    </tr>\n",
       "    <tr>\n",
       "      <th>9870</th>\n",
       "      <td>U001</td>\n",
       "      <td>200765011</td>\n",
       "      <td>MAINES systems</td>\n",
       "      <td>2020-06-08</td>\n",
       "      <td>2020.0</td>\n",
       "      <td>1.930915e+09</td>\n",
       "      <td>2020-05-18</td>\n",
       "      <td>2020-05-18</td>\n",
       "      <td>2020-05-18</td>\n",
       "      <td>2020-06-02</td>\n",
       "      <td>USD</td>\n",
       "      <td>RV</td>\n",
       "      <td>1.0</td>\n",
       "      <td>16099.20</td>\n",
       "      <td>2020-05-18</td>\n",
       "      <td>NAA8</td>\n",
       "      <td>1.930915e+09</td>\n",
       "      <td>1</td>\n",
       "      <td>6</td>\n",
       "      <td>0-15 days</td>\n",
       "    </tr>\n",
       "    <tr>\n",
       "      <th>34103</th>\n",
       "      <td>U013</td>\n",
       "      <td>0100046469</td>\n",
       "      <td>FRANQUICI</td>\n",
       "      <td>2020-05-30</td>\n",
       "      <td>2020.0</td>\n",
       "      <td>1.991844e+09</td>\n",
       "      <td>2020-05-25</td>\n",
       "      <td>2020-05-21</td>\n",
       "      <td>2020-05-25</td>\n",
       "      <td>2020-05-25</td>\n",
       "      <td>USD</td>\n",
       "      <td>RV</td>\n",
       "      <td>1.0</td>\n",
       "      <td>13901.00</td>\n",
       "      <td>2020-05-25</td>\n",
       "      <td>NAUP</td>\n",
       "      <td>1.991844e+09</td>\n",
       "      <td>1</td>\n",
       "      <td>5</td>\n",
       "      <td>0-15 days</td>\n",
       "    </tr>\n",
       "  </tbody>\n",
       "</table>\n",
       "<p>10000 rows × 20 columns</p>\n",
       "</div>"
      ],
      "text/plain": [
       "      business_code cust_number         name_customer clear_date  \\\n",
       "10723          U001  0200772670  ASSOCIAT corporation 2020-03-17   \n",
       "26418          U001  0200761734       H E BUT systems 2020-03-16   \n",
       "10123          U001  0200749225     SUPER  associates 2020-03-16   \n",
       "97             U001  0200759878        SA corporation 2020-03-16   \n",
       "8658           U001  0200723794     MID MO associates 2020-05-05   \n",
       "...             ...         ...                   ...        ...   \n",
       "44647          CA02  0140104392            FLANAG llc 2020-05-31   \n",
       "30814          U001  0200915438      GROC corporation 2020-06-05   \n",
       "5065           U001  0200759878         SA associates 2020-06-07   \n",
       "9870           U001   200765011        MAINES systems 2020-06-08   \n",
       "34103          U013  0100046469            FRANQUICI  2020-05-30   \n",
       "\n",
       "       buisness_year        doc_id posting_date document_create_date  \\\n",
       "10723         2020.0  1.930577e+09   2020-02-27           2020-02-27   \n",
       "26418         2020.0  1.930578e+09   2020-02-27           2020-02-27   \n",
       "10123         2020.0  1.930574e+09   2020-02-27           2020-02-26   \n",
       "97            2020.0  1.930577e+09   2020-02-27           2020-02-27   \n",
       "8658          2020.0  1.930576e+09   2020-02-27           2020-02-27   \n",
       "...              ...           ...          ...                  ...   \n",
       "44647         2020.0  2.960634e+09   2020-05-14           2020-05-14   \n",
       "30814         2020.0  1.930905e+09   2020-05-15           2020-05-15   \n",
       "5065          2020.0  1.930897e+09   2020-05-17           2020-05-13   \n",
       "9870          2020.0  1.930915e+09   2020-05-18           2020-05-18   \n",
       "34103         2020.0  1.991844e+09   2020-05-25           2020-05-21   \n",
       "\n",
       "      document_create_date.1 due_in_date invoice_currency document type  \\\n",
       "10723             2020-02-27  2020-03-13              USD            RV   \n",
       "26418             2020-02-27  2020-03-13              USD            RV   \n",
       "10123             2020-02-27  2020-03-13              USD            RV   \n",
       "97                2020-02-27  2020-03-13              USD            RV   \n",
       "8658              2020-02-27  2020-05-02              USD            RV   \n",
       "...                      ...         ...              ...           ...   \n",
       "44647             2020-05-14  2020-05-24              CAD            RV   \n",
       "30814             2020-05-15  2020-05-30              USD            RV   \n",
       "5065              2020-05-17  2020-06-01              USD            RV   \n",
       "9870              2020-05-18  2020-06-02              USD            RV   \n",
       "34103             2020-05-25  2020-05-25              USD            RV   \n",
       "\n",
       "       posting_id  total_open_amount baseline_create_date cust_payment_terms  \\\n",
       "10723         1.0            2467.53           2020-02-27               NAU5   \n",
       "26418         1.0           53703.88           2020-02-27               NAA8   \n",
       "10123         1.0           44436.71           2020-02-27               NAA8   \n",
       "97            1.0           39867.72           2020-02-27               NAH4   \n",
       "8658          1.0           21631.84           2020-02-27               NAGD   \n",
       "...           ...                ...                  ...                ...   \n",
       "44647         1.0            7032.80           2020-05-14               CA10   \n",
       "30814         1.0           24212.00           2020-05-15               NAA8   \n",
       "5065          1.0           22835.50           2020-05-17               NAH4   \n",
       "9870          1.0           16099.20           2020-05-18               NAA8   \n",
       "34103         1.0           13901.00           2020-05-25               NAUP   \n",
       "\n",
       "         invoice_id  isOpen  delay aging bucket  \n",
       "10723  1.930577e+09       1      4    0-15 days  \n",
       "26418  1.930578e+09       1      3    0-15 days  \n",
       "10123  1.930574e+09       1      3    0-15 days  \n",
       "97     1.930577e+09       1      3    0-15 days  \n",
       "8658   1.930576e+09       1      3    0-15 days  \n",
       "...             ...     ...    ...          ...  \n",
       "44647  2.960634e+09       1      7    0-15 days  \n",
       "30814  1.930905e+09       1      6    0-15 days  \n",
       "5065   1.930897e+09       1      6    0-15 days  \n",
       "9870   1.930915e+09       1      6    0-15 days  \n",
       "34103  1.991844e+09       1      5    0-15 days  \n",
       "\n",
       "[10000 rows x 20 columns]"
      ]
     },
     "execution_count": 137,
     "metadata": {},
     "output_type": "execute_result"
    }
   ],
   "source": [
    "test_data"
   ]
  },
  {
   "cell_type": "code",
   "execution_count": 141,
   "id": "be97dc98",
   "metadata": {},
   "outputs": [],
   "source": [
    "result=test_data[[\"cust_number\",\"name_customer\",\"invoice_id\",\"total_open_amount\",\"due_in_date\",\"clear_date\"]]"
   ]
  },
  {
   "cell_type": "code",
   "execution_count": 142,
   "id": "a7477702",
   "metadata": {},
   "outputs": [],
   "source": [
    "result.to_csv(\"Predicted Dataset.csv\")"
   ]
  },
  {
   "cell_type": "code",
   "execution_count": null,
   "id": "946e89c4",
   "metadata": {},
   "outputs": [],
   "source": []
  }
 ],
 "metadata": {
  "kernelspec": {
   "display_name": "Python 3",
   "language": "python",
   "name": "python3"
  },
  "language_info": {
   "codemirror_mode": {
    "name": "ipython",
    "version": 3
   },
   "file_extension": ".py",
   "mimetype": "text/x-python",
   "name": "python",
   "nbconvert_exporter": "python",
   "pygments_lexer": "ipython3",
   "version": "3.9.6"
  }
 },
 "nbformat": 4,
 "nbformat_minor": 5
}
